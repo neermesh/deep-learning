{
  "nbformat": 4,
  "nbformat_minor": 0,
  "metadata": {
    "colab": {
      "name": "tensorflow_LSTM",
      "provenance": [],
      "collapsed_sections": [],
      "authorship_tag": "ABX9TyPDnwUFL9A8hxTLDoZwjDAC",
      "include_colab_link": true
    },
    "kernelspec": {
      "name": "python3",
      "display_name": "Python 3"
    },
    "accelerator": "TPU"
  },
  "cells": [
    {
      "cell_type": "markdown",
      "metadata": {
        "id": "view-in-github",
        "colab_type": "text"
      },
      "source": [
        "<a href=\"https://colab.research.google.com/github/neermesh/deep-learning/blob/master/tensorflow_LSTM.ipynb\" target=\"_parent\"><img src=\"https://colab.research.google.com/assets/colab-badge.svg\" alt=\"Open In Colab\"/></a>"
      ]
    },
    {
      "cell_type": "code",
      "metadata": {
        "id": "v7wyznk99oTu",
        "colab_type": "code",
        "outputId": "e524204c-0f99-452f-c429-d36a806be800",
        "colab": {
          "base_uri": "https://localhost:8080/",
          "height": 124
        }
      },
      "source": [
        "from google.colab import drive\n",
        "drive.mount('/content/gdrive')"
      ],
      "execution_count": 0,
      "outputs": [
        {
          "output_type": "stream",
          "text": [
            "Go to this URL in a browser: https://accounts.google.com/o/oauth2/auth?client_id=947318989803-6bn6qk8qdgf4n4g3pfee6491hc0brc4i.apps.googleusercontent.com&redirect_uri=urn%3aietf%3awg%3aoauth%3a2.0%3aoob&response_type=code&scope=email%20https%3a%2f%2fwww.googleapis.com%2fauth%2fdocs.test%20https%3a%2f%2fwww.googleapis.com%2fauth%2fdrive%20https%3a%2f%2fwww.googleapis.com%2fauth%2fdrive.photos.readonly%20https%3a%2f%2fwww.googleapis.com%2fauth%2fpeopleapi.readonly\n",
            "\n",
            "Enter your authorization code:\n",
            "··········\n",
            "Mounted at /content/gdrive\n"
          ],
          "name": "stdout"
        }
      ]
    },
    {
      "cell_type": "code",
      "metadata": {
        "id": "4BSLf3PW9pXv",
        "colab_type": "code",
        "colab": {}
      },
      "source": [
        "import numpy as np\n",
        "import pandas as pd\n",
        "import tensorflow as tf\n",
        "import matplotlib.pyplot as plt"
      ],
      "execution_count": 0,
      "outputs": []
    },
    {
      "cell_type": "code",
      "metadata": {
        "id": "1g7gM4pB-ixs",
        "colab_type": "code",
        "outputId": "ba3c2801-fca0-485b-ca3f-afd7fda88fff",
        "colab": {
          "base_uri": "https://localhost:8080/",
          "height": 52
        }
      },
      "source": [
        "ls gdrive/My\\ Drive"
      ],
      "execution_count": 0,
      "outputs": [
        {
          "output_type": "stream",
          "text": [
            "\u001b[0m\u001b[01;34m'Colab Notebooks'\u001b[0m/      NSE-TATAGLOBAL.csv  'Untitled Jam'\n",
            "'Getting started.pdf'   tatatest.csv\n"
          ],
          "name": "stdout"
        }
      ]
    },
    {
      "cell_type": "code",
      "metadata": {
        "id": "3U5n-fqR-7f5",
        "colab_type": "code",
        "colab": {}
      },
      "source": [
        "dataset_train = pd.read_csv('gdrive/My Drive/NSE-TATAGLOBAL.csv')\n",
        "training_set = dataset_train.iloc[:,1:2].values"
      ],
      "execution_count": 0,
      "outputs": []
    },
    {
      "cell_type": "code",
      "metadata": {
        "id": "kQE5pNpa_Yoz",
        "colab_type": "code",
        "outputId": "352a1ec1-14d7-47e2-f550-13c1a4a5f553",
        "colab": {
          "base_uri": "https://localhost:8080/",
          "height": 206
        }
      },
      "source": [
        "dataset_train.head()"
      ],
      "execution_count": 0,
      "outputs": [
        {
          "output_type": "execute_result",
          "data": {
            "text/html": [
              "<div>\n",
              "<style scoped>\n",
              "    .dataframe tbody tr th:only-of-type {\n",
              "        vertical-align: middle;\n",
              "    }\n",
              "\n",
              "    .dataframe tbody tr th {\n",
              "        vertical-align: top;\n",
              "    }\n",
              "\n",
              "    .dataframe thead th {\n",
              "        text-align: right;\n",
              "    }\n",
              "</style>\n",
              "<table border=\"1\" class=\"dataframe\">\n",
              "  <thead>\n",
              "    <tr style=\"text-align: right;\">\n",
              "      <th></th>\n",
              "      <th>Date</th>\n",
              "      <th>Open</th>\n",
              "      <th>High</th>\n",
              "      <th>Low</th>\n",
              "      <th>Last</th>\n",
              "      <th>Close</th>\n",
              "      <th>Total Trade Quantity</th>\n",
              "      <th>Turnover (Lacs)</th>\n",
              "    </tr>\n",
              "  </thead>\n",
              "  <tbody>\n",
              "    <tr>\n",
              "      <th>0</th>\n",
              "      <td>2018-09-28</td>\n",
              "      <td>234.05</td>\n",
              "      <td>235.95</td>\n",
              "      <td>230.20</td>\n",
              "      <td>233.50</td>\n",
              "      <td>233.75</td>\n",
              "      <td>3069914</td>\n",
              "      <td>7162.35</td>\n",
              "    </tr>\n",
              "    <tr>\n",
              "      <th>1</th>\n",
              "      <td>2018-09-27</td>\n",
              "      <td>234.55</td>\n",
              "      <td>236.80</td>\n",
              "      <td>231.10</td>\n",
              "      <td>233.80</td>\n",
              "      <td>233.25</td>\n",
              "      <td>5082859</td>\n",
              "      <td>11859.95</td>\n",
              "    </tr>\n",
              "    <tr>\n",
              "      <th>2</th>\n",
              "      <td>2018-09-26</td>\n",
              "      <td>240.00</td>\n",
              "      <td>240.00</td>\n",
              "      <td>232.50</td>\n",
              "      <td>235.00</td>\n",
              "      <td>234.25</td>\n",
              "      <td>2240909</td>\n",
              "      <td>5248.60</td>\n",
              "    </tr>\n",
              "    <tr>\n",
              "      <th>3</th>\n",
              "      <td>2018-09-25</td>\n",
              "      <td>233.30</td>\n",
              "      <td>236.75</td>\n",
              "      <td>232.00</td>\n",
              "      <td>236.25</td>\n",
              "      <td>236.10</td>\n",
              "      <td>2349368</td>\n",
              "      <td>5503.90</td>\n",
              "    </tr>\n",
              "    <tr>\n",
              "      <th>4</th>\n",
              "      <td>2018-09-24</td>\n",
              "      <td>233.55</td>\n",
              "      <td>239.20</td>\n",
              "      <td>230.75</td>\n",
              "      <td>234.00</td>\n",
              "      <td>233.30</td>\n",
              "      <td>3423509</td>\n",
              "      <td>7999.55</td>\n",
              "    </tr>\n",
              "  </tbody>\n",
              "</table>\n",
              "</div>"
            ],
            "text/plain": [
              "         Date    Open    High  ...   Close  Total Trade Quantity  Turnover (Lacs)\n",
              "0  2018-09-28  234.05  235.95  ...  233.75               3069914          7162.35\n",
              "1  2018-09-27  234.55  236.80  ...  233.25               5082859         11859.95\n",
              "2  2018-09-26  240.00  240.00  ...  234.25               2240909          5248.60\n",
              "3  2018-09-25  233.30  236.75  ...  236.10               2349368          5503.90\n",
              "4  2018-09-24  233.55  239.20  ...  233.30               3423509          7999.55\n",
              "\n",
              "[5 rows x 8 columns]"
            ]
          },
          "metadata": {
            "tags": []
          },
          "execution_count": 5
        }
      ]
    },
    {
      "cell_type": "code",
      "metadata": {
        "id": "LDK4hDPi_cJW",
        "colab_type": "code",
        "colab": {}
      },
      "source": [
        "from sklearn.preprocessing import MinMaxScaler\n",
        "sc = MinMaxScaler(feature_range=(0,1))\n",
        "training_set_scaled = sc.fit_transform(training_set)"
      ],
      "execution_count": 0,
      "outputs": []
    },
    {
      "cell_type": "code",
      "metadata": {
        "id": "qF5JkJxy_goQ",
        "colab_type": "code",
        "colab": {}
      },
      "source": [
        "X_train = []\n",
        "y_train = []\n",
        "for i in range(60,2035):\n",
        "    X_train.append(training_set_scaled[i-60:i,0])\n",
        "    y_train.append(training_set_scaled[i,0])\n",
        "X_train,y_train = np.array(X_train), np.array(y_train)"
      ],
      "execution_count": 0,
      "outputs": []
    },
    {
      "cell_type": "code",
      "metadata": {
        "id": "lGmdmlPS_juK",
        "colab_type": "code",
        "colab": {}
      },
      "source": [
        "X_train = np.reshape(X_train, (X_train.shape[0], X_train.shape[1], 1))"
      ],
      "execution_count": 0,
      "outputs": []
    },
    {
      "cell_type": "code",
      "metadata": {
        "id": "OYLMmTXQ_obD",
        "colab_type": "code",
        "colab": {}
      },
      "source": [
        "from tensorflow.keras import layers"
      ],
      "execution_count": 0,
      "outputs": []
    },
    {
      "cell_type": "code",
      "metadata": {
        "id": "kr8n8F1LVFEH",
        "colab_type": "code",
        "colab": {}
      },
      "source": [
        "\n",
        "\n",
        "regressor = tf.keras.Sequential()\n",
        "#regressor.add(layers.Bidirectional(layers.CuDNNLSTM(256, return_sequences=True), \n",
        "#                               input_shape=(X_train.shape[1],1)))\n",
        "\n",
        "regressor.add(layers.LSTM(128, input_shape=(X_train.shape[1],1), return_sequences=True))\n",
        "regressor.add(layers.Dropout(0.2))\n",
        "\n",
        "\n",
        "regressor.add(layers.LSTM(64, return_sequences=True))\n",
        "regressor.add(layers.Dropout(0.2))\n",
        "\n",
        "regressor.add(layers.LSTM(32, return_sequences=True))\n",
        "regressor.add(layers.Dropout(0.2))\n",
        "\n",
        "\n",
        "regressor.add(layers.LSTM(16, return_sequences=True))\n",
        "regressor.add(layers.Dropout(0.2))\n",
        "\n",
        "\n",
        "regressor.add(layers.LSTM(4, return_sequences=True))\n",
        "regressor.add(layers.Dropout(0.2))\n",
        "\n",
        "regressor.add(layers.LSTM(4, return_sequences=True))\n",
        "regressor.add(layers.Dropout(0.2))\n",
        "\n",
        "regressor.add(layers.Flatten())\n",
        "\n",
        "regressor.add(layers.Dense(1))\n",
        "regressor.compile(optimizer='adam',loss='mean_squared_error')"
      ],
      "execution_count": 0,
      "outputs": []
    },
    {
      "cell_type": "code",
      "metadata": {
        "id": "aHuRiu7h0jx1",
        "colab_type": "code",
        "outputId": "89232077-edea-4fc5-ebd1-1e5d36d43097",
        "colab": {
          "base_uri": "https://localhost:8080/",
          "height": 642
        }
      },
      "source": [
        "regressor.summary()"
      ],
      "execution_count": 0,
      "outputs": [
        {
          "output_type": "stream",
          "text": [
            "Model: \"sequential_6\"\n",
            "_________________________________________________________________\n",
            "Layer (type)                 Output Shape              Param #   \n",
            "=================================================================\n",
            "lstm_20 (LSTM)               (None, 60, 128)           66560     \n",
            "_________________________________________________________________\n",
            "dropout_17 (Dropout)         (None, 60, 128)           0         \n",
            "_________________________________________________________________\n",
            "lstm_21 (LSTM)               (None, 60, 64)            49408     \n",
            "_________________________________________________________________\n",
            "dropout_18 (Dropout)         (None, 60, 64)            0         \n",
            "_________________________________________________________________\n",
            "lstm_22 (LSTM)               (None, 60, 32)            12416     \n",
            "_________________________________________________________________\n",
            "dropout_19 (Dropout)         (None, 60, 32)            0         \n",
            "_________________________________________________________________\n",
            "lstm_23 (LSTM)               (None, 60, 16)            3136      \n",
            "_________________________________________________________________\n",
            "dropout_20 (Dropout)         (None, 60, 16)            0         \n",
            "_________________________________________________________________\n",
            "lstm_24 (LSTM)               (None, 60, 4)             336       \n",
            "_________________________________________________________________\n",
            "dropout_21 (Dropout)         (None, 60, 4)             0         \n",
            "_________________________________________________________________\n",
            "lstm_25 (LSTM)               (None, 60, 4)             144       \n",
            "_________________________________________________________________\n",
            "dropout_22 (Dropout)         (None, 60, 4)             0         \n",
            "_________________________________________________________________\n",
            "flatten (Flatten)            (None, 240)               0         \n",
            "_________________________________________________________________\n",
            "dense_3 (Dense)              (None, 1)                 241       \n",
            "=================================================================\n",
            "Total params: 132,241\n",
            "Trainable params: 132,241\n",
            "Non-trainable params: 0\n",
            "_________________________________________________________________\n"
          ],
          "name": "stdout"
        }
      ]
    },
    {
      "cell_type": "code",
      "metadata": {
        "id": "9BXcQ84e11AK",
        "colab_type": "code",
        "outputId": "251063c9-6f0a-4a4f-c99f-2bbbce21fbd8",
        "colab": {
          "base_uri": "https://localhost:8080/",
          "height": 167
        }
      },
      "source": [
        "regressor.fit(X_train,y_train,epochs=30,batch_size=32,validation_split=0.2)"
      ],
      "execution_count": 1,
      "outputs": [
        {
          "output_type": "error",
          "ename": "NameError",
          "evalue": "ignored",
          "traceback": [
            "\u001b[0;31m---------------------------------------------------------------------------\u001b[0m",
            "\u001b[0;31mNameError\u001b[0m                                 Traceback (most recent call last)",
            "\u001b[0;32m<ipython-input-1-320260a8bc94>\u001b[0m in \u001b[0;36m<module>\u001b[0;34m()\u001b[0m\n\u001b[0;32m----> 1\u001b[0;31m \u001b[0mregressor\u001b[0m\u001b[0;34m.\u001b[0m\u001b[0mfit\u001b[0m\u001b[0;34m(\u001b[0m\u001b[0mX_train\u001b[0m\u001b[0;34m,\u001b[0m\u001b[0my_train\u001b[0m\u001b[0;34m,\u001b[0m\u001b[0mepochs\u001b[0m\u001b[0;34m=\u001b[0m\u001b[0;36m30\u001b[0m\u001b[0;34m,\u001b[0m\u001b[0mbatch_size\u001b[0m\u001b[0;34m=\u001b[0m\u001b[0;36m32\u001b[0m\u001b[0;34m,\u001b[0m\u001b[0mvalidation_split\u001b[0m\u001b[0;34m=\u001b[0m\u001b[0;36m0.2\u001b[0m\u001b[0;34m)\u001b[0m\u001b[0;34m\u001b[0m\u001b[0;34m\u001b[0m\u001b[0m\n\u001b[0m",
            "\u001b[0;31mNameError\u001b[0m: name 'regressor' is not defined"
          ]
        }
      ]
    },
    {
      "cell_type": "code",
      "metadata": {
        "id": "cqb-K1Fc2BpV",
        "colab_type": "code",
        "colab": {}
      },
      "source": [
        ""
      ],
      "execution_count": 0,
      "outputs": []
    },
    {
      "cell_type": "code",
      "metadata": {
        "id": "G4pe3uVe3Q2J",
        "colab_type": "code",
        "colab": {}
      },
      "source": [
        ""
      ],
      "execution_count": 0,
      "outputs": []
    },
    {
      "cell_type": "code",
      "metadata": {
        "id": "9I6LOhtS3RCz",
        "colab_type": "code",
        "colab": {}
      },
      "source": [
        ""
      ],
      "execution_count": 0,
      "outputs": []
    },
    {
      "cell_type": "code",
      "metadata": {
        "id": "UjK7j2IM3RMp",
        "colab_type": "code",
        "colab": {}
      },
      "source": [
        "dataset_test = pd.read_csv('gdrive/My Drive/tatatest.csv')\n",
        "real_stock_price = dataset_test.iloc[:,1:2].values"
      ],
      "execution_count": 0,
      "outputs": []
    },
    {
      "cell_type": "code",
      "metadata": {
        "id": "ofLgZEqx3S7g",
        "colab_type": "code",
        "colab": {}
      },
      "source": [
        "dataset_total = pd.concat((dataset_train['Open'],dataset_test['Open']),axis=0)\n",
        "inputs = dataset_total[len(dataset_total)- len(dataset_test)-60:].values\n",
        "inputs = inputs.reshape(-1,1)\n",
        "inputs = sc.transform(inputs)\n",
        "X_test = []\n",
        "for i in range(60,76):\n",
        "    X_test.append(inputs[i-60:i,0])\n",
        "X_test = np.array(X_test)\n",
        "X_test = np.reshape(X_test,(X_test.shape[0],X_test.shape[1],1))\n",
        "predicted_stock_price = regressor.predict(X_test)\n",
        "predicted_stock_price = sc.inverse_transform(predicted_stock_price)"
      ],
      "execution_count": 0,
      "outputs": []
    },
    {
      "cell_type": "code",
      "metadata": {
        "id": "cdTp81rQ3WYo",
        "colab_type": "code",
        "outputId": "fd79cd59-c18a-4fec-df7d-4da98eecc0df",
        "colab": {
          "base_uri": "https://localhost:8080/",
          "height": 295
        }
      },
      "source": [
        "\n",
        "\n",
        "# Visualising the results\n",
        "plt.plot(real_stock_price, color = 'red', label = 'Real TATA Stock Price')\n",
        "plt.plot(predicted_stock_price, color = 'blue', label = 'Predicted TATA Stock Price')\n",
        "plt.title('TATA Stock Price Prediction')\n",
        "plt.xlabel('Time')\n",
        "plt.ylabel('TATA Stock Price')\n",
        "plt.legend()\n",
        "plt.show()"
      ],
      "execution_count": 0,
      "outputs": [
        {
          "output_type": "display_data",
          "data": {
            "image/png": "[encoded data removed]",
            "text/plain": [
              "<Figure size 432x288 with 1 Axes>"
            ]
          },
          "metadata": {
            "tags": []
          }
        }
      ]
    },
    {
      "cell_type": "code",
      "metadata": {
        "id": "KK4CacP83ZpP",
        "colab_type": "code",
        "outputId": "c4d047c1-d8b9-4d8f-ad0d-708bef0315fb",
        "colab": {
          "base_uri": "https://localhost:8080/",
          "height": 551
        }
      },
      "source": [
        "pd.DataFrame({'real':real_stock_price.tolist(),'predicted':predicted_stock_price.tolist()})"
      ],
      "execution_count": 0,
      "outputs": [
        {
          "output_type": "execute_result",
          "data": {
            "text/html": [
              "<div>\n",
              "<style scoped>\n",
              "    .dataframe tbody tr th:only-of-type {\n",
              "        vertical-align: middle;\n",
              "    }\n",
              "\n",
              "    .dataframe tbody tr th {\n",
              "        vertical-align: top;\n",
              "    }\n",
              "\n",
              "    .dataframe thead th {\n",
              "        text-align: right;\n",
              "    }\n",
              "</style>\n",
              "<table border=\"1\" class=\"dataframe\">\n",
              "  <thead>\n",
              "    <tr style=\"text-align: right;\">\n",
              "      <th></th>\n",
              "      <th>real</th>\n",
              "      <th>predicted</th>\n",
              "    </tr>\n",
              "  </thead>\n",
              "  <tbody>\n",
              "    <tr>\n",
              "      <th>0</th>\n",
              "      <td>[220.1]</td>\n",
              "      <td>[120.62557220458984]</td>\n",
              "    </tr>\n",
              "    <tr>\n",
              "      <th>1</th>\n",
              "      <td>[221.1]</td>\n",
              "      <td>[267.25213623046875]</td>\n",
              "    </tr>\n",
              "    <tr>\n",
              "      <th>2</th>\n",
              "      <td>[229.45]</td>\n",
              "      <td>[225.8735809326172]</td>\n",
              "    </tr>\n",
              "    <tr>\n",
              "      <th>3</th>\n",
              "      <td>[230.3]</td>\n",
              "      <td>[237.22622680664062]</td>\n",
              "    </tr>\n",
              "    <tr>\n",
              "      <th>4</th>\n",
              "      <td>[237.7]</td>\n",
              "      <td>[247.68357849121094]</td>\n",
              "    </tr>\n",
              "    <tr>\n",
              "      <th>5</th>\n",
              "      <td>[237.1]</td>\n",
              "      <td>[220.92477416992188]</td>\n",
              "    </tr>\n",
              "    <tr>\n",
              "      <th>6</th>\n",
              "      <td>[229.7]</td>\n",
              "      <td>[233.18719482421875]</td>\n",
              "    </tr>\n",
              "    <tr>\n",
              "      <th>7</th>\n",
              "      <td>[226.25]</td>\n",
              "      <td>[237.84886169433594]</td>\n",
              "    </tr>\n",
              "    <tr>\n",
              "      <th>8</th>\n",
              "      <td>[215.0]</td>\n",
              "      <td>[221.28431701660156]</td>\n",
              "    </tr>\n",
              "    <tr>\n",
              "      <th>9</th>\n",
              "      <td>[215.0]</td>\n",
              "      <td>[211.2816162109375]</td>\n",
              "    </tr>\n",
              "    <tr>\n",
              "      <th>10</th>\n",
              "      <td>[215.5]</td>\n",
              "      <td>[215.56021118164062]</td>\n",
              "    </tr>\n",
              "    <tr>\n",
              "      <th>11</th>\n",
              "      <td>[208.0]</td>\n",
              "      <td>[211.14743041992188]</td>\n",
              "    </tr>\n",
              "    <tr>\n",
              "      <th>12</th>\n",
              "      <td>[217.0]</td>\n",
              "      <td>[208.3241729736328]</td>\n",
              "    </tr>\n",
              "    <tr>\n",
              "      <th>13</th>\n",
              "      <td>[223.5]</td>\n",
              "      <td>[217.2665557861328]</td>\n",
              "    </tr>\n",
              "    <tr>\n",
              "      <th>14</th>\n",
              "      <td>[230.0]</td>\n",
              "      <td>[217.7873992919922]</td>\n",
              "    </tr>\n",
              "    <tr>\n",
              "      <th>15</th>\n",
              "      <td>[234.55]</td>\n",
              "      <td>[226.60096740722656]</td>\n",
              "    </tr>\n",
              "  </tbody>\n",
              "</table>\n",
              "</div>"
            ],
            "text/plain": [
              "        real             predicted\n",
              "0    [220.1]  [120.62557220458984]\n",
              "1    [221.1]  [267.25213623046875]\n",
              "2   [229.45]   [225.8735809326172]\n",
              "3    [230.3]  [237.22622680664062]\n",
              "4    [237.7]  [247.68357849121094]\n",
              "5    [237.1]  [220.92477416992188]\n",
              "6    [229.7]  [233.18719482421875]\n",
              "7   [226.25]  [237.84886169433594]\n",
              "8    [215.0]  [221.28431701660156]\n",
              "9    [215.0]   [211.2816162109375]\n",
              "10   [215.5]  [215.56021118164062]\n",
              "11   [208.0]  [211.14743041992188]\n",
              "12   [217.0]   [208.3241729736328]\n",
              "13   [223.5]   [217.2665557861328]\n",
              "14   [230.0]   [217.7873992919922]\n",
              "15  [234.55]  [226.60096740722656]"
            ]
          },
          "metadata": {
            "tags": []
          },
          "execution_count": 45
        }
      ]
    },
    {
      "cell_type": "code",
      "metadata": {
        "id": "IM-bmT2n7dyt",
        "colab_type": "code",
        "colab": {}
      },
      "source": [
        ""
      ],
      "execution_count": 0,
      "outputs": []
    }
  ]
}