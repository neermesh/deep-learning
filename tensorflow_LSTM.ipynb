{
  "nbformat": 4,
  "nbformat_minor": 0,
  "metadata": {
    "colab": {
      "name": "tensorflow_LSTM",
      "provenance": [],
      "collapsed_sections": [],
      "authorship_tag": "ABX9TyNqeBhcHE4pCpyeDvHAeJ74",
      "include_colab_link": true
    },
    "kernelspec": {
      "name": "python3",
      "display_name": "Python 3"
    },
    "accelerator": "GPU"
  },
  "cells": [
    {
      "cell_type": "markdown",
      "metadata": {
        "id": "view-in-github",
        "colab_type": "text"
      },
      "source": [
        "<a href=\"https://colab.research.google.com/github/neermesh/deep-learning/blob/master/tensorflow_LSTM.ipynb\" target=\"_parent\"><img src=\"https://colab.research.google.com/assets/colab-badge.svg\" alt=\"Open In Colab\"/></a>"
      ]
    },
    {
      "cell_type": "code",
      "metadata": {
        "id": "4BSLf3PW9pXv",
        "colab_type": "code",
        "colab": {}
      },
      "source": [
        "import sys\n",
        "import time\n",
        "import math\n",
        "import warnings\n",
        "\n",
        "if not sys.warnoptions:\n",
        "    warnings.simplefilter('ignore')\n",
        "\n",
        "from keras.models import Sequential\n",
        "from keras.layers.core import Dense, Dropout, Activation\n",
        "from keras.layers.recurrent import LSTM\n",
        "    \n",
        "import numpy as np\n",
        "import pandas as pd\n",
        "import tensorflow.compat.v1 as tf\n",
        "import matplotlib.pyplot as plt\n",
        "import sklearn.preprocessing as prep"
      ],
      "execution_count": 0,
      "outputs": []
    },
    {
      "cell_type": "code",
      "metadata": {
        "id": "XocbmVu-RvZ2",
        "colab_type": "code",
        "colab": {}
      },
      "source": [
        "from pandas_datareader import data as pdr\n",
        "df = pdr.get_data_yahoo('CIPLA.NS')  \n"
      ],
      "execution_count": 0,
      "outputs": []
    },
    {
      "cell_type": "code",
      "metadata": {
        "id": "bpNG6atamMeq",
        "colab_type": "code",
        "colab": {}
      },
      "source": [
        "df = df[::-1]"
      ],
      "execution_count": 0,
      "outputs": []
    },
    {
      "cell_type": "code",
      "metadata": {
        "id": "z6Alq3LaPHWw",
        "colab_type": "code",
        "colab": {}
      },
      "source": [
        "df = df[[ \"High\", \"Low\", \"Open\",\"Close\"]]"
      ],
      "execution_count": 0,
      "outputs": []
    },
    {
      "cell_type": "code",
      "metadata": {
        "id": "GciBMgnn-cO1",
        "colab_type": "code",
        "colab": {}
      },
      "source": [
        "# IMPORTING IMPORTANT LIBRARIES\n",
        "import pandas as pd\n",
        "import matplotlib.pyplot as plt\n",
        "import numpy as np \n",
        "import math\n",
        "from sklearn.preprocessing import MinMaxScaler\n",
        "from sklearn.metrics import mean_squared_error\n",
        "from keras.models import Sequential\n",
        "from keras.layers import Dense, Activation\n",
        "from keras.layers import LSTM\n",
        "\n",
        "\n",
        "\n"
      ],
      "execution_count": 0,
      "outputs": []
    },
    {
      "cell_type": "code",
      "metadata": {
        "id": "4UPFf_o0O4BG",
        "colab_type": "code",
        "colab": {}
      },
      "source": [
        "def new_dataset(dataset, step_size):\n",
        "\tdata_X, data_Y = [], []\n",
        "\tfor i in range(len(dataset)-step_size-1):\n",
        "\t\ta = dataset[i:(i+step_size), 0]\n",
        "\t\tdata_X.append(a)\n",
        "\t\tdata_Y.append(dataset[i + step_size, 0])\n",
        "\treturn np.array(data_X), np.array(data_Y)"
      ],
      "execution_count": 0,
      "outputs": []
    },
    {
      "cell_type": "code",
      "metadata": {
        "id": "xUNsXNXMO4EZ",
        "colab_type": "code",
        "colab": {}
      },
      "source": [
        "\n",
        "# FOR REPRODUCIBILITY\n",
        "np.random.seed(7)\n",
        "\n",
        "dataset = df\n",
        "\n"
      ],
      "execution_count": 0,
      "outputs": []
    },
    {
      "cell_type": "code",
      "metadata": {
        "id": "nKKlgNksO4M1",
        "colab_type": "code",
        "colab": {
          "base_uri": "https://localhost:8080/",
          "height": 265
        },
        "outputId": "354bb19a-a3b6-40b1-e68f-830dfd52ba6e"
      },
      "source": [
        "# IMPORTING DATASET \n",
        "#dataset = pd.read_csv('apple_share_price.csv', usecols=[1,2,3,4])\n",
        "dataset = dataset.reindex(index = dataset.index[::-1])\n",
        "#print(dataset)\n",
        "\n",
        "\n",
        "# CREATING OWN INDEX FOR FLEXIBILITY\n",
        "obs = np.arange(1, len(dataset) + 1, 1)\n",
        "\n",
        "# TAKING DIFFERENT INDICATORS FOR PREDICTION\n",
        "OHLC_avg = dataset.mean(axis = 1)\n",
        "HLC_avg = dataset[['High', 'Low', 'Close']].mean(axis = 1)\n",
        "close_val = dataset[['Close']]\n",
        "\n",
        "# PLOTTING ALL INDICATORS IN ONE PLOT\n",
        "plt.plot(obs, OHLC_avg, 'r', label = 'OHLC avg')\n",
        "plt.plot(obs, HLC_avg, 'b', label = 'HLC avg')\n",
        "plt.plot(obs, close_val, 'g', label = 'Closing price')\n",
        "plt.legend(loc = 'upper right')\n",
        "plt.show()\n",
        "\n"
      ],
      "execution_count": 90,
      "outputs": [
        {
          "output_type": "display_data",
          "data": {
            "image/png": "[encoded data removed]",
            "text/plain": [
              "<Figure size 432x288 with 1 Axes>"
            ]
          },
          "metadata": {
            "tags": []
          }
        }
      ]
    },
    {
      "cell_type": "code",
      "metadata": {
        "id": "oTTWmtMrO4QQ",
        "colab_type": "code",
        "colab": {
          "base_uri": "https://localhost:8080/",
          "height": 139
        },
        "outputId": "4f3cf933-93a6-4e0d-f568-a1a85595c509"
      },
      "source": [
        "# PREPARATION OF TIME SERIES DATASE\n",
        "close_val = np.reshape(close_val.values, (len(close_val),1)) # 1664\n",
        "scaler = MinMaxScaler(feature_range=(0, 1))\n",
        "close_val = scaler.fit_transform(close_val)\n",
        "\n",
        "# TRAIN-TEST SPLIT\n",
        "train_close_val = int(len(close_val) * 0.75)\n",
        "test_close_val = len(close_val) - train_close_val\n",
        "train_close_val, test_close_val = close_val[0:train_close_val,:], close_val[train_close_val:len(close_val),:]\n",
        "\n",
        "print(train_close_val)\n",
        "# TIME-SERIES DATASET (FOR TIME T, VALUES FOR TIME T+1)\n",
        "trainX, trainY = new_dataset(train_close_val, 1)\n",
        "testX, testY = new_dataset(test_close_val, 1)\n",
        "\n"
      ],
      "execution_count": 92,
      "outputs": [
        {
          "output_type": "stream",
          "text": [
            "[[0.13556223]\n",
            " [0.1225543 ]\n",
            " [0.15136529]\n",
            " ...\n",
            " [0.613309  ]\n",
            " [0.63158464]\n",
            " [0.63943247]]\n"
          ],
          "name": "stdout"
        }
      ]
    },
    {
      "cell_type": "code",
      "metadata": {
        "id": "whLNz0Jqu7oM",
        "colab_type": "code",
        "colab": {}
      },
      "source": [
        ""
      ],
      "execution_count": 0,
      "outputs": []
    },
    {
      "cell_type": "code",
      "metadata": {
        "id": "aV5W44A0O4Th",
        "colab_type": "code",
        "colab": {}
      },
      "source": [
        "# RESHAPING TRAIN AND TEST DATA\n",
        "trainX = np.reshape(trainX, (trainX.shape[0], 1, trainX.shape[1]))\n",
        "testX = np.reshape(testX, (testX.shape[0], 1, testX.shape[1]))\n",
        "step_size = 1\n",
        "\n"
      ],
      "execution_count": 0,
      "outputs": []
    },
    {
      "cell_type": "code",
      "metadata": {
        "id": "cVLHqALQO4LA",
        "colab_type": "code",
        "colab": {
          "base_uri": "https://localhost:8080/",
          "height": 208
        },
        "outputId": "0cc57acb-620a-4067-bc84-e69920bdcea8"
      },
      "source": [
        "# LSTM MODEL\n",
        "model = Sequential()\n",
        "model.add(LSTM(32, input_shape=(1, step_size), return_sequences = True))\n",
        "model.add(LSTM(16))\n",
        "model.add(Dense(1))\n",
        "model.add(Activation('linear'))\n",
        "\n",
        "# MODEL COMPILING AND TRAINING\n",
        "model.compile(loss='mean_squared_error', optimizer='adagrad') # Try SGD, adam, adagrad and compare!!!\n",
        "model.fit(trainX, trainY, epochs=5, batch_size=1, verbose=2)\n",
        "\n"
      ],
      "execution_count": 94,
      "outputs": [
        {
          "output_type": "stream",
          "text": [
            "Epoch 1/5\n",
            " - 15s - loss: 0.0077\n",
            "Epoch 2/5\n",
            " - 14s - loss: 5.8289e-04\n",
            "Epoch 3/5\n",
            " - 14s - loss: 5.1107e-04\n",
            "Epoch 4/5\n",
            " - 14s - loss: 4.5515e-04\n",
            "Epoch 5/5\n",
            " - 14s - loss: 4.1602e-04\n"
          ],
          "name": "stdout"
        },
        {
          "output_type": "execute_result",
          "data": {
            "text/plain": [
              "<keras.callbacks.History at 0x7fb29417c978>"
            ]
          },
          "metadata": {
            "tags": []
          },
          "execution_count": 94
        }
      ]
    },
    {
      "cell_type": "code",
      "metadata": {
        "id": "mK7aoh52O4Jo",
        "colab_type": "code",
        "colab": {}
      },
      "source": [
        "# PREDICTION\n",
        "trainPredict = model.predict(trainX)\n",
        "testPredict = model.predict(testX)\n",
        "\n"
      ],
      "execution_count": 0,
      "outputs": []
    },
    {
      "cell_type": "code",
      "metadata": {
        "id": "NGoP-_mwfnul",
        "colab_type": "code",
        "colab": {}
      },
      "source": [
        "# DE-NORMALIZING FOR PLOTTING\n",
        "trainPredict = scaler.inverse_transform(trainPredict)\n",
        "trainY = scaler.inverse_transform([trainY])\n",
        "testPredict = scaler.inverse_transform(testPredict)\n",
        "testY = scaler.inverse_transform([testY])\n",
        "\n",
        "\n"
      ],
      "execution_count": 0,
      "outputs": []
    },
    {
      "cell_type": "code",
      "metadata": {
        "id": "A9_IICVsfnyI",
        "colab_type": "code",
        "colab": {
          "base_uri": "https://localhost:8080/",
          "height": 52
        },
        "outputId": "19c65608-ff7f-4933-9251-ef1f263da06d"
      },
      "source": [
        "# TRAINING RMSE\n",
        "trainScore = math.sqrt(mean_squared_error(trainY[0], trainPredict[:,0]))\n",
        "print('Train RMSE: %.2f' % (trainScore))\n",
        "\n",
        "# TEST RMSE\n",
        "testScore = math.sqrt(mean_squared_error(testY[0], testPredict[:,0]))\n",
        "print('Test RMSE: %.2f' % (testScore))\n",
        "\n"
      ],
      "execution_count": 97,
      "outputs": [
        {
          "output_type": "stream",
          "text": [
            "Train RMSE: 9.48\n",
            "Test RMSE: 11.33\n"
          ],
          "name": "stdout"
        }
      ]
    },
    {
      "cell_type": "code",
      "metadata": {
        "id": "riSFv7t1fn1O",
        "colab_type": "code",
        "colab": {
          "base_uri": "https://localhost:8080/",
          "height": 279
        },
        "outputId": "ce7d03dd-56cc-4c3f-d67b-fa79cdd0dcd1"
      },
      "source": [
        "# CREATING SIMILAR DATASET TO PLOT TRAINING PREDICTIONS\n",
        "trainPredictPlot = np.empty_like(close_val)\n",
        "trainPredictPlot[:, :] = np.nan\n",
        "trainPredictPlot[step_size:len(trainPredict)+step_size, :] = trainPredict\n",
        "\n",
        "# CREATING SIMILAR DATASSET TO PLOT TEST PREDICTIONS\n",
        "testPredictPlot = np.empty_like(close_val)\n",
        "testPredictPlot[:, :] = np.nan\n",
        "testPredictPlot[len(trainPredict)+(step_size*2)+1:len(close_val)-1, :] = testPredict\n",
        "\n",
        "# DE-NORMALIZING MAIN DATASET \n",
        "OHLC_avg = scaler.inverse_transform(close_val)\n",
        "\n",
        "# PLOT OF MAIN OHLC VALUES, TRAIN PREDICTIONS AND TEST PREDICTIONS\n",
        "plt.plot(close_val, 'g', label = 'original dataset')\n",
        "plt.plot(trainPredictPlot, 'r', label = 'training set')\n",
        "plt.plot(testPredictPlot, 'b', label = 'predicted stock price/test set')\n",
        "plt.legend(loc = 'upper right')\n",
        "plt.xlabel('Time in Days')\n",
        "plt.ylabel('OHLC Value of Apple Stocks')\n",
        "plt.show()\n",
        "\n"
      ],
      "execution_count": 100,
      "outputs": [
        {
          "output_type": "display_data",
          "data": {
            "image/png": "[encoded data removed]",
            "text/plain": [
              "<Figure size 432x288 with 1 Axes>"
            ]
          },
          "metadata": {
            "tags": []
          }
        }
      ]
    },
    {
      "cell_type": "code",
      "metadata": {
        "id": "xyaIDhN4fn6b",
        "colab_type": "code",
        "colab": {
          "base_uri": "https://localhost:8080/",
          "height": 121
        },
        "outputId": "a0b22f4e-1db7-43d4-9943-bb79a2d4aba8"
      },
      "source": [
        "# PREDICT FUTURE VALUES\n",
        "last_val = testPredict[-1]\n",
        "last_val_scaled = last_val/last_val\n",
        "next_val = model.predict(np.reshape(last_val_scaled, (1,1,1)))\n",
        "print(\"Last Day Value:\", np.asscalar(last_val))\n",
        "print(\"Next Day Value:\", np.asscalar(last_val*next_val))\n",
        "# print np.append(last_val, next_val)"
      ],
      "execution_count": 101,
      "outputs": [
        {
          "output_type": "stream",
          "text": [
            "Last Day Value: 452.2740173339844\n",
            "Next Day Value: 460.9422912597656\n"
          ],
          "name": "stdout"
        },
        {
          "output_type": "stream",
          "text": [
            "/usr/local/lib/python3.6/dist-packages/ipykernel_launcher.py:4: DeprecationWarning: np.asscalar(a) is deprecated since NumPy v1.16, use a.item() instead\n",
            "  after removing the cwd from sys.path.\n",
            "/usr/local/lib/python3.6/dist-packages/ipykernel_launcher.py:5: DeprecationWarning: np.asscalar(a) is deprecated since NumPy v1.16, use a.item() instead\n",
            "  \"\"\"\n"
          ],
          "name": "stderr"
        }
      ]
    },
    {
      "cell_type": "code",
      "metadata": {
        "id": "jktrfCAffn9h",
        "colab_type": "code",
        "colab": {}
      },
      "source": [
        ""
      ],
      "execution_count": 0,
      "outputs": []
    },
    {
      "cell_type": "code",
      "metadata": {
        "id": "Lq3ueyLFfoA0",
        "colab_type": "code",
        "colab": {}
      },
      "source": [
        ""
      ],
      "execution_count": 0,
      "outputs": []
    },
    {
      "cell_type": "code",
      "metadata": {
        "id": "MbjzsFjufn4H",
        "colab_type": "code",
        "colab": {}
      },
      "source": [
        ""
      ],
      "execution_count": 0,
      "outputs": []
    },
    {
      "cell_type": "code",
      "metadata": {
        "id": "F-GpVAs0fnro",
        "colab_type": "code",
        "colab": {}
      },
      "source": [
        ""
      ],
      "execution_count": 0,
      "outputs": []
    },
    {
      "cell_type": "code",
      "metadata": {
        "id": "hzBfJBJtO4IB",
        "colab_type": "code",
        "colab": {}
      },
      "source": [
        ""
      ],
      "execution_count": 0,
      "outputs": []
    },
    {
      "cell_type": "code",
      "metadata": {
        "id": "c2aB8_A4O3_H",
        "colab_type": "code",
        "colab": {}
      },
      "source": [
        ""
      ],
      "execution_count": 0,
      "outputs": []
    },
    {
      "cell_type": "code",
      "metadata": {
        "id": "rXSbrd-2O37l",
        "colab_type": "code",
        "colab": {}
      },
      "source": [
        ""
      ],
      "execution_count": 0,
      "outputs": []
    },
    {
      "cell_type": "code",
      "metadata": {
        "id": "aQI66Xuq-cRm",
        "colab_type": "code",
        "colab": {}
      },
      "source": [
        "def standard_scaler(X_train, X_test):\n",
        "    train_samples, train_nx, train_ny = X_train.shape\n",
        "    test_samples, test_nx, test_ny = X_test.shape\n",
        "    \n",
        "    X_train = X_train.reshape((train_samples, train_nx * train_ny))\n",
        "    X_test = X_test.reshape((test_samples, test_nx * test_ny))\n",
        "    \n",
        "    preprocessor = prep.StandardScaler().fit(X_train)\n",
        "    X_train = preprocessor.transform(X_train)\n",
        "    X_test = preprocessor.transform(X_test)\n",
        "    \n",
        "    X_train = X_train.reshape((train_samples, train_nx, train_ny))\n",
        "    X_test = X_test.reshape((test_samples, test_nx, test_ny))\n",
        "    \n",
        "    return X_train, X_test"
      ],
      "execution_count": 0,
      "outputs": []
    },
    {
      "cell_type": "code",
      "metadata": {
        "id": "f7CPifcN-cUx",
        "colab_type": "code",
        "colab": {}
      },
      "source": [
        "def preprocess_data(stock, seq_len):\n",
        "    amount_of_features = len(stock.columns)\n",
        "    data = stock.values\n",
        "    \n",
        "    sequence_length = seq_len + 1\n",
        "    result = []\n",
        "    for index in range(len(data) - sequence_length):\n",
        "        result.append(data[index : index + sequence_length])\n",
        "        \n",
        "    result = np.array(result)\n",
        "    row = round(0.9 * result.shape[0])\n",
        "    train = result[: int(row), :]\n",
        "    \n",
        "    train, result = standard_scaler(train, result)\n",
        "    \n",
        "    X_train = train[:, : -1]\n",
        "    y_train = train[:, -1][: ,-1]\n",
        "    X_test = result[int(row) :, : -1]\n",
        "    y_test = result[int(row) :, -1][ : ,-1]\n",
        "\n",
        "    X_train = np.reshape(X_train, (X_train.shape[0], X_train.shape[1], amount_of_features))\n",
        "    X_test = np.reshape(X_test, (X_test.shape[0], X_test.shape[1], amount_of_features))  \n",
        "\n",
        "    return [X_train, y_train, X_test, y_test]"
      ],
      "execution_count": 0,
      "outputs": []
    },
    {
      "cell_type": "code",
      "metadata": {
        "id": "6BJc4J7y-cYS",
        "colab_type": "code",
        "colab": {}
      },
      "source": [
        "def build_model(layers):\n",
        "    model = Sequential()\n",
        "\n",
        "    # By setting return_sequences to True we are able to stack another LSTM layer\n",
        "    model.add(LSTM(\n",
        "        input_dim=layers[0],\n",
        "        output_dim=layers[1],\n",
        "        return_sequences=True))\n",
        "    model.add(Dropout(0.4))\n",
        "\n",
        "    model.add(LSTM(\n",
        "        layers[2],\n",
        "        return_sequences=False))\n",
        "    model.add(Dropout(0.3))\n",
        "\n",
        "    model.add(Dense(\n",
        "        output_dim=layers[3]))\n",
        "    model.add(Activation(\"linear\"))\n",
        "\n",
        "    start = time.time()\n",
        "    model.compile(loss=\"mse\", optimizer=\"adam\", metrics=['accuracy'])\n",
        "    print(\"Compilation Time : \", time.time() - start)\n",
        "    return model"
      ],
      "execution_count": 0,
      "outputs": []
    },
    {
      "cell_type": "code",
      "metadata": {
        "id": "7N8ieNL1_V9I",
        "colab_type": "code",
        "outputId": "4f2d24ab-8194-417b-959b-b3d36f3c6797",
        "colab": {
          "base_uri": "https://localhost:8080/",
          "height": 86
        }
      },
      "source": [
        "\n",
        "\n",
        "window = 20\n",
        "X_train, y_train, X_test, y_test = preprocess_data(df[:: -1], window)\n",
        "print(\"X_train\", X_train.shape)\n",
        "print(\"y_train\", y_train.shape)\n",
        "print(\"X_test\", X_test.shape)\n",
        "print(\"y_test\", y_test.shape)\n",
        "\n"
      ],
      "execution_count": 0,
      "outputs": [
        {
          "output_type": "stream",
          "text": [
            "X_train (2215, 20, 6)\n",
            "y_train (2215,)\n",
            "X_test (246, 20, 6)\n",
            "y_test (246,)\n"
          ],
          "name": "stdout"
        }
      ]
    },
    {
      "cell_type": "code",
      "metadata": {
        "id": "rXO3G1v__WA6",
        "colab_type": "code",
        "outputId": "d1c1e23f-1189-48a4-edf7-1a5c571a190a",
        "colab": {
          "base_uri": "https://localhost:8080/",
          "height": 367
        }
      },
      "source": [
        "model = build_model([X_train.shape[2], window, 100, 1])"
      ],
      "execution_count": 0,
      "outputs": [
        {
          "output_type": "stream",
          "text": [
            "WARNING:tensorflow:From /usr/local/lib/python3.6/dist-packages/keras/backend/tensorflow_backend.py:66: The name tf.get_default_graph is deprecated. Please use tf.compat.v1.get_default_graph instead.\n",
            "\n",
            "WARNING:tensorflow:From /usr/local/lib/python3.6/dist-packages/keras/backend/tensorflow_backend.py:541: The name tf.placeholder is deprecated. Please use tf.compat.v1.placeholder instead.\n",
            "\n",
            "WARNING:tensorflow:From /usr/local/lib/python3.6/dist-packages/keras/backend/tensorflow_backend.py:4432: The name tf.random_uniform is deprecated. Please use tf.random.uniform instead.\n",
            "\n",
            "WARNING:tensorflow:From /usr/local/lib/python3.6/dist-packages/keras/backend/tensorflow_backend.py:148: The name tf.placeholder_with_default is deprecated. Please use tf.compat.v1.placeholder_with_default instead.\n",
            "\n",
            "WARNING:tensorflow:From /usr/local/lib/python3.6/dist-packages/keras/backend/tensorflow_backend.py:3733: calling dropout (from tensorflow.python.ops.nn_ops) with keep_prob is deprecated and will be removed in a future version.\n",
            "Instructions for updating:\n",
            "Please use `rate` instead of `keep_prob`. Rate should be set to `rate = 1 - keep_prob`.\n"
          ],
          "name": "stdout"
        },
        {
          "output_type": "stream",
          "text": [
            "/usr/local/lib/python3.6/dist-packages/ipykernel_launcher.py:8: UserWarning: The `input_dim` and `input_length` arguments in recurrent layers are deprecated. Use `input_shape` instead.\n",
            "  \n",
            "/usr/local/lib/python3.6/dist-packages/ipykernel_launcher.py:8: UserWarning: Update your `LSTM` call to the Keras 2 API: `LSTM(return_sequences=True, input_shape=(None, 6), units=20)`\n",
            "  \n"
          ],
          "name": "stderr"
        },
        {
          "output_type": "stream",
          "text": [
            "WARNING:tensorflow:From /usr/local/lib/python3.6/dist-packages/keras/optimizers.py:793: The name tf.train.Optimizer is deprecated. Please use tf.compat.v1.train.Optimizer instead.\n",
            "\n",
            "Compilation Time :  0.02608513832092285\n"
          ],
          "name": "stdout"
        },
        {
          "output_type": "stream",
          "text": [
            "/usr/local/lib/python3.6/dist-packages/ipykernel_launcher.py:17: UserWarning: Update your `Dense` call to the Keras 2 API: `Dense(units=1)`\n"
          ],
          "name": "stderr"
        }
      ]
    },
    {
      "cell_type": "code",
      "metadata": {
        "id": "iSNzUe8a_WEt",
        "colab_type": "code",
        "outputId": "4517f70c-0537-4291-ff56-1ea5b1395e31",
        "colab": {
          "base_uri": "https://localhost:8080/",
          "height": 384
        }
      },
      "source": [
        "model.fit(\n",
        "    X_train,\n",
        "    y_train,\n",
        "    batch_size=768,\n",
        "    epochs=5,\n",
        "    validation_split=0.1,\n",
        "    verbose=0)"
      ],
      "execution_count": 0,
      "outputs": [
        {
          "output_type": "stream",
          "text": [
            "WARNING:tensorflow:From /usr/local/lib/python3.6/dist-packages/tensorflow_core/python/ops/math_grad.py:1424: where (from tensorflow.python.ops.array_ops) is deprecated and will be removed in a future version.\n",
            "Instructions for updating:\n",
            "Use tf.where in 2.0, which has the same broadcast rule as np.where\n",
            "WARNING:tensorflow:From /usr/local/lib/python3.6/dist-packages/keras/backend/tensorflow_backend.py:1033: The name tf.assign_add is deprecated. Please use tf.compat.v1.assign_add instead.\n",
            "\n",
            "WARNING:tensorflow:From /usr/local/lib/python3.6/dist-packages/keras/backend/tensorflow_backend.py:1020: The name tf.assign is deprecated. Please use tf.compat.v1.assign instead.\n",
            "\n",
            "WARNING:tensorflow:From /usr/local/lib/python3.6/dist-packages/keras/backend/tensorflow_backend.py:3005: The name tf.Session is deprecated. Please use tf.compat.v1.Session instead.\n",
            "\n",
            "WARNING:tensorflow:From /usr/local/lib/python3.6/dist-packages/keras/backend/tensorflow_backend.py:190: The name tf.get_default_session is deprecated. Please use tf.compat.v1.get_default_session instead.\n",
            "\n",
            "WARNING:tensorflow:From /usr/local/lib/python3.6/dist-packages/keras/backend/tensorflow_backend.py:197: The name tf.ConfigProto is deprecated. Please use tf.compat.v1.ConfigProto instead.\n",
            "\n",
            "WARNING:tensorflow:From /usr/local/lib/python3.6/dist-packages/keras/backend/tensorflow_backend.py:207: The name tf.global_variables is deprecated. Please use tf.compat.v1.global_variables instead.\n",
            "\n",
            "WARNING:tensorflow:From /usr/local/lib/python3.6/dist-packages/keras/backend/tensorflow_backend.py:216: The name tf.is_variable_initialized is deprecated. Please use tf.compat.v1.is_variable_initialized instead.\n",
            "\n",
            "WARNING:tensorflow:From /usr/local/lib/python3.6/dist-packages/keras/backend/tensorflow_backend.py:223: The name tf.variables_initializer is deprecated. Please use tf.compat.v1.variables_initializer instead.\n",
            "\n"
          ],
          "name": "stdout"
        },
        {
          "output_type": "execute_result",
          "data": {
            "text/plain": [
              "<keras.callbacks.History at 0x7f314268fd68>"
            ]
          },
          "metadata": {
            "tags": []
          },
          "execution_count": 11
        }
      ]
    },
    {
      "cell_type": "code",
      "metadata": {
        "id": "dwrlI_TT_WJk",
        "colab_type": "code",
        "outputId": "bdba563f-5794-4534-b252-996443391d07",
        "colab": {
          "base_uri": "https://localhost:8080/",
          "height": 52
        }
      },
      "source": [
        "trainScore = model.evaluate(X_train, y_train, verbose=0)\n",
        "print('Train Score: %.2f MSE (%.2f RMSE)' % (trainScore[0], math.sqrt(trainScore[0])))\n",
        "\n",
        "testScore = model.evaluate(X_test, y_test, verbose=0)\n",
        "print('Test Score: %.2f MSE (%.2f RMSE)' % (testScore[0], math.sqrt(testScore[0])))"
      ],
      "execution_count": 0,
      "outputs": [
        {
          "output_type": "stream",
          "text": [
            "Train Score: 0.04 MSE (0.20 RMSE)\n",
            "Test Score: 0.01 MSE (0.08 RMSE)\n"
          ],
          "name": "stdout"
        }
      ]
    },
    {
      "cell_type": "code",
      "metadata": {
        "id": "QKAyy-Uq_WHh",
        "colab_type": "code",
        "colab": {}
      },
      "source": [
        "diff = []\n",
        "ratio = []\n",
        "pred = model.predict(X_test)\n",
        "for u in range(len(y_test)):\n",
        "    pr = pred[u][0]\n",
        "    ratio.append((y_test[u] / pr) - 1)\n",
        "    diff.append(abs(y_test[u] - pr))"
      ],
      "execution_count": 0,
      "outputs": []
    },
    {
      "cell_type": "code",
      "metadata": {
        "id": "Wwv8DkXG_V6K",
        "colab_type": "code",
        "outputId": "26404ed4-5d6c-4bf6-a9d7-423ee7d31913",
        "colab": {
          "base_uri": "https://localhost:8080/",
          "height": 265
        }
      },
      "source": [
        "plt.plot(pred, color='red', label='Prediction')\n",
        "plt.plot(y_test, color='blue', label='Ground Truth')\n",
        "plt.legend(loc='upper left')\n",
        "plt.show()"
      ],
      "execution_count": 0,
      "outputs": [
        {
          "output_type": "display_data",
          "data": {
            "image/png": "[encoded data removed]",
            "text/plain": [
              "<Figure size 432x288 with 1 Axes>"
            ]
          },
          "metadata": {
            "tags": []
          }
        }
      ]
    },
    {
      "cell_type": "code",
      "metadata": {
        "id": "5iPGxqfw-cbr",
        "colab_type": "code",
        "colab": {}
      },
      "source": [
        ""
      ],
      "execution_count": 0,
      "outputs": []
    },
    {
      "cell_type": "code",
      "metadata": {
        "id": "Vnci1yug-cLu",
        "colab_type": "code",
        "colab": {}
      },
      "source": [
        ""
      ],
      "execution_count": 0,
      "outputs": []
    },
    {
      "cell_type": "code",
      "metadata": {
        "id": "nHEVn4MITKGN",
        "colab_type": "code",
        "colab": {}
      },
      "source": [
        "from sklearn.model_selection import train_test_split\n",
        "test, train = train_test_split(df, train_size=0.2)"
      ],
      "execution_count": 0,
      "outputs": []
    },
    {
      "cell_type": "code",
      "metadata": {
        "id": "w7Nhyd2BTeEW",
        "colab_type": "code",
        "colab": {}
      },
      "source": [
        "train = train['Adj Close']\n",
        "test = test['Adj Close']"
      ],
      "execution_count": 0,
      "outputs": []
    },
    {
      "cell_type": "code",
      "metadata": {
        "id": "kQE5pNpa_Yoz",
        "colab_type": "code",
        "colab": {}
      },
      "source": [
        "from sklearn.preprocessing import MinMaxScaler\n",
        "sc = MinMaxScaler(feature_range=(0,1))\n",
        "train_scaled = sc.fit_transform(train.values.reshape(-1, 1))\n",
        "#test_scaled = sc.fit_transform(test.values.reshape(-1, 1))"
      ],
      "execution_count": 0,
      "outputs": []
    },
    {
      "cell_type": "code",
      "metadata": {
        "id": "Ey3RlEXMtfy-",
        "colab_type": "code",
        "outputId": "07af023f-f5c3-42fa-d3bb-099dd5ec48cc",
        "colab": {
          "base_uri": "https://localhost:8080/",
          "height": 139
        }
      },
      "source": [
        "train_scaled"
      ],
      "execution_count": 0,
      "outputs": [
        {
          "output_type": "execute_result",
          "data": {
            "text/plain": [
              "array([[0.21252601],\n",
              "       [0.54455866],\n",
              "       [0.01770604],\n",
              "       ...,\n",
              "       [0.23361188],\n",
              "       [0.46473312],\n",
              "       [0.06146975]])"
            ]
          },
          "metadata": {
            "tags": []
          },
          "execution_count": 43
        }
      ]
    },
    {
      "cell_type": "code",
      "metadata": {
        "id": "vqFj2_oeUFse",
        "colab_type": "code",
        "outputId": "f741ae69-0546-42ba-a24f-17ae120a7708",
        "colab": {
          "base_uri": "https://localhost:8080/",
          "height": 34
        }
      },
      "source": [
        "train_scaled.shape"
      ],
      "execution_count": 0,
      "outputs": [
        {
          "output_type": "execute_result",
          "data": {
            "text/plain": [
              "(1986, 1)"
            ]
          },
          "metadata": {
            "tags": []
          },
          "execution_count": 44
        }
      ]
    },
    {
      "cell_type": "code",
      "metadata": {
        "id": "qF5JkJxy_goQ",
        "colab_type": "code",
        "colab": {}
      },
      "source": [
        "X_train = []\n",
        "y_train = []\n",
        "for i in range(60,1984):\n",
        "    X_train.append(train_scaled[i-60:i,0])\n",
        "    y_train.append(train_scaled[i,0])\n",
        "X_train,y_train = np.array(X_train), np.array(y_train)"
      ],
      "execution_count": 0,
      "outputs": []
    },
    {
      "cell_type": "code",
      "metadata": {
        "id": "Z8uygj3E48b8",
        "colab_type": "code",
        "outputId": "96a0d9f3-4031-455e-85f8-766fefd93223",
        "colab": {
          "base_uri": "https://localhost:8080/",
          "height": 34
        }
      },
      "source": [
        "X_train.shape"
      ],
      "execution_count": 0,
      "outputs": [
        {
          "output_type": "execute_result",
          "data": {
            "text/plain": [
              "(1924, 60)"
            ]
          },
          "metadata": {
            "tags": []
          },
          "execution_count": 46
        }
      ]
    },
    {
      "cell_type": "code",
      "metadata": {
        "id": "lGmdmlPS_juK",
        "colab_type": "code",
        "colab": {}
      },
      "source": [
        "X_train = np.reshape(X_train, (X_train.shape[0], X_train.shape[1], 1))"
      ],
      "execution_count": 0,
      "outputs": []
    },
    {
      "cell_type": "code",
      "metadata": {
        "id": "eEAatEn6CVPM",
        "colab_type": "code",
        "outputId": "5204a233-71bc-4876-a74b-af1a7d67d404",
        "colab": {
          "base_uri": "https://localhost:8080/",
          "height": 34
        }
      },
      "source": [
        "X_train.shape"
      ],
      "execution_count": 0,
      "outputs": [
        {
          "output_type": "execute_result",
          "data": {
            "text/plain": [
              "(1924, 60, 1)"
            ]
          },
          "metadata": {
            "tags": []
          },
          "execution_count": 48
        }
      ]
    },
    {
      "cell_type": "code",
      "metadata": {
        "id": "OYLMmTXQ_obD",
        "colab_type": "code",
        "colab": {}
      },
      "source": [
        "from tensorflow.keras import layers"
      ],
      "execution_count": 0,
      "outputs": []
    },
    {
      "cell_type": "code",
      "metadata": {
        "id": "kr8n8F1LVFEH",
        "colab_type": "code",
        "colab": {}
      },
      "source": [
        "\n",
        "\n",
        "regressor = tf.keras.Sequential()\n",
        "#regressor.add(layers.Bidirectional(layers.CuDNNLSTM(256, return_sequences=True), \n",
        "#                               input_shape=(X_train.shape[1],1)))\n",
        "\n",
        "regressor.add(layers.LSTM(32, input_shape=(X_train.shape[1],1), return_sequences=True))\n",
        "regressor.add(layers.Dropout(0.2))\n",
        "\n",
        "\n",
        "\n",
        "\n",
        "regressor.add(layers.LSTM(4, return_sequences=True))\n",
        "regressor.add(layers.Dropout(0.2))\n",
        "\n",
        "regressor.add(layers.Flatten())\n",
        "\n",
        "regressor.add(layers.Dense(1))\n",
        "regressor.compile(optimizer='adam',loss='mean_squared_error')"
      ],
      "execution_count": 0,
      "outputs": []
    },
    {
      "cell_type": "code",
      "metadata": {
        "id": "aHuRiu7h0jx1",
        "colab_type": "code",
        "outputId": "cbc1c752-bd37-4c3c-a2d4-bfb424bc1e2b",
        "colab": {
          "base_uri": "https://localhost:8080/",
          "height": 364
        }
      },
      "source": [
        "regressor.summary()"
      ],
      "execution_count": 0,
      "outputs": [
        {
          "output_type": "stream",
          "text": [
            "Model: \"sequential_1\"\n",
            "_________________________________________________________________\n",
            "Layer (type)                 Output Shape              Param #   \n",
            "=================================================================\n",
            "lstm_2 (LSTM)                (None, 60, 32)            4352      \n",
            "_________________________________________________________________\n",
            "dropout_2 (Dropout)          (None, 60, 32)            0         \n",
            "_________________________________________________________________\n",
            "lstm_3 (LSTM)                (None, 60, 4)             592       \n",
            "_________________________________________________________________\n",
            "dropout_3 (Dropout)          (None, 60, 4)             0         \n",
            "_________________________________________________________________\n",
            "flatten_1 (Flatten)          (None, 240)               0         \n",
            "_________________________________________________________________\n",
            "dense_1 (Dense)              (None, 1)                 241       \n",
            "=================================================================\n",
            "Total params: 5,185\n",
            "Trainable params: 5,185\n",
            "Non-trainable params: 0\n",
            "_________________________________________________________________\n"
          ],
          "name": "stdout"
        }
      ]
    },
    {
      "cell_type": "code",
      "metadata": {
        "id": "9BXcQ84e11AK",
        "colab_type": "code",
        "outputId": "56a65452-65be-4f7e-c3e0-d3838b373751",
        "colab": {
          "base_uri": "https://localhost:8080/",
          "height": 1000
        }
      },
      "source": [
        "regressor.fit(X_train,y_train,epochs=30,batch_size=32,validation_split=0.2)"
      ],
      "execution_count": 0,
      "outputs": [
        {
          "output_type": "stream",
          "text": [
            "Train on 1539 samples, validate on 385 samples\n",
            "Epoch 1/30\n",
            "1539/1539 [==============================] - 6s 4ms/sample - loss: 0.1260 - val_loss: 0.0769\n",
            "Epoch 2/30\n",
            "1539/1539 [==============================] - 4s 3ms/sample - loss: 0.0829 - val_loss: 0.0754\n",
            "Epoch 3/30\n",
            "1539/1539 [==============================] - 4s 3ms/sample - loss: 0.0782 - val_loss: 0.0750\n",
            "Epoch 4/30\n",
            "1539/1539 [==============================] - 4s 3ms/sample - loss: 0.0800 - val_loss: 0.0750\n",
            "Epoch 5/30\n",
            "1539/1539 [==============================] - 4s 3ms/sample - loss: 0.0782 - val_loss: 0.0757\n",
            "Epoch 6/30\n",
            "1539/1539 [==============================] - 4s 3ms/sample - loss: 0.0785 - val_loss: 0.0758\n",
            "Epoch 7/30\n",
            "1539/1539 [==============================] - 4s 3ms/sample - loss: 0.0776 - val_loss: 0.0756\n",
            "Epoch 8/30\n",
            "1539/1539 [==============================] - 4s 3ms/sample - loss: 0.0785 - val_loss: 0.0765\n",
            "Epoch 9/30\n",
            "1539/1539 [==============================] - 4s 3ms/sample - loss: 0.0775 - val_loss: 0.0764\n",
            "Epoch 10/30\n",
            "1539/1539 [==============================] - 4s 3ms/sample - loss: 0.0775 - val_loss: 0.0759\n",
            "Epoch 11/30\n",
            "1539/1539 [==============================] - 4s 3ms/sample - loss: 0.0767 - val_loss: 0.0748\n",
            "Epoch 12/30\n",
            "1539/1539 [==============================] - 4s 3ms/sample - loss: 0.0766 - val_loss: 0.0761\n",
            "Epoch 13/30\n",
            "1539/1539 [==============================] - 4s 3ms/sample - loss: 0.0769 - val_loss: 0.0763\n",
            "Epoch 14/30\n",
            "1539/1539 [==============================] - 4s 3ms/sample - loss: 0.0780 - val_loss: 0.0763\n",
            "Epoch 15/30\n",
            "1539/1539 [==============================] - 4s 3ms/sample - loss: 0.0764 - val_loss: 0.0763\n",
            "Epoch 16/30\n",
            "1539/1539 [==============================] - 4s 3ms/sample - loss: 0.0765 - val_loss: 0.0749\n",
            "Epoch 17/30\n",
            "1539/1539 [==============================] - 4s 3ms/sample - loss: 0.0770 - val_loss: 0.0749\n",
            "Epoch 18/30\n",
            "1539/1539 [==============================] - 4s 3ms/sample - loss: 0.0766 - val_loss: 0.0749\n",
            "Epoch 19/30\n",
            "1539/1539 [==============================] - 4s 3ms/sample - loss: 0.0769 - val_loss: 0.0755\n",
            "Epoch 20/30\n",
            "1539/1539 [==============================] - 4s 3ms/sample - loss: 0.0767 - val_loss: 0.0748\n",
            "Epoch 21/30\n",
            "1539/1539 [==============================] - 4s 3ms/sample - loss: 0.0768 - val_loss: 0.0759\n",
            "Epoch 22/30\n",
            "1539/1539 [==============================] - 4s 3ms/sample - loss: 0.0784 - val_loss: 0.0753\n",
            "Epoch 23/30\n",
            "1539/1539 [==============================] - 4s 3ms/sample - loss: 0.0762 - val_loss: 0.0748\n",
            "Epoch 24/30\n",
            "1539/1539 [==============================] - 4s 3ms/sample - loss: 0.0762 - val_loss: 0.0761\n",
            "Epoch 25/30\n",
            "1539/1539 [==============================] - 4s 3ms/sample - loss: 0.0758 - val_loss: 0.0753\n",
            "Epoch 26/30\n",
            "1539/1539 [==============================] - 4s 3ms/sample - loss: 0.0762 - val_loss: 0.0773\n",
            "Epoch 27/30\n",
            "1539/1539 [==============================] - 4s 3ms/sample - loss: 0.0765 - val_loss: 0.0754\n",
            "Epoch 28/30\n",
            "1539/1539 [==============================] - 4s 3ms/sample - loss: 0.0766 - val_loss: 0.0770\n",
            "Epoch 29/30\n",
            "1539/1539 [==============================] - 4s 3ms/sample - loss: 0.0763 - val_loss: 0.0748\n",
            "Epoch 30/30\n",
            "1539/1539 [==============================] - 4s 3ms/sample - loss: 0.0763 - val_loss: 0.0758\n"
          ],
          "name": "stdout"
        },
        {
          "output_type": "execute_result",
          "data": {
            "text/plain": [
              "<tensorflow.python.keras.callbacks.History at 0x7fbc7d8b8f98>"
            ]
          },
          "metadata": {
            "tags": []
          },
          "execution_count": 52
        }
      ]
    },
    {
      "cell_type": "code",
      "metadata": {
        "id": "cqb-K1Fc2BpV",
        "colab_type": "code",
        "colab": {}
      },
      "source": [
        ""
      ],
      "execution_count": 0,
      "outputs": []
    },
    {
      "cell_type": "code",
      "metadata": {
        "id": "G4pe3uVe3Q2J",
        "colab_type": "code",
        "outputId": "7e01059c-35a1-473c-ff6d-3e6d1db903a6",
        "colab": {
          "base_uri": "https://localhost:8080/",
          "height": 34
        }
      },
      "source": [
        "#Here"
      ],
      "execution_count": 0,
      "outputs": [
        {
          "output_type": "execute_result",
          "data": {
            "text/plain": [
              "(497,)"
            ]
          },
          "metadata": {
            "tags": []
          },
          "execution_count": 116
        }
      ]
    },
    {
      "cell_type": "code",
      "metadata": {
        "id": "9I6LOhtS3RCz",
        "colab_type": "code",
        "outputId": "7d512624-eeff-40db-fff8-49a6210b6adf",
        "colab": {
          "base_uri": "https://localhost:8080/",
          "height": 243
        }
      },
      "source": [
        "train"
      ],
      "execution_count": 0,
      "outputs": [
        {
          "output_type": "execute_result",
          "data": {
            "text/plain": [
              "Date\n",
              "2014-02-14    364.139160\n",
              "2019-07-30    517.000000\n",
              "2011-08-18    274.448151\n",
              "2019-11-13    447.899994\n",
              "2019-03-12    535.641785\n",
              "                 ...    \n",
              "2015-09-10    642.276733\n",
              "2019-02-06    531.863770\n",
              "2013-03-14    373.846649\n",
              "2020-01-16    480.250000\n",
              "2010-05-18    294.596039\n",
              "Name: Adj Close, Length: 1986, dtype: float64"
            ]
          },
          "metadata": {
            "tags": []
          },
          "execution_count": 53
        }
      ]
    },
    {
      "cell_type": "code",
      "metadata": {
        "id": "ofLgZEqx3S7g",
        "colab_type": "code",
        "colab": {}
      },
      "source": [
        "dataset_total = pd.concat((train,test),axis=0)\n",
        "inputs = dataset_total[len(df)- len(test)-60:].values\n",
        "inputs = inputs.reshape(-1,1)\n",
        "inputs = sc.transform(inputs)\n",
        "X_test = []\n",
        "for i in range(60,497):\n",
        "    X_test.append(inputs[i-60:i,0])\n",
        "X_test = np.array(X_test)\n",
        "X_test = np.reshape(X_test,(X_test.shape[0],X_test.shape[1],1))\n",
        "predicted_stock_price = regressor.predict(X_test)\n",
        "predicted_stock_price = sc.inverse_transform(predicted_stock_price)"
      ],
      "execution_count": 0,
      "outputs": []
    },
    {
      "cell_type": "code",
      "metadata": {
        "id": "MXzgq-52TrAU",
        "colab_type": "code",
        "outputId": "9e30066c-0eb7-4933-c085-1f17c068d22d",
        "colab": {
          "base_uri": "https://localhost:8080/",
          "height": 455
        }
      },
      "source": [
        "df[len(df)- len(test)-60:]"
      ],
      "execution_count": 0,
      "outputs": [
        {
          "output_type": "execute_result",
          "data": {
            "text/html": [
              "<div>\n",
              "<style scoped>\n",
              "    .dataframe tbody tr th:only-of-type {\n",
              "        vertical-align: middle;\n",
              "    }\n",
              "\n",
              "    .dataframe tbody tr th {\n",
              "        vertical-align: top;\n",
              "    }\n",
              "\n",
              "    .dataframe thead th {\n",
              "        text-align: right;\n",
              "    }\n",
              "</style>\n",
              "<table border=\"1\" class=\"dataframe\">\n",
              "  <thead>\n",
              "    <tr style=\"text-align: right;\">\n",
              "      <th></th>\n",
              "      <th>High</th>\n",
              "      <th>Low</th>\n",
              "      <th>Open</th>\n",
              "      <th>Close</th>\n",
              "      <th>Volume</th>\n",
              "      <th>Adj Close</th>\n",
              "    </tr>\n",
              "    <tr>\n",
              "      <th>Date</th>\n",
              "      <th></th>\n",
              "      <th></th>\n",
              "      <th></th>\n",
              "      <th></th>\n",
              "      <th></th>\n",
              "      <th></th>\n",
              "    </tr>\n",
              "  </thead>\n",
              "  <tbody>\n",
              "    <tr>\n",
              "      <th>2017-10-25</th>\n",
              "      <td>604.000000</td>\n",
              "      <td>589.500000</td>\n",
              "      <td>599.000000</td>\n",
              "      <td>592.650024</td>\n",
              "      <td>991374.0</td>\n",
              "      <td>586.384583</td>\n",
              "    </tr>\n",
              "    <tr>\n",
              "      <th>2017-10-26</th>\n",
              "      <td>616.799988</td>\n",
              "      <td>592.549988</td>\n",
              "      <td>595.400024</td>\n",
              "      <td>611.500000</td>\n",
              "      <td>2002276.0</td>\n",
              "      <td>605.035278</td>\n",
              "    </tr>\n",
              "    <tr>\n",
              "      <th>2017-10-27</th>\n",
              "      <td>629.799988</td>\n",
              "      <td>616.200012</td>\n",
              "      <td>625.000000</td>\n",
              "      <td>625.049988</td>\n",
              "      <td>2198491.0</td>\n",
              "      <td>618.442017</td>\n",
              "    </tr>\n",
              "    <tr>\n",
              "      <th>2017-10-30</th>\n",
              "      <td>630.000000</td>\n",
              "      <td>614.549988</td>\n",
              "      <td>623.250000</td>\n",
              "      <td>626.049988</td>\n",
              "      <td>1045267.0</td>\n",
              "      <td>619.431396</td>\n",
              "    </tr>\n",
              "    <tr>\n",
              "      <th>2017-10-31</th>\n",
              "      <td>634.900024</td>\n",
              "      <td>621.599976</td>\n",
              "      <td>629.000000</td>\n",
              "      <td>627.599976</td>\n",
              "      <td>1522851.0</td>\n",
              "      <td>620.965088</td>\n",
              "    </tr>\n",
              "    <tr>\n",
              "      <th>...</th>\n",
              "      <td>...</td>\n",
              "      <td>...</td>\n",
              "      <td>...</td>\n",
              "      <td>...</td>\n",
              "      <td>...</td>\n",
              "      <td>...</td>\n",
              "    </tr>\n",
              "    <tr>\n",
              "      <th>2020-01-23</th>\n",
              "      <td>475.850006</td>\n",
              "      <td>459.350006</td>\n",
              "      <td>464.500000</td>\n",
              "      <td>465.149994</td>\n",
              "      <td>5783699.0</td>\n",
              "      <td>465.149994</td>\n",
              "    </tr>\n",
              "    <tr>\n",
              "      <th>2020-01-27</th>\n",
              "      <td>466.500000</td>\n",
              "      <td>454.200012</td>\n",
              "      <td>457.500000</td>\n",
              "      <td>464.450012</td>\n",
              "      <td>5849003.0</td>\n",
              "      <td>464.450012</td>\n",
              "    </tr>\n",
              "    <tr>\n",
              "      <th>2020-01-28</th>\n",
              "      <td>468.000000</td>\n",
              "      <td>458.950012</td>\n",
              "      <td>465.000000</td>\n",
              "      <td>464.700012</td>\n",
              "      <td>3592413.0</td>\n",
              "      <td>464.700012</td>\n",
              "    </tr>\n",
              "    <tr>\n",
              "      <th>2020-01-29</th>\n",
              "      <td>467.399994</td>\n",
              "      <td>460.350006</td>\n",
              "      <td>464.700012</td>\n",
              "      <td>461.549988</td>\n",
              "      <td>1737285.0</td>\n",
              "      <td>461.549988</td>\n",
              "    </tr>\n",
              "    <tr>\n",
              "      <th>2020-01-30</th>\n",
              "      <td>461.000000</td>\n",
              "      <td>446.350006</td>\n",
              "      <td>461.000000</td>\n",
              "      <td>449.750000</td>\n",
              "      <td>2683673.0</td>\n",
              "      <td>449.750000</td>\n",
              "    </tr>\n",
              "  </tbody>\n",
              "</table>\n",
              "<p>556 rows × 6 columns</p>\n",
              "</div>"
            ],
            "text/plain": [
              "                  High         Low  ...     Volume   Adj Close\n",
              "Date                                ...                       \n",
              "2017-10-25  604.000000  589.500000  ...   991374.0  586.384583\n",
              "2017-10-26  616.799988  592.549988  ...  2002276.0  605.035278\n",
              "2017-10-27  629.799988  616.200012  ...  2198491.0  618.442017\n",
              "2017-10-30  630.000000  614.549988  ...  1045267.0  619.431396\n",
              "2017-10-31  634.900024  621.599976  ...  1522851.0  620.965088\n",
              "...                ...         ...  ...        ...         ...\n",
              "2020-01-23  475.850006  459.350006  ...  5783699.0  465.149994\n",
              "2020-01-27  466.500000  454.200012  ...  5849003.0  464.450012\n",
              "2020-01-28  468.000000  458.950012  ...  3592413.0  464.700012\n",
              "2020-01-29  467.399994  460.350006  ...  1737285.0  461.549988\n",
              "2020-01-30  461.000000  446.350006  ...  2683673.0  449.750000\n",
              "\n",
              "[556 rows x 6 columns]"
            ]
          },
          "metadata": {
            "tags": []
          },
          "execution_count": 55
        }
      ]
    },
    {
      "cell_type": "code",
      "metadata": {
        "id": "H4Wxayb9fts_",
        "colab_type": "code",
        "outputId": "df4237c4-e160-4a54-c6a0-79f21e433e27",
        "colab": {
          "base_uri": "https://localhost:8080/",
          "height": 243
        }
      },
      "source": [
        "test"
      ],
      "execution_count": 0,
      "outputs": [
        {
          "output_type": "execute_result",
          "data": {
            "text/plain": [
              "Date\n",
              "2014-07-23    431.095520\n",
              "2011-03-21    275.758331\n",
              "2011-03-07    292.576935\n",
              "2013-02-27    353.371246\n",
              "2010-06-23    321.007446\n",
              "                 ...    \n",
              "2015-07-31    694.711365\n",
              "2015-10-27    672.734924\n",
              "2012-11-26    370.304749\n",
              "2018-08-02    631.749817\n",
              "2010-11-09    335.366180\n",
              "Name: Adj Close, Length: 497, dtype: float64"
            ]
          },
          "metadata": {
            "tags": []
          },
          "execution_count": 25
        }
      ]
    },
    {
      "cell_type": "code",
      "metadata": {
        "id": "V-5Cg4IvKoQc",
        "colab_type": "code",
        "outputId": "b86f5415-e3b8-456f-b0ff-72b86916a836",
        "colab": {
          "base_uri": "https://localhost:8080/",
          "height": 434
        }
      },
      "source": [
        "pd.DataFrame(predicted_stock_price,index=test.index)"
      ],
      "execution_count": 0,
      "outputs": [
        {
          "output_type": "error",
          "ename": "ValueError",
          "evalue": "ignored",
          "traceback": [
            "\u001b[0;31m---------------------------------------------------------------------------\u001b[0m",
            "\u001b[0;31mValueError\u001b[0m                                Traceback (most recent call last)",
            "\u001b[0;32m/usr/local/lib/python3.6/dist-packages/pandas/core/internals/managers.py\u001b[0m in \u001b[0;36mcreate_block_manager_from_blocks\u001b[0;34m(blocks, axes)\u001b[0m\n\u001b[1;32m   1680\u001b[0m \u001b[0;34m\u001b[0m\u001b[0m\n\u001b[0;32m-> 1681\u001b[0;31m         \u001b[0mmgr\u001b[0m \u001b[0;34m=\u001b[0m \u001b[0mBlockManager\u001b[0m\u001b[0;34m(\u001b[0m\u001b[0mblocks\u001b[0m\u001b[0;34m,\u001b[0m \u001b[0maxes\u001b[0m\u001b[0;34m)\u001b[0m\u001b[0;34m\u001b[0m\u001b[0;34m\u001b[0m\u001b[0m\n\u001b[0m\u001b[1;32m   1682\u001b[0m         \u001b[0mmgr\u001b[0m\u001b[0;34m.\u001b[0m\u001b[0m_consolidate_inplace\u001b[0m\u001b[0;34m(\u001b[0m\u001b[0;34m)\u001b[0m\u001b[0;34m\u001b[0m\u001b[0;34m\u001b[0m\u001b[0m\n",
            "\u001b[0;32m/usr/local/lib/python3.6/dist-packages/pandas/core/internals/managers.py\u001b[0m in \u001b[0;36m__init__\u001b[0;34m(self, blocks, axes, do_integrity_check)\u001b[0m\n\u001b[1;32m    142\u001b[0m         \u001b[0;32mif\u001b[0m \u001b[0mdo_integrity_check\u001b[0m\u001b[0;34m:\u001b[0m\u001b[0;34m\u001b[0m\u001b[0;34m\u001b[0m\u001b[0m\n\u001b[0;32m--> 143\u001b[0;31m             \u001b[0mself\u001b[0m\u001b[0;34m.\u001b[0m\u001b[0m_verify_integrity\u001b[0m\u001b[0;34m(\u001b[0m\u001b[0;34m)\u001b[0m\u001b[0;34m\u001b[0m\u001b[0;34m\u001b[0m\u001b[0m\n\u001b[0m\u001b[1;32m    144\u001b[0m \u001b[0;34m\u001b[0m\u001b[0m\n",
            "\u001b[0;32m/usr/local/lib/python3.6/dist-packages/pandas/core/internals/managers.py\u001b[0m in \u001b[0;36m_verify_integrity\u001b[0;34m(self)\u001b[0m\n\u001b[1;32m    344\u001b[0m             \u001b[0;32mif\u001b[0m \u001b[0mblock\u001b[0m\u001b[0;34m.\u001b[0m\u001b[0m_verify_integrity\u001b[0m \u001b[0;32mand\u001b[0m \u001b[0mblock\u001b[0m\u001b[0;34m.\u001b[0m\u001b[0mshape\u001b[0m\u001b[0;34m[\u001b[0m\u001b[0;36m1\u001b[0m\u001b[0;34m:\u001b[0m\u001b[0;34m]\u001b[0m \u001b[0;34m!=\u001b[0m \u001b[0mmgr_shape\u001b[0m\u001b[0;34m[\u001b[0m\u001b[0;36m1\u001b[0m\u001b[0;34m:\u001b[0m\u001b[0;34m]\u001b[0m\u001b[0;34m:\u001b[0m\u001b[0;34m\u001b[0m\u001b[0;34m\u001b[0m\u001b[0m\n\u001b[0;32m--> 345\u001b[0;31m                 \u001b[0mconstruction_error\u001b[0m\u001b[0;34m(\u001b[0m\u001b[0mtot_items\u001b[0m\u001b[0;34m,\u001b[0m \u001b[0mblock\u001b[0m\u001b[0;34m.\u001b[0m\u001b[0mshape\u001b[0m\u001b[0;34m[\u001b[0m\u001b[0;36m1\u001b[0m\u001b[0;34m:\u001b[0m\u001b[0;34m]\u001b[0m\u001b[0;34m,\u001b[0m \u001b[0mself\u001b[0m\u001b[0;34m.\u001b[0m\u001b[0maxes\u001b[0m\u001b[0;34m)\u001b[0m\u001b[0;34m\u001b[0m\u001b[0;34m\u001b[0m\u001b[0m\n\u001b[0m\u001b[1;32m    346\u001b[0m         \u001b[0;32mif\u001b[0m \u001b[0mlen\u001b[0m\u001b[0;34m(\u001b[0m\u001b[0mself\u001b[0m\u001b[0;34m.\u001b[0m\u001b[0mitems\u001b[0m\u001b[0;34m)\u001b[0m \u001b[0;34m!=\u001b[0m \u001b[0mtot_items\u001b[0m\u001b[0;34m:\u001b[0m\u001b[0;34m\u001b[0m\u001b[0;34m\u001b[0m\u001b[0m\n",
            "\u001b[0;32m/usr/local/lib/python3.6/dist-packages/pandas/core/internals/managers.py\u001b[0m in \u001b[0;36mconstruction_error\u001b[0;34m(tot_items, block_shape, axes, e)\u001b[0m\n\u001b[1;32m   1718\u001b[0m     raise ValueError(\n\u001b[0;32m-> 1719\u001b[0;31m         \u001b[0;34m\"Shape of passed values is {0}, indices imply {1}\"\u001b[0m\u001b[0;34m.\u001b[0m\u001b[0mformat\u001b[0m\u001b[0;34m(\u001b[0m\u001b[0mpassed\u001b[0m\u001b[0;34m,\u001b[0m \u001b[0mimplied\u001b[0m\u001b[0;34m)\u001b[0m\u001b[0;34m\u001b[0m\u001b[0;34m\u001b[0m\u001b[0m\n\u001b[0m\u001b[1;32m   1720\u001b[0m     )\n",
            "\u001b[0;31mValueError\u001b[0m: Shape of passed values is (437, 1), indices imply (497, 1)",
            "\nDuring handling of the above exception, another exception occurred:\n",
            "\u001b[0;31mValueError\u001b[0m                                Traceback (most recent call last)",
            "\u001b[0;32m<ipython-input-152-403c2887eb3e>\u001b[0m in \u001b[0;36m<module>\u001b[0;34m()\u001b[0m\n\u001b[0;32m----> 1\u001b[0;31m \u001b[0mpd\u001b[0m\u001b[0;34m.\u001b[0m\u001b[0mDataFrame\u001b[0m\u001b[0;34m(\u001b[0m\u001b[0mpredicted_stock_price\u001b[0m\u001b[0;34m,\u001b[0m\u001b[0mindex\u001b[0m\u001b[0;34m=\u001b[0m\u001b[0mtest\u001b[0m\u001b[0;34m.\u001b[0m\u001b[0mindex\u001b[0m\u001b[0;34m)\u001b[0m\u001b[0;34m\u001b[0m\u001b[0;34m\u001b[0m\u001b[0m\n\u001b[0m",
            "\u001b[0;32m/usr/local/lib/python3.6/dist-packages/pandas/core/frame.py\u001b[0m in \u001b[0;36m__init__\u001b[0;34m(self, data, index, columns, dtype, copy)\u001b[0m\n\u001b[1;32m    438\u001b[0m                 \u001b[0mmgr\u001b[0m \u001b[0;34m=\u001b[0m \u001b[0minit_dict\u001b[0m\u001b[0;34m(\u001b[0m\u001b[0;34m{\u001b[0m\u001b[0mdata\u001b[0m\u001b[0;34m.\u001b[0m\u001b[0mname\u001b[0m\u001b[0;34m:\u001b[0m \u001b[0mdata\u001b[0m\u001b[0;34m}\u001b[0m\u001b[0;34m,\u001b[0m \u001b[0mindex\u001b[0m\u001b[0;34m,\u001b[0m \u001b[0mcolumns\u001b[0m\u001b[0;34m,\u001b[0m \u001b[0mdtype\u001b[0m\u001b[0;34m=\u001b[0m\u001b[0mdtype\u001b[0m\u001b[0;34m)\u001b[0m\u001b[0;34m\u001b[0m\u001b[0;34m\u001b[0m\u001b[0m\n\u001b[1;32m    439\u001b[0m             \u001b[0;32melse\u001b[0m\u001b[0;34m:\u001b[0m\u001b[0;34m\u001b[0m\u001b[0;34m\u001b[0m\u001b[0m\n\u001b[0;32m--> 440\u001b[0;31m                 \u001b[0mmgr\u001b[0m \u001b[0;34m=\u001b[0m \u001b[0minit_ndarray\u001b[0m\u001b[0;34m(\u001b[0m\u001b[0mdata\u001b[0m\u001b[0;34m,\u001b[0m \u001b[0mindex\u001b[0m\u001b[0;34m,\u001b[0m \u001b[0mcolumns\u001b[0m\u001b[0;34m,\u001b[0m \u001b[0mdtype\u001b[0m\u001b[0;34m=\u001b[0m\u001b[0mdtype\u001b[0m\u001b[0;34m,\u001b[0m \u001b[0mcopy\u001b[0m\u001b[0;34m=\u001b[0m\u001b[0mcopy\u001b[0m\u001b[0;34m)\u001b[0m\u001b[0;34m\u001b[0m\u001b[0;34m\u001b[0m\u001b[0m\n\u001b[0m\u001b[1;32m    441\u001b[0m \u001b[0;34m\u001b[0m\u001b[0m\n\u001b[1;32m    442\u001b[0m         \u001b[0;31m# For data is list-like, or Iterable (will consume into list)\u001b[0m\u001b[0;34m\u001b[0m\u001b[0;34m\u001b[0m\u001b[0;34m\u001b[0m\u001b[0m\n",
            "\u001b[0;32m/usr/local/lib/python3.6/dist-packages/pandas/core/internals/construction.py\u001b[0m in \u001b[0;36minit_ndarray\u001b[0;34m(values, index, columns, dtype, copy)\u001b[0m\n\u001b[1;32m    211\u001b[0m         \u001b[0mblock_values\u001b[0m \u001b[0;34m=\u001b[0m \u001b[0;34m[\u001b[0m\u001b[0mvalues\u001b[0m\u001b[0;34m]\u001b[0m\u001b[0;34m\u001b[0m\u001b[0;34m\u001b[0m\u001b[0m\n\u001b[1;32m    212\u001b[0m \u001b[0;34m\u001b[0m\u001b[0m\n\u001b[0;32m--> 213\u001b[0;31m     \u001b[0;32mreturn\u001b[0m \u001b[0mcreate_block_manager_from_blocks\u001b[0m\u001b[0;34m(\u001b[0m\u001b[0mblock_values\u001b[0m\u001b[0;34m,\u001b[0m \u001b[0;34m[\u001b[0m\u001b[0mcolumns\u001b[0m\u001b[0;34m,\u001b[0m \u001b[0mindex\u001b[0m\u001b[0;34m]\u001b[0m\u001b[0;34m)\u001b[0m\u001b[0;34m\u001b[0m\u001b[0;34m\u001b[0m\u001b[0m\n\u001b[0m\u001b[1;32m    214\u001b[0m \u001b[0;34m\u001b[0m\u001b[0m\n\u001b[1;32m    215\u001b[0m \u001b[0;34m\u001b[0m\u001b[0m\n",
            "\u001b[0;32m/usr/local/lib/python3.6/dist-packages/pandas/core/internals/managers.py\u001b[0m in \u001b[0;36mcreate_block_manager_from_blocks\u001b[0;34m(blocks, axes)\u001b[0m\n\u001b[1;32m   1686\u001b[0m         \u001b[0mblocks\u001b[0m \u001b[0;34m=\u001b[0m \u001b[0;34m[\u001b[0m\u001b[0mgetattr\u001b[0m\u001b[0;34m(\u001b[0m\u001b[0mb\u001b[0m\u001b[0;34m,\u001b[0m \u001b[0;34m\"values\"\u001b[0m\u001b[0;34m,\u001b[0m \u001b[0mb\u001b[0m\u001b[0;34m)\u001b[0m \u001b[0;32mfor\u001b[0m \u001b[0mb\u001b[0m \u001b[0;32min\u001b[0m \u001b[0mblocks\u001b[0m\u001b[0;34m]\u001b[0m\u001b[0;34m\u001b[0m\u001b[0;34m\u001b[0m\u001b[0m\n\u001b[1;32m   1687\u001b[0m         \u001b[0mtot_items\u001b[0m \u001b[0;34m=\u001b[0m \u001b[0msum\u001b[0m\u001b[0;34m(\u001b[0m\u001b[0mb\u001b[0m\u001b[0;34m.\u001b[0m\u001b[0mshape\u001b[0m\u001b[0;34m[\u001b[0m\u001b[0;36m0\u001b[0m\u001b[0;34m]\u001b[0m \u001b[0;32mfor\u001b[0m \u001b[0mb\u001b[0m \u001b[0;32min\u001b[0m \u001b[0mblocks\u001b[0m\u001b[0;34m)\u001b[0m\u001b[0;34m\u001b[0m\u001b[0;34m\u001b[0m\u001b[0m\n\u001b[0;32m-> 1688\u001b[0;31m         \u001b[0mconstruction_error\u001b[0m\u001b[0;34m(\u001b[0m\u001b[0mtot_items\u001b[0m\u001b[0;34m,\u001b[0m \u001b[0mblocks\u001b[0m\u001b[0;34m[\u001b[0m\u001b[0;36m0\u001b[0m\u001b[0;34m]\u001b[0m\u001b[0;34m.\u001b[0m\u001b[0mshape\u001b[0m\u001b[0;34m[\u001b[0m\u001b[0;36m1\u001b[0m\u001b[0;34m:\u001b[0m\u001b[0;34m]\u001b[0m\u001b[0;34m,\u001b[0m \u001b[0maxes\u001b[0m\u001b[0;34m,\u001b[0m \u001b[0me\u001b[0m\u001b[0;34m)\u001b[0m\u001b[0;34m\u001b[0m\u001b[0;34m\u001b[0m\u001b[0m\n\u001b[0m\u001b[1;32m   1689\u001b[0m \u001b[0;34m\u001b[0m\u001b[0m\n\u001b[1;32m   1690\u001b[0m \u001b[0;34m\u001b[0m\u001b[0m\n",
            "\u001b[0;32m/usr/local/lib/python3.6/dist-packages/pandas/core/internals/managers.py\u001b[0m in \u001b[0;36mconstruction_error\u001b[0;34m(tot_items, block_shape, axes, e)\u001b[0m\n\u001b[1;32m   1717\u001b[0m         \u001b[0;32mraise\u001b[0m \u001b[0mValueError\u001b[0m\u001b[0;34m(\u001b[0m\u001b[0;34m\"Empty data passed with indices specified.\"\u001b[0m\u001b[0;34m)\u001b[0m\u001b[0;34m\u001b[0m\u001b[0;34m\u001b[0m\u001b[0m\n\u001b[1;32m   1718\u001b[0m     raise ValueError(\n\u001b[0;32m-> 1719\u001b[0;31m         \u001b[0;34m\"Shape of passed values is {0}, indices imply {1}\"\u001b[0m\u001b[0;34m.\u001b[0m\u001b[0mformat\u001b[0m\u001b[0;34m(\u001b[0m\u001b[0mpassed\u001b[0m\u001b[0;34m,\u001b[0m \u001b[0mimplied\u001b[0m\u001b[0;34m)\u001b[0m\u001b[0;34m\u001b[0m\u001b[0;34m\u001b[0m\u001b[0m\n\u001b[0m\u001b[1;32m   1720\u001b[0m     )\n\u001b[1;32m   1721\u001b[0m \u001b[0;34m\u001b[0m\u001b[0m\n",
            "\u001b[0;31mValueError\u001b[0m: Shape of passed values is (437, 1), indices imply (497, 1)"
          ]
        }
      ]
    },
    {
      "cell_type": "code",
      "metadata": {
        "id": "6a_3TOnSPcYY",
        "colab_type": "code",
        "outputId": "916dcb50-f7b5-4ef1-b47a-f3151f9c56aa",
        "colab": {
          "base_uri": "https://localhost:8080/",
          "height": 424
        }
      },
      "source": [
        "pd.concat((pd.DataFrame(test),pd.DataFrame(predicted_stock_price)),axis=1)"
      ],
      "execution_count": 0,
      "outputs": [
        {
          "output_type": "execute_result",
          "data": {
            "text/html": [
              "<div>\n",
              "<style scoped>\n",
              "    .dataframe tbody tr th:only-of-type {\n",
              "        vertical-align: middle;\n",
              "    }\n",
              "\n",
              "    .dataframe tbody tr th {\n",
              "        vertical-align: top;\n",
              "    }\n",
              "\n",
              "    .dataframe thead th {\n",
              "        text-align: right;\n",
              "    }\n",
              "</style>\n",
              "<table border=\"1\" class=\"dataframe\">\n",
              "  <thead>\n",
              "    <tr style=\"text-align: right;\">\n",
              "      <th></th>\n",
              "      <th>Adj Close</th>\n",
              "      <th>0</th>\n",
              "    </tr>\n",
              "  </thead>\n",
              "  <tbody>\n",
              "    <tr>\n",
              "      <th>1970-01-01 00:00:00.000000000</th>\n",
              "      <td>NaN</td>\n",
              "      <td>NaN</td>\n",
              "    </tr>\n",
              "    <tr>\n",
              "      <th>1970-01-01 00:00:00.000000001</th>\n",
              "      <td>NaN</td>\n",
              "      <td>NaN</td>\n",
              "    </tr>\n",
              "    <tr>\n",
              "      <th>1970-01-01 00:00:00.000000002</th>\n",
              "      <td>NaN</td>\n",
              "      <td>NaN</td>\n",
              "    </tr>\n",
              "    <tr>\n",
              "      <th>1970-01-01 00:00:00.000000003</th>\n",
              "      <td>NaN</td>\n",
              "      <td>NaN</td>\n",
              "    </tr>\n",
              "    <tr>\n",
              "      <th>1970-01-01 00:00:00.000000004</th>\n",
              "      <td>NaN</td>\n",
              "      <td>NaN</td>\n",
              "    </tr>\n",
              "    <tr>\n",
              "      <th>...</th>\n",
              "      <td>...</td>\n",
              "      <td>...</td>\n",
              "    </tr>\n",
              "    <tr>\n",
              "      <th>2019-12-10 00:00:00.000000000</th>\n",
              "      <td>453.049988</td>\n",
              "      <td>NaN</td>\n",
              "    </tr>\n",
              "    <tr>\n",
              "      <th>2019-12-23 00:00:00.000000000</th>\n",
              "      <td>467.850006</td>\n",
              "      <td>NaN</td>\n",
              "    </tr>\n",
              "    <tr>\n",
              "      <th>2020-01-01 00:00:00.000000000</th>\n",
              "      <td>475.899994</td>\n",
              "      <td>NaN</td>\n",
              "    </tr>\n",
              "    <tr>\n",
              "      <th>2020-01-15 00:00:00.000000000</th>\n",
              "      <td>484.000000</td>\n",
              "      <td>NaN</td>\n",
              "    </tr>\n",
              "    <tr>\n",
              "      <th>2020-01-28 00:00:00.000000000</th>\n",
              "      <td>464.700012</td>\n",
              "      <td>NaN</td>\n",
              "    </tr>\n",
              "  </tbody>\n",
              "</table>\n",
              "<p>933 rows × 2 columns</p>\n",
              "</div>"
            ],
            "text/plain": [
              "                                Adj Close   0\n",
              "1970-01-01 00:00:00.000000000         NaN NaN\n",
              "1970-01-01 00:00:00.000000001         NaN NaN\n",
              "1970-01-01 00:00:00.000000002         NaN NaN\n",
              "1970-01-01 00:00:00.000000003         NaN NaN\n",
              "1970-01-01 00:00:00.000000004         NaN NaN\n",
              "...                                   ...  ..\n",
              "2019-12-10 00:00:00.000000000  453.049988 NaN\n",
              "2019-12-23 00:00:00.000000000  467.850006 NaN\n",
              "2020-01-01 00:00:00.000000000  475.899994 NaN\n",
              "2020-01-15 00:00:00.000000000  484.000000 NaN\n",
              "2020-01-28 00:00:00.000000000  464.700012 NaN\n",
              "\n",
              "[933 rows x 2 columns]"
            ]
          },
          "metadata": {
            "tags": []
          },
          "execution_count": 56
        }
      ]
    },
    {
      "cell_type": "code",
      "metadata": {
        "id": "cdTp81rQ3WYo",
        "colab_type": "code",
        "outputId": "0b982396-c5b9-46a5-acda-c84f7a72930f",
        "colab": {
          "base_uri": "https://localhost:8080/",
          "height": 1000
        }
      },
      "source": [
        "\n",
        "\n",
        "# Visualising the results\n",
        "plt.plot(test, color = 'red', label = 'Real TATA Stock Price')\n",
        "plt.plot(predicted_stock_price, color = 'blue', label = 'Predicted TATA Stock Price')\n",
        "plt.title('TATA Stock Price Prediction')\n",
        "plt.xlabel('Time')\n",
        "plt.ylabel('TATA Stock Price')\n",
        "plt.legend()\n",
        "plt.show()"
      ],
      "execution_count": 0,
      "outputs": [
        {
          "output_type": "error",
          "ename": "ConversionError",
          "evalue": "ignored",
          "traceback": [
            "\u001b[0;31m---------------------------------------------------------------------------\u001b[0m",
            "\u001b[0;31mTypeError\u001b[0m                                 Traceback (most recent call last)",
            "\u001b[0;32m/usr/local/lib/python3.6/dist-packages/pandas/core/arrays/datetimes.py\u001b[0m in \u001b[0;36mobjects_to_datetime64ns\u001b[0;34m(data, dayfirst, yearfirst, utc, errors, require_iso8601, allow_object)\u001b[0m\n\u001b[1;32m   1978\u001b[0m         \u001b[0;32mtry\u001b[0m\u001b[0;34m:\u001b[0m\u001b[0;34m\u001b[0m\u001b[0;34m\u001b[0m\u001b[0m\n\u001b[0;32m-> 1979\u001b[0;31m             \u001b[0mvalues\u001b[0m\u001b[0;34m,\u001b[0m \u001b[0mtz_parsed\u001b[0m \u001b[0;34m=\u001b[0m \u001b[0mconversion\u001b[0m\u001b[0;34m.\u001b[0m\u001b[0mdatetime_to_datetime64\u001b[0m\u001b[0;34m(\u001b[0m\u001b[0mdata\u001b[0m\u001b[0;34m)\u001b[0m\u001b[0;34m\u001b[0m\u001b[0;34m\u001b[0m\u001b[0m\n\u001b[0m\u001b[1;32m   1980\u001b[0m             \u001b[0;31m# If tzaware, these values represent unix timestamps, so we\u001b[0m\u001b[0;34m\u001b[0m\u001b[0;34m\u001b[0m\u001b[0;34m\u001b[0m\u001b[0m\n",
            "\u001b[0;32mpandas/_libs/tslibs/conversion.pyx\u001b[0m in \u001b[0;36mpandas._libs.tslibs.conversion.datetime_to_datetime64\u001b[0;34m()\u001b[0m\n",
            "\u001b[0;31mTypeError\u001b[0m: Unrecognized value type: <class 'str'>",
            "\nDuring handling of the above exception, another exception occurred:\n",
            "\u001b[0;31mValueError\u001b[0m                                Traceback (most recent call last)",
            "\u001b[0;32m/usr/local/lib/python3.6/dist-packages/pandas/plotting/_matplotlib/converter.py\u001b[0m in \u001b[0;36m_convert_1d\u001b[0;34m(values, unit, axis)\u001b[0m\n\u001b[1;32m    294\u001b[0m             \u001b[0;32mtry\u001b[0m\u001b[0;34m:\u001b[0m\u001b[0;34m\u001b[0m\u001b[0;34m\u001b[0m\u001b[0m\n\u001b[0;32m--> 295\u001b[0;31m                 \u001b[0mvalues\u001b[0m \u001b[0;34m=\u001b[0m \u001b[0mtools\u001b[0m\u001b[0;34m.\u001b[0m\u001b[0mto_datetime\u001b[0m\u001b[0;34m(\u001b[0m\u001b[0mvalues\u001b[0m\u001b[0;34m)\u001b[0m\u001b[0;34m\u001b[0m\u001b[0;34m\u001b[0m\u001b[0m\n\u001b[0m\u001b[1;32m    296\u001b[0m                 \u001b[0;32mif\u001b[0m \u001b[0misinstance\u001b[0m\u001b[0;34m(\u001b[0m\u001b[0mvalues\u001b[0m\u001b[0;34m,\u001b[0m \u001b[0mIndex\u001b[0m\u001b[0;34m)\u001b[0m\u001b[0;34m:\u001b[0m\u001b[0;34m\u001b[0m\u001b[0;34m\u001b[0m\u001b[0m\n",
            "\u001b[0;32m/usr/local/lib/python3.6/dist-packages/pandas/util/_decorators.py\u001b[0m in \u001b[0;36mwrapper\u001b[0;34m(*args, **kwargs)\u001b[0m\n\u001b[1;32m    207\u001b[0m                     \u001b[0mkwargs\u001b[0m\u001b[0;34m[\u001b[0m\u001b[0mnew_arg_name\u001b[0m\u001b[0;34m]\u001b[0m \u001b[0;34m=\u001b[0m \u001b[0mnew_arg_value\u001b[0m\u001b[0;34m\u001b[0m\u001b[0;34m\u001b[0m\u001b[0m\n\u001b[0;32m--> 208\u001b[0;31m             \u001b[0;32mreturn\u001b[0m \u001b[0mfunc\u001b[0m\u001b[0;34m(\u001b[0m\u001b[0;34m*\u001b[0m\u001b[0margs\u001b[0m\u001b[0;34m,\u001b[0m \u001b[0;34m**\u001b[0m\u001b[0mkwargs\u001b[0m\u001b[0;34m)\u001b[0m\u001b[0;34m\u001b[0m\u001b[0;34m\u001b[0m\u001b[0m\n\u001b[0m\u001b[1;32m    209\u001b[0m \u001b[0;34m\u001b[0m\u001b[0m\n",
            "\u001b[0;32m/usr/local/lib/python3.6/dist-packages/pandas/core/tools/datetimes.py\u001b[0m in \u001b[0;36mto_datetime\u001b[0;34m(arg, errors, dayfirst, yearfirst, utc, box, format, exact, unit, infer_datetime_format, origin, cache)\u001b[0m\n\u001b[1;32m    793\u001b[0m         \u001b[0;32melse\u001b[0m\u001b[0;34m:\u001b[0m\u001b[0;34m\u001b[0m\u001b[0;34m\u001b[0m\u001b[0m\n\u001b[0;32m--> 794\u001b[0;31m             \u001b[0mresult\u001b[0m \u001b[0;34m=\u001b[0m \u001b[0mconvert_listlike\u001b[0m\u001b[0;34m(\u001b[0m\u001b[0marg\u001b[0m\u001b[0;34m,\u001b[0m \u001b[0mbox\u001b[0m\u001b[0;34m,\u001b[0m \u001b[0mformat\u001b[0m\u001b[0;34m)\u001b[0m\u001b[0;34m\u001b[0m\u001b[0;34m\u001b[0m\u001b[0m\n\u001b[0m\u001b[1;32m    795\u001b[0m     \u001b[0;32melse\u001b[0m\u001b[0;34m:\u001b[0m\u001b[0;34m\u001b[0m\u001b[0;34m\u001b[0m\u001b[0m\n",
            "\u001b[0;32m/usr/local/lib/python3.6/dist-packages/pandas/core/tools/datetimes.py\u001b[0m in \u001b[0;36m_convert_listlike_datetimes\u001b[0;34m(arg, box, format, name, tz, unit, errors, infer_datetime_format, dayfirst, yearfirst, exact)\u001b[0m\n\u001b[1;32m    462\u001b[0m             \u001b[0mrequire_iso8601\u001b[0m\u001b[0;34m=\u001b[0m\u001b[0mrequire_iso8601\u001b[0m\u001b[0;34m,\u001b[0m\u001b[0;34m\u001b[0m\u001b[0;34m\u001b[0m\u001b[0m\n\u001b[0;32m--> 463\u001b[0;31m             \u001b[0mallow_object\u001b[0m\u001b[0;34m=\u001b[0m\u001b[0;32mTrue\u001b[0m\u001b[0;34m,\u001b[0m\u001b[0;34m\u001b[0m\u001b[0;34m\u001b[0m\u001b[0m\n\u001b[0m\u001b[1;32m    464\u001b[0m         )\n",
            "\u001b[0;32m/usr/local/lib/python3.6/dist-packages/pandas/core/arrays/datetimes.py\u001b[0m in \u001b[0;36mobjects_to_datetime64ns\u001b[0;34m(data, dayfirst, yearfirst, utc, errors, require_iso8601, allow_object)\u001b[0m\n\u001b[1;32m   1983\u001b[0m         \u001b[0;32mexcept\u001b[0m \u001b[0;34m(\u001b[0m\u001b[0mValueError\u001b[0m\u001b[0;34m,\u001b[0m \u001b[0mTypeError\u001b[0m\u001b[0;34m)\u001b[0m\u001b[0;34m:\u001b[0m\u001b[0;34m\u001b[0m\u001b[0;34m\u001b[0m\u001b[0m\n\u001b[0;32m-> 1984\u001b[0;31m             \u001b[0;32mraise\u001b[0m \u001b[0me\u001b[0m\u001b[0;34m\u001b[0m\u001b[0;34m\u001b[0m\u001b[0m\n\u001b[0m\u001b[1;32m   1985\u001b[0m \u001b[0;34m\u001b[0m\u001b[0m\n",
            "\u001b[0;32m/usr/local/lib/python3.6/dist-packages/pandas/core/arrays/datetimes.py\u001b[0m in \u001b[0;36mobjects_to_datetime64ns\u001b[0;34m(data, dayfirst, yearfirst, utc, errors, require_iso8601, allow_object)\u001b[0m\n\u001b[1;32m   1974\u001b[0m             \u001b[0myearfirst\u001b[0m\u001b[0;34m=\u001b[0m\u001b[0myearfirst\u001b[0m\u001b[0;34m,\u001b[0m\u001b[0;34m\u001b[0m\u001b[0;34m\u001b[0m\u001b[0m\n\u001b[0;32m-> 1975\u001b[0;31m             \u001b[0mrequire_iso8601\u001b[0m\u001b[0;34m=\u001b[0m\u001b[0mrequire_iso8601\u001b[0m\u001b[0;34m,\u001b[0m\u001b[0;34m\u001b[0m\u001b[0;34m\u001b[0m\u001b[0m\n\u001b[0m\u001b[1;32m   1976\u001b[0m         )\n",
            "\u001b[0;32mpandas/_libs/tslib.pyx\u001b[0m in \u001b[0;36mpandas._libs.tslib.array_to_datetime\u001b[0;34m()\u001b[0m\n",
            "\u001b[0;32mpandas/_libs/tslib.pyx\u001b[0m in \u001b[0;36mpandas._libs.tslib.array_to_datetime\u001b[0;34m()\u001b[0m\n",
            "\u001b[0;32mpandas/_libs/tslib.pyx\u001b[0m in \u001b[0;36mpandas._libs.tslib.array_to_datetime_object\u001b[0;34m()\u001b[0m\n",
            "\u001b[0;32mpandas/_libs/tslib.pyx\u001b[0m in \u001b[0;36mpandas._libs.tslib.array_to_datetime_object\u001b[0;34m()\u001b[0m\n",
            "\u001b[0;32mpandas/_libs/tslibs/parsing.pyx\u001b[0m in \u001b[0;36mpandas._libs.tslibs.parsing.parse_datetime_string\u001b[0;34m()\u001b[0m\n",
            "\u001b[0;32m/usr/local/lib/python3.6/dist-packages/dateutil/parser.py\u001b[0m in \u001b[0;36mparse\u001b[0;34m(timestr, parserinfo, **kwargs)\u001b[0m\n\u001b[1;32m   1181\u001b[0m     \u001b[0;32melse\u001b[0m\u001b[0;34m:\u001b[0m\u001b[0;34m\u001b[0m\u001b[0;34m\u001b[0m\u001b[0m\n\u001b[0;32m-> 1182\u001b[0;31m         \u001b[0;32mreturn\u001b[0m \u001b[0mDEFAULTPARSER\u001b[0m\u001b[0;34m.\u001b[0m\u001b[0mparse\u001b[0m\u001b[0;34m(\u001b[0m\u001b[0mtimestr\u001b[0m\u001b[0;34m,\u001b[0m \u001b[0;34m**\u001b[0m\u001b[0mkwargs\u001b[0m\u001b[0;34m)\u001b[0m\u001b[0;34m\u001b[0m\u001b[0;34m\u001b[0m\u001b[0m\n\u001b[0m\u001b[1;32m   1183\u001b[0m \u001b[0;34m\u001b[0m\u001b[0m\n",
            "\u001b[0;32m/usr/local/lib/python3.6/dist-packages/dateutil/parser.py\u001b[0m in \u001b[0;36mparse\u001b[0;34m(self, timestr, default, ignoretz, tzinfos, **kwargs)\u001b[0m\n\u001b[1;32m    558\u001b[0m         \u001b[0;32mif\u001b[0m \u001b[0mres\u001b[0m \u001b[0;32mis\u001b[0m \u001b[0;32mNone\u001b[0m\u001b[0;34m:\u001b[0m\u001b[0;34m\u001b[0m\u001b[0;34m\u001b[0m\u001b[0m\n\u001b[0;32m--> 559\u001b[0;31m             \u001b[0;32mraise\u001b[0m \u001b[0mValueError\u001b[0m\u001b[0;34m(\u001b[0m\u001b[0;34m\"Unknown string format\"\u001b[0m\u001b[0;34m)\u001b[0m\u001b[0;34m\u001b[0m\u001b[0;34m\u001b[0m\u001b[0m\n\u001b[0m\u001b[1;32m    560\u001b[0m \u001b[0;34m\u001b[0m\u001b[0m\n",
            "\u001b[0;31mValueError\u001b[0m: Unknown string format",
            "\nDuring handling of the above exception, another exception occurred:\n",
            "\u001b[0;31mAttributeError\u001b[0m                            Traceback (most recent call last)",
            "\u001b[0;32m/usr/local/lib/python3.6/dist-packages/matplotlib/axis.py\u001b[0m in \u001b[0;36mconvert_units\u001b[0;34m(self, x)\u001b[0m\n\u001b[1;32m   1549\u001b[0m         \u001b[0;32mtry\u001b[0m\u001b[0;34m:\u001b[0m\u001b[0;34m\u001b[0m\u001b[0;34m\u001b[0m\u001b[0m\n\u001b[0;32m-> 1550\u001b[0;31m             \u001b[0mret\u001b[0m \u001b[0;34m=\u001b[0m \u001b[0mself\u001b[0m\u001b[0;34m.\u001b[0m\u001b[0mconverter\u001b[0m\u001b[0;34m.\u001b[0m\u001b[0mconvert\u001b[0m\u001b[0;34m(\u001b[0m\u001b[0mx\u001b[0m\u001b[0;34m,\u001b[0m \u001b[0mself\u001b[0m\u001b[0;34m.\u001b[0m\u001b[0munits\u001b[0m\u001b[0;34m,\u001b[0m \u001b[0mself\u001b[0m\u001b[0;34m)\u001b[0m\u001b[0;34m\u001b[0m\u001b[0;34m\u001b[0m\u001b[0m\n\u001b[0m\u001b[1;32m   1551\u001b[0m         \u001b[0;32mexcept\u001b[0m \u001b[0mException\u001b[0m \u001b[0;32mas\u001b[0m \u001b[0me\u001b[0m\u001b[0;34m:\u001b[0m\u001b[0;34m\u001b[0m\u001b[0;34m\u001b[0m\u001b[0m\n",
            "\u001b[0;32m/usr/local/lib/python3.6/dist-packages/pandas/plotting/_matplotlib/converter.py\u001b[0m in \u001b[0;36mconvert\u001b[0;34m(values, unit, axis)\u001b[0m\n\u001b[1;32m    259\u001b[0m         \u001b[0;32melse\u001b[0m\u001b[0;34m:\u001b[0m\u001b[0;34m\u001b[0m\u001b[0;34m\u001b[0m\u001b[0m\n\u001b[0;32m--> 260\u001b[0;31m             \u001b[0mvalues\u001b[0m \u001b[0;34m=\u001b[0m \u001b[0mDatetimeConverter\u001b[0m\u001b[0;34m.\u001b[0m\u001b[0m_convert_1d\u001b[0m\u001b[0;34m(\u001b[0m\u001b[0mvalues\u001b[0m\u001b[0;34m,\u001b[0m \u001b[0munit\u001b[0m\u001b[0;34m,\u001b[0m \u001b[0maxis\u001b[0m\u001b[0;34m)\u001b[0m\u001b[0;34m\u001b[0m\u001b[0;34m\u001b[0m\u001b[0m\n\u001b[0m\u001b[1;32m    261\u001b[0m         \u001b[0;32mreturn\u001b[0m \u001b[0mvalues\u001b[0m\u001b[0;34m\u001b[0m\u001b[0;34m\u001b[0m\u001b[0m\n",
            "\u001b[0;32m/usr/local/lib/python3.6/dist-packages/pandas/plotting/_matplotlib/converter.py\u001b[0m in \u001b[0;36m_convert_1d\u001b[0;34m(values, unit, axis)\u001b[0m\n\u001b[1;32m    300\u001b[0m             \u001b[0;32mexcept\u001b[0m \u001b[0mException\u001b[0m\u001b[0;34m:\u001b[0m\u001b[0;34m\u001b[0m\u001b[0;34m\u001b[0m\u001b[0m\n\u001b[0;32m--> 301\u001b[0;31m                 \u001b[0mvalues\u001b[0m \u001b[0;34m=\u001b[0m \u001b[0m_dt_to_float_ordinal\u001b[0m\u001b[0;34m(\u001b[0m\u001b[0mvalues\u001b[0m\u001b[0;34m)\u001b[0m\u001b[0;34m\u001b[0m\u001b[0;34m\u001b[0m\u001b[0m\n\u001b[0m\u001b[1;32m    302\u001b[0m \u001b[0;34m\u001b[0m\u001b[0m\n",
            "\u001b[0;32m/usr/local/lib/python3.6/dist-packages/pandas/plotting/_matplotlib/converter.py\u001b[0m in \u001b[0;36m_dt_to_float_ordinal\u001b[0;34m(dt)\u001b[0m\n\u001b[1;32m    246\u001b[0m     \u001b[0;32melse\u001b[0m\u001b[0;34m:\u001b[0m\u001b[0;34m\u001b[0m\u001b[0;34m\u001b[0m\u001b[0m\n\u001b[0;32m--> 247\u001b[0;31m         \u001b[0mbase\u001b[0m \u001b[0;34m=\u001b[0m \u001b[0mdates\u001b[0m\u001b[0;34m.\u001b[0m\u001b[0mdate2num\u001b[0m\u001b[0;34m(\u001b[0m\u001b[0mdt\u001b[0m\u001b[0;34m)\u001b[0m\u001b[0;34m\u001b[0m\u001b[0;34m\u001b[0m\u001b[0m\n\u001b[0m\u001b[1;32m    248\u001b[0m     \u001b[0;32mreturn\u001b[0m \u001b[0mbase\u001b[0m\u001b[0;34m\u001b[0m\u001b[0;34m\u001b[0m\u001b[0m\n",
            "\u001b[0;32m/usr/local/lib/python3.6/dist-packages/matplotlib/dates.py\u001b[0m in \u001b[0;36mdate2num\u001b[0;34m(d)\u001b[0m\n\u001b[1;32m    422\u001b[0m             \u001b[0;32mreturn\u001b[0m \u001b[0md\u001b[0m\u001b[0;34m\u001b[0m\u001b[0;34m\u001b[0m\u001b[0m\n\u001b[0;32m--> 423\u001b[0;31m         \u001b[0;32mreturn\u001b[0m \u001b[0m_to_ordinalf_np_vectorized\u001b[0m\u001b[0;34m(\u001b[0m\u001b[0md\u001b[0m\u001b[0;34m)\u001b[0m\u001b[0;34m\u001b[0m\u001b[0;34m\u001b[0m\u001b[0m\n\u001b[0m\u001b[1;32m    424\u001b[0m \u001b[0;34m\u001b[0m\u001b[0m\n",
            "\u001b[0;32m/usr/local/lib/python3.6/dist-packages/numpy/lib/function_base.py\u001b[0m in \u001b[0;36m__call__\u001b[0;34m(self, *args, **kwargs)\u001b[0m\n\u001b[1;32m   2090\u001b[0m \u001b[0;34m\u001b[0m\u001b[0m\n\u001b[0;32m-> 2091\u001b[0;31m         \u001b[0;32mreturn\u001b[0m \u001b[0mself\u001b[0m\u001b[0;34m.\u001b[0m\u001b[0m_vectorize_call\u001b[0m\u001b[0;34m(\u001b[0m\u001b[0mfunc\u001b[0m\u001b[0;34m=\u001b[0m\u001b[0mfunc\u001b[0m\u001b[0;34m,\u001b[0m \u001b[0margs\u001b[0m\u001b[0;34m=\u001b[0m\u001b[0mvargs\u001b[0m\u001b[0;34m)\u001b[0m\u001b[0;34m\u001b[0m\u001b[0;34m\u001b[0m\u001b[0m\n\u001b[0m\u001b[1;32m   2092\u001b[0m \u001b[0;34m\u001b[0m\u001b[0m\n",
            "\u001b[0;32m/usr/local/lib/python3.6/dist-packages/numpy/lib/function_base.py\u001b[0m in \u001b[0;36m_vectorize_call\u001b[0;34m(self, func, args)\u001b[0m\n\u001b[1;32m   2166\u001b[0m \u001b[0;34m\u001b[0m\u001b[0m\n\u001b[0;32m-> 2167\u001b[0;31m             \u001b[0moutputs\u001b[0m \u001b[0;34m=\u001b[0m \u001b[0mufunc\u001b[0m\u001b[0;34m(\u001b[0m\u001b[0;34m*\u001b[0m\u001b[0minputs\u001b[0m\u001b[0;34m)\u001b[0m\u001b[0;34m\u001b[0m\u001b[0;34m\u001b[0m\u001b[0m\n\u001b[0m\u001b[1;32m   2168\u001b[0m \u001b[0;34m\u001b[0m\u001b[0m\n",
            "\u001b[0;32m/usr/local/lib/python3.6/dist-packages/matplotlib/dates.py\u001b[0m in \u001b[0;36m_to_ordinalf\u001b[0;34m(dt)\u001b[0m\n\u001b[1;32m    222\u001b[0m \u001b[0;34m\u001b[0m\u001b[0m\n\u001b[0;32m--> 223\u001b[0;31m     \u001b[0mbase\u001b[0m \u001b[0;34m=\u001b[0m \u001b[0mfloat\u001b[0m\u001b[0;34m(\u001b[0m\u001b[0mdt\u001b[0m\u001b[0;34m.\u001b[0m\u001b[0mtoordinal\u001b[0m\u001b[0;34m(\u001b[0m\u001b[0;34m)\u001b[0m\u001b[0;34m)\u001b[0m\u001b[0;34m\u001b[0m\u001b[0;34m\u001b[0m\u001b[0m\n\u001b[0m\u001b[1;32m    224\u001b[0m \u001b[0;34m\u001b[0m\u001b[0m\n",
            "\u001b[0;31mAttributeError\u001b[0m: 'str' object has no attribute 'toordinal'",
            "\nThe above exception was the direct cause of the following exception:\n",
            "\u001b[0;31mConversionError\u001b[0m                           Traceback (most recent call last)",
            "\u001b[0;32m<ipython-input-137-308f2456fb0e>\u001b[0m in \u001b[0;36m<module>\u001b[0;34m()\u001b[0m\n\u001b[0;32m----> 1\u001b[0;31m \u001b[0mplt\u001b[0m\u001b[0;34m.\u001b[0m\u001b[0mplot\u001b[0m\u001b[0;34m(\u001b[0m\u001b[0mtest\u001b[0m\u001b[0;34m,\u001b[0m \u001b[0mcolor\u001b[0m \u001b[0;34m=\u001b[0m \u001b[0;34m'red'\u001b[0m\u001b[0;34m,\u001b[0m \u001b[0mlabel\u001b[0m \u001b[0;34m=\u001b[0m \u001b[0;34m'Real TATA Stock Price'\u001b[0m\u001b[0;34m)\u001b[0m\u001b[0;34m\u001b[0m\u001b[0;34m\u001b[0m\u001b[0m\n\u001b[0m\u001b[1;32m      2\u001b[0m \u001b[0mplt\u001b[0m\u001b[0;34m.\u001b[0m\u001b[0mplot\u001b[0m\u001b[0;34m(\u001b[0m\u001b[0mpredicted_stock_price\u001b[0m\u001b[0;34m,\u001b[0m \u001b[0mcolor\u001b[0m \u001b[0;34m=\u001b[0m \u001b[0;34m'blue'\u001b[0m\u001b[0;34m,\u001b[0m \u001b[0mlabel\u001b[0m \u001b[0;34m=\u001b[0m \u001b[0;34m'Predicted TATA Stock Price'\u001b[0m\u001b[0;34m)\u001b[0m\u001b[0;34m\u001b[0m\u001b[0;34m\u001b[0m\u001b[0m\n\u001b[1;32m      3\u001b[0m \u001b[0mplt\u001b[0m\u001b[0;34m.\u001b[0m\u001b[0mtitle\u001b[0m\u001b[0;34m(\u001b[0m\u001b[0;34m'TATA Stock Price Prediction'\u001b[0m\u001b[0;34m)\u001b[0m\u001b[0;34m\u001b[0m\u001b[0;34m\u001b[0m\u001b[0m\n\u001b[1;32m      4\u001b[0m \u001b[0mplt\u001b[0m\u001b[0;34m.\u001b[0m\u001b[0mxlabel\u001b[0m\u001b[0;34m(\u001b[0m\u001b[0;34m'Time'\u001b[0m\u001b[0;34m)\u001b[0m\u001b[0;34m\u001b[0m\u001b[0;34m\u001b[0m\u001b[0m\n\u001b[1;32m      5\u001b[0m \u001b[0mplt\u001b[0m\u001b[0;34m.\u001b[0m\u001b[0mylabel\u001b[0m\u001b[0;34m(\u001b[0m\u001b[0;34m'TATA Stock Price'\u001b[0m\u001b[0;34m)\u001b[0m\u001b[0;34m\u001b[0m\u001b[0;34m\u001b[0m\u001b[0m\n",
            "\u001b[0;32m/usr/local/lib/python3.6/dist-packages/matplotlib/pyplot.py\u001b[0m in \u001b[0;36mplot\u001b[0;34m(scalex, scaley, data, *args, **kwargs)\u001b[0m\n\u001b[1;32m   2787\u001b[0m     return gca().plot(\n\u001b[1;32m   2788\u001b[0m         *args, scalex=scalex, scaley=scaley, **({\"data\": data} if data\n\u001b[0;32m-> 2789\u001b[0;31m         is not None else {}), **kwargs)\n\u001b[0m\u001b[1;32m   2790\u001b[0m \u001b[0;34m\u001b[0m\u001b[0m\n\u001b[1;32m   2791\u001b[0m \u001b[0;34m\u001b[0m\u001b[0m\n",
            "\u001b[0;32m/usr/local/lib/python3.6/dist-packages/matplotlib/axes/_axes.py\u001b[0m in \u001b[0;36mplot\u001b[0;34m(self, scalex, scaley, data, *args, **kwargs)\u001b[0m\n\u001b[1;32m   1665\u001b[0m         \u001b[0mlines\u001b[0m \u001b[0;34m=\u001b[0m \u001b[0;34m[\u001b[0m\u001b[0;34m*\u001b[0m\u001b[0mself\u001b[0m\u001b[0;34m.\u001b[0m\u001b[0m_get_lines\u001b[0m\u001b[0;34m(\u001b[0m\u001b[0;34m*\u001b[0m\u001b[0margs\u001b[0m\u001b[0;34m,\u001b[0m \u001b[0mdata\u001b[0m\u001b[0;34m=\u001b[0m\u001b[0mdata\u001b[0m\u001b[0;34m,\u001b[0m \u001b[0;34m**\u001b[0m\u001b[0mkwargs\u001b[0m\u001b[0;34m)\u001b[0m\u001b[0;34m]\u001b[0m\u001b[0;34m\u001b[0m\u001b[0;34m\u001b[0m\u001b[0m\n\u001b[1;32m   1666\u001b[0m         \u001b[0;32mfor\u001b[0m \u001b[0mline\u001b[0m \u001b[0;32min\u001b[0m \u001b[0mlines\u001b[0m\u001b[0;34m:\u001b[0m\u001b[0;34m\u001b[0m\u001b[0;34m\u001b[0m\u001b[0m\n\u001b[0;32m-> 1667\u001b[0;31m             \u001b[0mself\u001b[0m\u001b[0;34m.\u001b[0m\u001b[0madd_line\u001b[0m\u001b[0;34m(\u001b[0m\u001b[0mline\u001b[0m\u001b[0;34m)\u001b[0m\u001b[0;34m\u001b[0m\u001b[0;34m\u001b[0m\u001b[0m\n\u001b[0m\u001b[1;32m   1668\u001b[0m         \u001b[0mself\u001b[0m\u001b[0;34m.\u001b[0m\u001b[0mautoscale_view\u001b[0m\u001b[0;34m(\u001b[0m\u001b[0mscalex\u001b[0m\u001b[0;34m=\u001b[0m\u001b[0mscalex\u001b[0m\u001b[0;34m,\u001b[0m \u001b[0mscaley\u001b[0m\u001b[0;34m=\u001b[0m\u001b[0mscaley\u001b[0m\u001b[0;34m)\u001b[0m\u001b[0;34m\u001b[0m\u001b[0;34m\u001b[0m\u001b[0m\n\u001b[1;32m   1669\u001b[0m         \u001b[0;32mreturn\u001b[0m \u001b[0mlines\u001b[0m\u001b[0;34m\u001b[0m\u001b[0;34m\u001b[0m\u001b[0m\n",
            "\u001b[0;32m/usr/local/lib/python3.6/dist-packages/matplotlib/axes/_base.py\u001b[0m in \u001b[0;36madd_line\u001b[0;34m(self, line)\u001b[0m\n\u001b[1;32m   1900\u001b[0m             \u001b[0mline\u001b[0m\u001b[0;34m.\u001b[0m\u001b[0mset_clip_path\u001b[0m\u001b[0;34m(\u001b[0m\u001b[0mself\u001b[0m\u001b[0;34m.\u001b[0m\u001b[0mpatch\u001b[0m\u001b[0;34m)\u001b[0m\u001b[0;34m\u001b[0m\u001b[0;34m\u001b[0m\u001b[0m\n\u001b[1;32m   1901\u001b[0m \u001b[0;34m\u001b[0m\u001b[0m\n\u001b[0;32m-> 1902\u001b[0;31m         \u001b[0mself\u001b[0m\u001b[0;34m.\u001b[0m\u001b[0m_update_line_limits\u001b[0m\u001b[0;34m(\u001b[0m\u001b[0mline\u001b[0m\u001b[0;34m)\u001b[0m\u001b[0;34m\u001b[0m\u001b[0;34m\u001b[0m\u001b[0m\n\u001b[0m\u001b[1;32m   1903\u001b[0m         \u001b[0;32mif\u001b[0m \u001b[0;32mnot\u001b[0m \u001b[0mline\u001b[0m\u001b[0;34m.\u001b[0m\u001b[0mget_label\u001b[0m\u001b[0;34m(\u001b[0m\u001b[0;34m)\u001b[0m\u001b[0;34m:\u001b[0m\u001b[0;34m\u001b[0m\u001b[0;34m\u001b[0m\u001b[0m\n\u001b[1;32m   1904\u001b[0m             \u001b[0mline\u001b[0m\u001b[0;34m.\u001b[0m\u001b[0mset_label\u001b[0m\u001b[0;34m(\u001b[0m\u001b[0;34m'_line%d'\u001b[0m \u001b[0;34m%\u001b[0m \u001b[0mlen\u001b[0m\u001b[0;34m(\u001b[0m\u001b[0mself\u001b[0m\u001b[0;34m.\u001b[0m\u001b[0mlines\u001b[0m\u001b[0;34m)\u001b[0m\u001b[0;34m)\u001b[0m\u001b[0;34m\u001b[0m\u001b[0;34m\u001b[0m\u001b[0m\n",
            "\u001b[0;32m/usr/local/lib/python3.6/dist-packages/matplotlib/axes/_base.py\u001b[0m in \u001b[0;36m_update_line_limits\u001b[0;34m(self, line)\u001b[0m\n\u001b[1;32m   1922\u001b[0m         \u001b[0mFigures\u001b[0m \u001b[0mout\u001b[0m \u001b[0mthe\u001b[0m \u001b[0mdata\u001b[0m \u001b[0mlimit\u001b[0m \u001b[0mof\u001b[0m \u001b[0mthe\u001b[0m \u001b[0mgiven\u001b[0m \u001b[0mline\u001b[0m\u001b[0;34m,\u001b[0m \u001b[0mupdating\u001b[0m \u001b[0mself\u001b[0m\u001b[0;34m.\u001b[0m\u001b[0mdataLim\u001b[0m\u001b[0;34m.\u001b[0m\u001b[0;34m\u001b[0m\u001b[0;34m\u001b[0m\u001b[0m\n\u001b[1;32m   1923\u001b[0m         \"\"\"\n\u001b[0;32m-> 1924\u001b[0;31m         \u001b[0mpath\u001b[0m \u001b[0;34m=\u001b[0m \u001b[0mline\u001b[0m\u001b[0;34m.\u001b[0m\u001b[0mget_path\u001b[0m\u001b[0;34m(\u001b[0m\u001b[0;34m)\u001b[0m\u001b[0;34m\u001b[0m\u001b[0;34m\u001b[0m\u001b[0m\n\u001b[0m\u001b[1;32m   1925\u001b[0m         \u001b[0;32mif\u001b[0m \u001b[0mpath\u001b[0m\u001b[0;34m.\u001b[0m\u001b[0mvertices\u001b[0m\u001b[0;34m.\u001b[0m\u001b[0msize\u001b[0m \u001b[0;34m==\u001b[0m \u001b[0;36m0\u001b[0m\u001b[0;34m:\u001b[0m\u001b[0;34m\u001b[0m\u001b[0;34m\u001b[0m\u001b[0m\n\u001b[1;32m   1926\u001b[0m             \u001b[0;32mreturn\u001b[0m\u001b[0;34m\u001b[0m\u001b[0;34m\u001b[0m\u001b[0m\n",
            "\u001b[0;32m/usr/local/lib/python3.6/dist-packages/matplotlib/lines.py\u001b[0m in \u001b[0;36mget_path\u001b[0;34m(self)\u001b[0m\n\u001b[1;32m   1025\u001b[0m         \"\"\"\n\u001b[1;32m   1026\u001b[0m         \u001b[0;32mif\u001b[0m \u001b[0mself\u001b[0m\u001b[0;34m.\u001b[0m\u001b[0m_invalidy\u001b[0m \u001b[0;32mor\u001b[0m \u001b[0mself\u001b[0m\u001b[0;34m.\u001b[0m\u001b[0m_invalidx\u001b[0m\u001b[0;34m:\u001b[0m\u001b[0;34m\u001b[0m\u001b[0;34m\u001b[0m\u001b[0m\n\u001b[0;32m-> 1027\u001b[0;31m             \u001b[0mself\u001b[0m\u001b[0;34m.\u001b[0m\u001b[0mrecache\u001b[0m\u001b[0;34m(\u001b[0m\u001b[0;34m)\u001b[0m\u001b[0;34m\u001b[0m\u001b[0;34m\u001b[0m\u001b[0m\n\u001b[0m\u001b[1;32m   1028\u001b[0m         \u001b[0;32mreturn\u001b[0m \u001b[0mself\u001b[0m\u001b[0;34m.\u001b[0m\u001b[0m_path\u001b[0m\u001b[0;34m\u001b[0m\u001b[0;34m\u001b[0m\u001b[0m\n\u001b[1;32m   1029\u001b[0m \u001b[0;34m\u001b[0m\u001b[0m\n",
            "\u001b[0;32m/usr/local/lib/python3.6/dist-packages/matplotlib/lines.py\u001b[0m in \u001b[0;36mrecache\u001b[0;34m(self, always)\u001b[0m\n\u001b[1;32m    667\u001b[0m     \u001b[0;32mdef\u001b[0m \u001b[0mrecache\u001b[0m\u001b[0;34m(\u001b[0m\u001b[0mself\u001b[0m\u001b[0;34m,\u001b[0m \u001b[0malways\u001b[0m\u001b[0;34m=\u001b[0m\u001b[0;32mFalse\u001b[0m\u001b[0;34m)\u001b[0m\u001b[0;34m:\u001b[0m\u001b[0;34m\u001b[0m\u001b[0;34m\u001b[0m\u001b[0m\n\u001b[1;32m    668\u001b[0m         \u001b[0;32mif\u001b[0m \u001b[0malways\u001b[0m \u001b[0;32mor\u001b[0m \u001b[0mself\u001b[0m\u001b[0;34m.\u001b[0m\u001b[0m_invalidx\u001b[0m\u001b[0;34m:\u001b[0m\u001b[0;34m\u001b[0m\u001b[0;34m\u001b[0m\u001b[0m\n\u001b[0;32m--> 669\u001b[0;31m             \u001b[0mxconv\u001b[0m \u001b[0;34m=\u001b[0m \u001b[0mself\u001b[0m\u001b[0;34m.\u001b[0m\u001b[0mconvert_xunits\u001b[0m\u001b[0;34m(\u001b[0m\u001b[0mself\u001b[0m\u001b[0;34m.\u001b[0m\u001b[0m_xorig\u001b[0m\u001b[0;34m)\u001b[0m\u001b[0;34m\u001b[0m\u001b[0;34m\u001b[0m\u001b[0m\n\u001b[0m\u001b[1;32m    670\u001b[0m             \u001b[0mx\u001b[0m \u001b[0;34m=\u001b[0m \u001b[0m_to_unmasked_float_array\u001b[0m\u001b[0;34m(\u001b[0m\u001b[0mxconv\u001b[0m\u001b[0;34m)\u001b[0m\u001b[0;34m.\u001b[0m\u001b[0mravel\u001b[0m\u001b[0;34m(\u001b[0m\u001b[0;34m)\u001b[0m\u001b[0;34m\u001b[0m\u001b[0;34m\u001b[0m\u001b[0m\n\u001b[1;32m    671\u001b[0m         \u001b[0;32melse\u001b[0m\u001b[0;34m:\u001b[0m\u001b[0;34m\u001b[0m\u001b[0;34m\u001b[0m\u001b[0m\n",
            "\u001b[0;32m/usr/local/lib/python3.6/dist-packages/matplotlib/artist.py\u001b[0m in \u001b[0;36mconvert_xunits\u001b[0;34m(self, x)\u001b[0m\n\u001b[1;32m    178\u001b[0m         \u001b[0;32mif\u001b[0m \u001b[0max\u001b[0m \u001b[0;32mis\u001b[0m \u001b[0;32mNone\u001b[0m \u001b[0;32mor\u001b[0m \u001b[0max\u001b[0m\u001b[0;34m.\u001b[0m\u001b[0mxaxis\u001b[0m \u001b[0;32mis\u001b[0m \u001b[0;32mNone\u001b[0m\u001b[0;34m:\u001b[0m\u001b[0;34m\u001b[0m\u001b[0;34m\u001b[0m\u001b[0m\n\u001b[1;32m    179\u001b[0m             \u001b[0;32mreturn\u001b[0m \u001b[0mx\u001b[0m\u001b[0;34m\u001b[0m\u001b[0;34m\u001b[0m\u001b[0m\n\u001b[0;32m--> 180\u001b[0;31m         \u001b[0;32mreturn\u001b[0m \u001b[0max\u001b[0m\u001b[0;34m.\u001b[0m\u001b[0mxaxis\u001b[0m\u001b[0;34m.\u001b[0m\u001b[0mconvert_units\u001b[0m\u001b[0;34m(\u001b[0m\u001b[0mx\u001b[0m\u001b[0;34m)\u001b[0m\u001b[0;34m\u001b[0m\u001b[0;34m\u001b[0m\u001b[0m\n\u001b[0m\u001b[1;32m    181\u001b[0m \u001b[0;34m\u001b[0m\u001b[0m\n\u001b[1;32m    182\u001b[0m     \u001b[0;32mdef\u001b[0m \u001b[0mconvert_yunits\u001b[0m\u001b[0;34m(\u001b[0m\u001b[0mself\u001b[0m\u001b[0;34m,\u001b[0m \u001b[0my\u001b[0m\u001b[0;34m)\u001b[0m\u001b[0;34m:\u001b[0m\u001b[0;34m\u001b[0m\u001b[0;34m\u001b[0m\u001b[0m\n",
            "\u001b[0;32m/usr/local/lib/python3.6/dist-packages/matplotlib/axis.py\u001b[0m in \u001b[0;36mconvert_units\u001b[0;34m(self, x)\u001b[0m\n\u001b[1;32m   1551\u001b[0m         \u001b[0;32mexcept\u001b[0m \u001b[0mException\u001b[0m \u001b[0;32mas\u001b[0m \u001b[0me\u001b[0m\u001b[0;34m:\u001b[0m\u001b[0;34m\u001b[0m\u001b[0;34m\u001b[0m\u001b[0m\n\u001b[1;32m   1552\u001b[0m             raise munits.ConversionError('Failed to convert value(s) to axis '\n\u001b[0;32m-> 1553\u001b[0;31m                                          f'units: {x!r}') from e\n\u001b[0m\u001b[1;32m   1554\u001b[0m         \u001b[0;32mreturn\u001b[0m \u001b[0mret\u001b[0m\u001b[0;34m\u001b[0m\u001b[0;34m\u001b[0m\u001b[0m\n\u001b[1;32m   1555\u001b[0m \u001b[0;34m\u001b[0m\u001b[0m\n",
            "\u001b[0;31mConversionError\u001b[0m: Failed to convert value(s) to axis units: array([Timestamp('2011-03-11 00:00:00'), Timestamp('2015-01-09 00:00:00'),\n       Timestamp('2014-05-20 00:00:00'), Timestamp('2010-07-15 00:00:00'),\n       Timestamp('2013-02-22 00:00:00'), Timestamp('2014-08-11 00:00:00'),\n       Timestamp('2018-06-12 00:00:00'), Timestamp('2018-07-20 00:00:00'),\n       Timestamp('2013-12-17 00:00:00'), Timestamp('2010-08-31 00:00:00'),\n       Timestamp('2018-08-27 00:00:00'), Timestamp('2015-07-08 00:00:00'),\n       Timestamp('2017-03-14 00:00:00'), Timestamp('2019-07-29 00:00:00'),\n       Timestamp('2017-02-02 00:00:00'), Timestamp('2015-01-16 00:00:00'),\n       Timestamp('2014-04-24 00:00:00'), Timestamp('2018-01-11 00:00:00'),\n       Timestamp('2018-06-13 00:00:00'), Timestamp('2014-09-16 00:00:00'),\n       Timestamp('2010-08-17 00:00:00'), Timestamp('2018-06-01 00:00:00'),\n       Timestamp('2012-05-18 00:00:00'), Timestamp('2010-02-10 00:00:00'),\n       Timestamp('2017-03-06 00:00:00'), Timestamp('2014-09-04 00:00:00'),\n       Timestamp('2019-11-18 00:00:00'), Timestamp('2015-02-02 00:00:00'),\n       Timestamp('2016-08-16 00:00:00'), Timestamp('2011-09-02 00:00:00'),\n       Timestamp('2014-10-01 00:00:00'), Timestamp('2019-05-03 00:00:00'),\n       Timestamp('2012-07-05 00:00:00'), Timestamp('2013-04-15 00:00:00'),\n       Timestamp('2014-08-25 00:00:00'), Timestamp('2019-06-18 00:00:00'),\n       Timestamp('2016-02-15 00:00:00'), Timestamp('2017-05-15 00:00:00'),\n       Timestamp('2013-11-28 00:00:00'), Timestamp('2012-11-19 00:00:00'),\n       Timestamp('2011-04-25 00:00:00'), Timestamp('2011-07-11 00:00:00'),\n       Timestamp('2012-03-21 00:00:00'), Timestamp('2017-12-20 00:00:00'),\n       Timestamp('2017-02-16 00:00:00'), Timestamp('2012-02-14 00:00:00'),\n       Timestamp('2014-01-30 00:00:00'), Timestamp('2011-06-09 00:00:00'),\n       Timestamp('2018-12-26 00:00:00'), Timestamp('2010-11-22 00:00:00'),\n       Timestamp('2015-07-09 00:00:00'), Timestamp('2020-01-13 00:00:00'),\n       Timestamp('2013-03-01 00:00:00'), Timestamp('2011-03-22 00:00:00'),\n       Timestamp('2018-05-09 00:00:00'), Timestamp('2011-04-01 00:00:00'),\n       Timestamp('2014-07-09 00:00:00'), Timestamp('2010-05-12 00:00:00'),\n       Timestamp('2011-05-27 00:00:00'), Timestamp('2019-01-10 00:00:00'),\n       Timestamp('2017-05-11 00:00:00'), Timestamp('2017-04-19 00:00:00'),\n       Timestamp('2010-06-03 00:00:00'), Timestamp('2011-09-19 00:00:00'),\n       Timestamp('2018-01-05 00:00:00'), Timestamp('2014-08-22 00:00:00'),\n       Timestamp('2018-04-18 00:00:00'), Timestamp('2017-01-11 00:00:00'),\n       Timestamp('2010-08-10 00:00:00'), Timestamp('2015-07-10 00:00:00'),\n       Timestamp('2016-02-26 00:00:00'), Timestamp('2019-06-19 00:00:00'),\n       Timestamp('2017-05-24 00:00:00'), Timestamp('2013-09-27 00:00:00'),\n       Timestamp('2017-09-26 00:00:00'), Timestamp('2018-09-24 00:00:00'),\n       Timestamp('2010-12-14 00:00:00'), Timestamp('2015-04-15 00:00:00'),\n       Timestamp('2016-10-14 00:00:00'), Timestamp('2013-04-23 00:00:00'),\n       Timestamp('2019-09-25 00:00:00'), Timestamp('2010-12-08 00:00:00'),\n       Timestamp('2013-02-04 00:00:00'), Timestamp('2018-05-30 00:00:00'),\n       Timestamp('2017-03-29 00:00:00'), Timestamp('2016-11-15 00:00:00'),\n       Timestamp('2011-06-17 00:00:00'), Timestamp('2012-06-12 00:00:00'),\n       Timestamp('2017-02-13 00:00:00'), Timestamp('2013-12-31 00:00:00'),\n       Timestamp('2013-10-07 00:00:00'), Timestamp('2017-08-10 00:00:00'),\n       Timestamp('2011-07-26 00:00:00'), Timestamp('2017-02-15 00:00:00'),\n       Timestamp('2019-09-04 00:00:00'), Timestamp('2015-06-26 00:00:00'),\n       Timestamp('2018-01-02 00:00:00'), Timestamp('2013-04-17 00:00:00'),\n       Timestamp('2013-02-12 00:00:00'), Timestamp('2017-08-04 00:00:00'),\n       Timestamp('2013-02-21 00:00:00'), Timestamp('2017-08-14 00:00:00'),\n       Timestamp('2013-02-13 00:00:00'), Timestamp('2014-05-26 00:00:00'),\n       Timestamp('2013-03-19 00:00:00'), Timestamp('2013-09-13 00:00:00'),\n       Timestamp('2019-06-10 00:00:00'), Timestamp('2014-01-31 00:00:00'),\n       Timestamp('2011-09-26 00:00:00'), Timestamp('2017-12-12 00:00:00'),\n       Timestamp('2013-10-31 00:00:00'), Timestamp('2015-10-07 00:00:00'),\n       Timestamp('2017-11-28 00:00:00'), Timestamp('2017-10-27 00:00:00'),\n       Timestamp('2018-04-11 00:00:00'), Timestamp('2016-05-02 00:00:00'),\n       Timestamp('2018-10-03 00:00:00'), Timestamp('2014-06-10 00:00:00'),\n       Timestamp('2016-10-18 00:00:00'), Timestamp('2012-01-23 00:00:00'),\n       Timestamp('2013-11-08 00:00:00'), Timestamp('2012-02-02 00:00:00'),\n       Timestamp('2013-11-07 00:00:00'), Timestamp('2016-01-14 00:00:00'),\n       Timestamp('2017-12-04 00:00:00'), Timestamp('2016-11-10 00:00:00'),\n       Timestamp('2015-05-06 00:00:00'), Timestamp('2018-09-27 00:00:00'),\n       Timestamp('2013-08-06 00:00:00'), Timestamp('2019-01-21 00:00:00'),\n       Timestamp('2010-09-16 00:00:00'), Timestamp('2017-09-22 00:00:00'),\n       Timestamp('2018-07-25 00:00:00'), Timestamp('2011-10-11 00:00:00'),\n       Timestamp('2016-12-20 00:00:00'), Timestamp('2014-08-05 00:00:00'),\n       Timestamp('2019-06-20 00:00:00'), Timestamp('2011-05-12 00:00:00'),\n       Timestamp('2010-12-07 00:00:00'), Timestamp('2010-08-05 00:00:00'),\n       Timestamp('2011-06-22 00:00:00'), Timestamp('2012-05-03 00:00:00'),\n       Timestamp('2015-03-03 00:00:00'), Timestamp('2010-04-15 00:00:00'),\n       Timestamp('2015-09-23 00:00:00'), Timestamp('2013-12-16 00:00:00'),\n       Timestamp('2014-07-23 00:00:00'), Timestamp('2018-08-17 00:00:00'),\n       Timestamp('2013-09-20 00:00:00'), Timestamp('2011-07-13 00:00:00'),\n       Timestamp('2013-06-04 00:00:00'), Timestamp('2012-11-15 00:00:00'),\n       Timestamp('2011-09-27 00:00:00'), Timestamp('2019-08-13 00:00:00'),\n       Timestamp('2012-08-07 00:00:00'), Timestamp('2018-09-19 00:00:00'),\n       Timestamp('2015-05-04 00:00:00'), Timestamp('2012-11-16 00:00:00'),\n       Timestamp('2014-05-19 00:00:00'), Timestamp('2012-11-21 00:00:00'),\n       Timestamp('2016-09-29 00:00:00'), Timestamp('2013-08-23 00:00:00'),\n       Timestamp('2014-04-09 00:00:00'), Timestamp('2018-10-26 00:00:00'),\n       Timestamp('2011-06-29 00:00:00'), Timestamp('2016-10-03 00:00:00'),\n       Timestamp('2016-07-14 00:00:00'), Timestamp('2012-10-01 00:00:00'),\n       Timestamp('2010-02-19 00:00:00'), Timestamp('2012-04-20 00:00:00'),\n       Timestamp('2013-04-09 00:00:00'), Timestamp('2010-05-11 00:00:00'),\n       Timestamp('2017-01-30 00:00:00'), Timestamp('2011-08-23 00:00:00'),\n       Timestamp('2019-02-06 00:00:00'), Timestamp('2010-06-18 00:00:00'),\n       Timestamp('2012-06-05 00:00:00'), Timestamp('2017-07-07 00:00:00'),\n       Timestamp('2010-08-02 00:00:00'), Timestamp('2014-11-21 00:00:00'),\n       Timestamp('2019-01-02 00:00:00'), Timestamp('2016-06-23 00:00:00'),\n       Timestamp('2018-03-05 00:00:00'), Timestamp('2019-04-02 00:00:00'),\n       Timestamp('2014-07-02 00:00:00'), Timestamp('2011-04-13 00:00:00'),\n       Timestamp('2012-02-09 00:00:00'), Timestamp('2018-08-06 00:00:00'),\n       Timestamp('2012-11-12 00:00:00'), Timestamp('2015-03-02 00:00:00'),\n       Timestamp('2020-01-03 00:00:00'), Timestamp('2013-11-12 00:00:00'),\n       Timestamp('2018-03-19 00:00:00'), Timestamp('2010-03-15 00:00:00'),\n       Timestamp('2010-07-29 00:00:00'), Timestamp('2018-04-27 00:00:00'),\n       Timestamp('2012-03-02 00:00:00'), Timestamp('2018-06-22 00:00:00'),\n       Timestamp('2012-10-22 00:00:00'), Timestamp('2018-06-27 00:00:00'),\n       Timestamp('2019-06-12 00:00:00'), Timestamp('2010-11-03 00:00:00'),\n       Timestamp('2014-09-12 00:00:00'), Timestamp('2014-11-13 00:00:00'),\n       Timestamp('2012-07-27 00:00:00'), Timestamp('2017-01-27 00:00:00'),\n       Timestamp('2010-12-23 00:00:00'), Timestamp('2019-07-31 00:00:00'),\n       Timestamp('2014-09-18 00:00:00'), Timestamp('2010-03-04 00:00:00'),\n       Timestamp('2013-06-27 00:00:00'), Timestamp('2016-08-31 00:00:00'),\n       Timestamp('2011-10-05 00:00:00'), Timestamp('2012-04-17 00:00:00'),\n       Timestamp('2015-10-16 00:00:00'), Timestamp('2018-08-20 00:00:00'),\n       Timestamp('2019-06-28 00:00:00'), Timestamp('2010-07-05 00:00:00'),\n       Timestamp('2017-08-16 00:00:00'), Timestamp('2019-05-29 00:00:00'),\n       Timestamp('2015-02-11 00:00:00'), Timestamp('2010-12-24 00:00:00'),\n       Timestamp('2019-02-27 00:00:00'), Timestamp('2011-08-25 00:00:00'),\n       Timestamp('2012-12-26 00:00:00'), Timestamp('2015-10-05 00:00:00'),\n       Timestamp('2016-11-02 00:00:00'), Timestamp('2016-05-17 00:00:00'),\n       Timestamp('2011-01-12 00:00:00'), Timestamp('2018-04-17 00:00:00'),\n       Timestamp('2017-03-17 00:00:00'), Timestamp('2013-10-08 00:00:00'),\n       Timestamp('2012-07-04 00:00:00'), Timestamp('2018-06-25 00:00:00'),\n       Timestamp('2012-04-23 00:00:00'), Timestamp('2012-07-06 00:00:00'),\n       Timestamp('2019-09-18 00:00:00'), Timestamp('2013-10-21 00:00:00'),\n       Timestamp('2014-01-03 00:00:00'), Timestamp('2011-03-21 00:00:00'),\n       Timestamp('2018-11-20 00:00:00'), Timestamp('2019-10-24 00:00:00'),\n       Timestamp('2015-02-13 00:00:00'), Timestamp('2017-08-02 00:00:00'),\n       Timestamp('2019-08-01 00:00:00'), Timestamp('2012-03-22 00:00:00'),\n       Timestamp('2016-11-21 00:00:00'), Timestamp('2018-02-15 00:00:00'),\n       Timestamp('2017-06-27 00:00:00'), Timestamp('2012-04-25 00:00:00'),\n       Timestamp('2010-07-20 00:00:00'), Timestamp('2010-03-11 00:00:00'),\n       Timestamp('2010-05-13 00:00:00'), Timestamp('2011-05-19 00:00:00'),\n       Timestamp('2019-02-21 00:00:00'), Timestamp('2010-04-07 00:00:00'),\n       Timestamp('2013-10-11 00:00:00'), Timestamp('2014-06-12 00:00:00'),\n       Timestamp('2016-05-06 00:00:00'), Timestamp('2016-12-12 00:00:00'),\n       Timestamp('2016-11-24 00:00:00'), Timestamp('2013-10-17 00:00:00'),\n       Timestamp('2010-01-13 00:00:00'), Timestamp('2015-09-16 00:00:00'),\n       Timestamp('2016-08-09 00:00:00'), Timestamp('2019-03-25 00:00:00'),\n       Timestamp('2013-01-25 00:00:00'), Timestamp('2012-05-09 00:00:00'),\n       Timestamp('2013-02-08 00:00:00'), Timestamp('2018-05-02 00:00:00'),\n       Timestamp('2010-04-13 00:00:00'), Timestamp('2019-03-06 00:00:00'),\n       Timestamp('2019-02-28 00:00:00'), Timestamp('2019-05-24 00:00:00'),\n       Timestamp('2018-12-27 00:00:00'), Timestamp('2015-01-08 00:00:00'),\n       Timestamp('2011-05-10 00:00:00'), Timestamp('2017-07-24 00:00:00'),\n       Timestamp('2010-11-30 00:00:00'), Timestamp('2015-08-04 00:00:00'),\n       Timestamp('2016-03-22 00:00:00'), Timestamp('2011-03-16 00:00:00'),\n       Timestamp('2017-03-28 00:00:00'), Timestamp('2011-06-30 00:00:00'),\n       Timestamp('2018-07-31 00:00:00'), Timestamp('2012-10-08 00:00:00'),\n       Timestamp('2015-04-13 00:00:00'), Timestamp('2013-07-23 00:00:00'),\n       Timestamp('2017-03-08 00:00:00'), Timestamp('2017-01-17 00:00:00'),\n       Timestamp('2015-06-01 00:00:00'), Timestamp('2014-07-10 00:00:00'),\n       Timestamp('2012-12-03 00:00:00'), Timestamp('2013-12-20 00:00:00'),\n       Timestamp('2011-06-07 00:00:00'), Timestamp('2018-11-05 00:00:00'),\n       Timestamp('2016-01-18 00:00:00'), Timestamp('2012-02-06 00:00:00'),\n       Timestamp('2017-12-27 00:00:00'), Timestamp('2011-02-23 00:00:00'),\n       Timestamp('2013-05-30 00:00:00'), Timestamp('2016-11-22 00:00:00'),\n       Timestamp('2012-08-28 00:00:00'), Timestamp('2019-07-09 00:00:00'),\n       Timestamp('2019-12-11 00:00:00'), Timestamp('2018-10-09 00:00:00'),\n       Timestamp('2011-09-05 00:00:00'), Timestamp('2015-11-19 00:00:00'),\n       Timestamp('2017-06-16 00:00:00'), Timestamp('2015-03-23 00:00:00'),\n       Timestamp('2015-02-04 00:00:00'), Timestamp('2014-04-03 00:00:00'),\n       Timestamp('2019-07-15 00:00:00'), Timestamp('2014-06-02 00:00:00'),\n       Timestamp('2012-06-08 00:00:00'), Timestamp('2018-01-04 00:00:00'),\n       Timestamp('2014-12-30 00:00:00'), Timestamp('2011-02-09 00:00:00'),\n       Timestamp('2011-11-28 00:00:00'), Timestamp('2017-05-29 00:00:00'),\n       Timestamp('2016-07-21 00:00:00'), Timestamp('2019-05-22 00:00:00'),\n       Timestamp('2017-09-13 00:00:00'), Timestamp('2019-05-28 00:00:00'),\n       Timestamp('2016-11-07 00:00:00'), Timestamp('2013-07-31 00:00:00'),\n       Timestamp('2012-07-03 00:00:00'), Timestamp('2014-04-11 00:00:00'),\n       Timestamp('2011-05-02 00:00:00'), Timestamp('2011-10-04 00:00:00'),\n       Timestamp('2012-03-23 00:00:00'), Timestamp('2010-07-28 00:00:00'),\n       Timestamp('2010-08-26 00:00:00'), Timestamp('2010-11-24 00:00:00'),\n       Timestamp('2013-05-02 00:00:00'), Timestamp('2015-08-28 00:00:00'),\n       Timestamp('2012-06-19 00:00:00'), Timestamp('2015-11-04 00:00:00'),\n       Timestamp('2019-06-21 00:00:00'), Timestamp('2010-11-25 00:00:00'),\n       Timestamp('2013-05-15 00:00:00'), Timestamp('2010-03-05 00:00:00'),\n       Timestamp('2013-08-12 00:00:00'), Timestamp('2013-03-14 00:00:00'),\n       Timestamp('2020-01-08 00:00:00'), Timestamp('2012-09-25 00:00:00'),\n       Timestamp('2016-01-29 00:00:00'), Timestamp('2019-02-25 00:00:00'),\n       Timestamp('2016-02-01 00:00:00'), Timestamp('2014-05-14 00:00:00'),\n       Timestamp('2012-02-10 00:00:00'), Timestamp('2017-08-03 00:00:00'),\n       Timestamp('2011-05-03 00:00:00'), Timestamp('2011-05-18 00:00:00'),\n       Timestamp('2015-12-28 00:00:00'), Timestamp('2010-04-22 00:00:00'),\n       Timestamp('2015-03-26 00:00:00'), Timestamp('2013-12-19 00:00:00'),\n       Timestamp('2014-03-28 00:00:00'), Timestamp('2016-05-12 00:00:00'),\n       Timestamp('2015-07-28 00:00:00'), Timestamp('2014-04-28 00:00:00'),\n       Timestamp('2011-05-05 00:00:00'), Timestamp('2015-04-29 00:00:00'),\n       Timestamp('2014-05-13 00:00:00'), Timestamp('2019-04-18 00:00:00'),\n       Timestamp('2010-07-14 00:00:00'), Timestamp('2016-12-13 00:00:00'),\n       Timestamp('2018-07-11 00:00:00'), Timestamp('2013-07-11 00:00:00'),\n       Timestamp('2019-10-31 00:00:00'), Timestamp('2015-03-20 00:00:00'),\n       Timestamp('2019-03-22 00:00:00'), Timestamp('2011-12-29 00:00:00'),\n       Timestamp('2013-09-23 00:00:00'), Timestamp('2014-11-27 00:00:00'),\n       Timestamp('2010-04-20 00:00:00'), Timestamp('2016-02-24 00:00:00'),\n       Timestamp('2019-09-17 00:00:00'), Timestamp('2013-01-30 00:00:00'),\n       Timestamp('2012-08-14 00:00:00'), Timestamp('2018-08-02 00:00:00'),\n       Timestamp('2014-01-29 00:00:00'), Timestamp('2018-10-12 00:00:00'),\n       Timestamp('2015-04-30 00:00:00'), Timestamp('2011-10-17 00:00:00'),\n       Timestamp('2010-02-25 00:00:00'), Timestamp('2011-09-06 00:00:00'),\n       Timestamp('2010-07-26 00:00:00'), Timestamp('2016-07-13 00:00:00'),\n       Timestamp('2012-07-09 00:00:00'), Timestamp('2010-05-03 00:00:00'),\n       Timestamp('2017-08-29 00:00:00'), Timestamp('2011-03-31 00:00:00'),\n       Timestamp('2010-02-02 00:00:00'), Timestamp('2013-03-12 00:00:00'),\n       Timestamp('2010-06-17 00:00:00'), Timestamp('2019-12-30 00:00:00'),\n       Timestamp('2017-05-30 00:00:00'), Timestamp('2010-12-06 00:00:00'),\n       Timestamp('2013-06-05 00:00:00'), Timestamp('2013-06-14 00:00:00'),\n       Timestamp('2014-04-01 00:00:00'), Timestamp('2015-09-18 00:00:00'),\n       Timestamp('2014-09-11 00:00:00'), Timestamp('2015-09-29 00:00:00'),\n       Timestamp('2018-06-06 00:00:00'), Timestamp('2011-11-30 00:00:00'),\n       Timestamp('2019-10-04 00:00:00'), Timestamp('2010-01-18 00:00:00'),\n       Timestamp('2018-11-22 00:00:00'), Timestamp('2014-04-22 00:00:00'),\n       Timestamp('2011-12-15 00:00:00'), Timestamp('2011-02-11 00:00:00'),\n       Timestamp('2019-09-16 00:00:00'), Timestamp('2014-10-31 00:00:00'),\n       Timestamp('2015-10-14 00:00:00'), Timestamp('2019-10-03 00:00:00'),\n       Timestamp('2019-04-04 00:00:00'), Timestamp('2013-02-07 00:00:00'),\n       Timestamp('2015-12-03 00:00:00'), Timestamp('2019-02-08 00:00:00'),\n       Timestamp('2011-08-30 00:00:00'), Timestamp('2018-08-28 00:00:00'),\n       Timestamp('2017-10-16 00:00:00'), Timestamp('2018-07-10 00:00:00'),\n       Timestamp('2019-10-23 00:00:00'), Timestamp('2015-04-10 00:00:00'),\n       Timestamp('2010-09-15 00:00:00'), Timestamp('2017-03-30 00:00:00'),\n       Timestamp('2012-05-08 00:00:00'), Timestamp('2014-09-10 00:00:00'),\n       Timestamp('2014-06-30 00:00:00'), Timestamp('2016-05-09 00:00:00'),\n       Timestamp('2019-12-23 00:00:00'), Timestamp('2016-02-08 00:00:00'),\n       Timestamp('2015-04-01 00:00:00'), Timestamp('2015-08-19 00:00:00'),\n       Timestamp('2015-09-03 00:00:00'), Timestamp('2018-01-18 00:00:00'),\n       Timestamp('2012-09-28 00:00:00'), Timestamp('2018-01-17 00:00:00'),\n       Timestamp('2015-10-29 00:00:00'), Timestamp('2019-09-20 00:00:00'),\n       Timestamp('2015-09-02 00:00:00'), Timestamp('2016-02-09 00:00:00'),\n       Timestamp('2015-12-01 00:00:00'), Timestamp('2018-02-21 00:00:00'),\n       Timestamp('2017-09-15 00:00:00'), Timestamp('2013-01-18 00:00:00'),\n       Timestamp('2014-11-17 00:00:00'), Timestamp('2018-02-01 00:00:00'),\n       Timestamp('2012-08-01 00:00:00'), Timestamp('2011-12-09 00:00:00'),\n       Timestamp('2012-01-17 00:00:00'), Timestamp('2016-06-07 00:00:00'),\n       Timestamp('2018-03-12 00:00:00'), Timestamp('2014-10-09 00:00:00'),\n       Timestamp('2016-04-21 00:00:00'), Timestamp('2010-08-23 00:00:00'),\n       Timestamp('2014-03-27 00:00:00'), Timestamp('2016-10-07 00:00:00'),\n       Timestamp('2018-09-03 00:00:00'), Timestamp('2018-11-21 00:00:00'),\n       Timestamp('2013-03-21 00:00:00'), Timestamp('2019-01-25 00:00:00'),\n       Timestamp('2017-09-28 00:00:00'), Timestamp('2010-11-29 00:00:00'),\n       Timestamp('2012-09-20 00:00:00'), Timestamp('2012-10-17 00:00:00'),\n       Timestamp('2017-08-07 00:00:00'), Timestamp('2014-09-03 00:00:00'),\n       Timestamp('2011-12-13 00:00:00'), Timestamp('2017-10-10 00:00:00'),\n       Timestamp('2014-03-04 00:00:00'), Timestamp('2010-10-04 00:00:00'),\n       Timestamp('2017-11-08 00:00:00'), Timestamp('2011-10-19 00:00:00'),\n       Timestamp('2015-02-05 00:00:00'), Timestamp('2011-01-05 00:00:00'),\n       Timestamp('2012-12-17 00:00:00'), Timestamp('2010-03-26 00:00:00'),\n       Timestamp('2016-10-27 00:00:00'), Timestamp('2018-08-09 00:00:00'),\n       Timestamp('2013-05-23 00:00:00'), Timestamp('2011-11-18 00:00:00'),\n       Timestamp('2011-02-10 00:00:00'), Timestamp('2017-06-05 00:00:00'),\n       Timestamp('2015-11-06 00:00:00'), Timestamp('2010-09-07 00:00:00'),\n       Timestamp('2017-02-01 00:00:00'), Timestamp('2018-10-01 00:00:00'),\n       Timestamp('2013-05-22 00:00:00'), Timestamp('2019-01-23 00:00:00'),\n       Timestamp('2010-09-06 00:00:00'), Timestamp('2018-08-01 00:00:00'),\n       Timestamp('2016-03-28 00:00:00'), 'pred'], dtype=object)"
          ]
        },
        {
          "output_type": "display_data",
          "data": {
            "image/png": "[encoded data removed]",
            "text/plain": [
              "<Figure size 432x288 with 1 Axes>"
            ]
          },
          "metadata": {
            "tags": []
          }
        }
      ]
    },
    {
      "cell_type": "code",
      "metadata": {
        "id": "ixa3ugkifXwn",
        "colab_type": "code",
        "outputId": "7bde172f-620d-4775-ebcc-273f52e8ee9c",
        "colab": {
          "base_uri": "https://localhost:8080/",
          "height": 34
        }
      },
      "source": [
        "X_test.shape"
      ],
      "execution_count": 0,
      "outputs": [
        {
          "output_type": "execute_result",
          "data": {
            "text/plain": [
              "(437, 60, 1)"
            ]
          },
          "metadata": {
            "tags": []
          },
          "execution_count": 123
        }
      ]
    },
    {
      "cell_type": "code",
      "metadata": {
        "id": "KK4CacP83ZpP",
        "colab_type": "code",
        "outputId": "681e01bf-2673-4df5-a965-bfd850b31ca0",
        "colab": {
          "base_uri": "https://localhost:8080/",
          "height": 313
        }
      },
      "source": [
        "pd.DataFrame({'real':df_test.tolist(),'predicted':predicted_stock_price.tolist()})"
      ],
      "execution_count": 0,
      "outputs": [
        {
          "output_type": "error",
          "ename": "ValueError",
          "evalue": "ignored",
          "traceback": [
            "\u001b[0;31m---------------------------------------------------------------------------\u001b[0m",
            "\u001b[0;31mValueError\u001b[0m                                Traceback (most recent call last)",
            "\u001b[0;32m<ipython-input-86-88da9cf60e78>\u001b[0m in \u001b[0;36m<module>\u001b[0;34m()\u001b[0m\n\u001b[0;32m----> 1\u001b[0;31m \u001b[0mpd\u001b[0m\u001b[0;34m.\u001b[0m\u001b[0mDataFrame\u001b[0m\u001b[0;34m(\u001b[0m\u001b[0;34m{\u001b[0m\u001b[0;34m'real'\u001b[0m\u001b[0;34m:\u001b[0m\u001b[0mdf_test\u001b[0m\u001b[0;34m.\u001b[0m\u001b[0mtolist\u001b[0m\u001b[0;34m(\u001b[0m\u001b[0;34m)\u001b[0m\u001b[0;34m,\u001b[0m\u001b[0;34m'predicted'\u001b[0m\u001b[0;34m:\u001b[0m\u001b[0mpredicted_stock_price\u001b[0m\u001b[0;34m.\u001b[0m\u001b[0mtolist\u001b[0m\u001b[0;34m(\u001b[0m\u001b[0;34m)\u001b[0m\u001b[0;34m}\u001b[0m\u001b[0;34m)\u001b[0m\u001b[0;34m\u001b[0m\u001b[0;34m\u001b[0m\u001b[0m\n\u001b[0m",
            "\u001b[0;32m/usr/local/lib/python3.6/dist-packages/pandas/core/frame.py\u001b[0m in \u001b[0;36m__init__\u001b[0;34m(self, data, index, columns, dtype, copy)\u001b[0m\n\u001b[1;32m    409\u001b[0m             )\n\u001b[1;32m    410\u001b[0m         \u001b[0;32melif\u001b[0m \u001b[0misinstance\u001b[0m\u001b[0;34m(\u001b[0m\u001b[0mdata\u001b[0m\u001b[0;34m,\u001b[0m \u001b[0mdict\u001b[0m\u001b[0;34m)\u001b[0m\u001b[0;34m:\u001b[0m\u001b[0;34m\u001b[0m\u001b[0;34m\u001b[0m\u001b[0m\n\u001b[0;32m--> 411\u001b[0;31m             \u001b[0mmgr\u001b[0m \u001b[0;34m=\u001b[0m \u001b[0minit_dict\u001b[0m\u001b[0;34m(\u001b[0m\u001b[0mdata\u001b[0m\u001b[0;34m,\u001b[0m \u001b[0mindex\u001b[0m\u001b[0;34m,\u001b[0m \u001b[0mcolumns\u001b[0m\u001b[0;34m,\u001b[0m \u001b[0mdtype\u001b[0m\u001b[0;34m=\u001b[0m\u001b[0mdtype\u001b[0m\u001b[0;34m)\u001b[0m\u001b[0;34m\u001b[0m\u001b[0;34m\u001b[0m\u001b[0m\n\u001b[0m\u001b[1;32m    412\u001b[0m         \u001b[0;32melif\u001b[0m \u001b[0misinstance\u001b[0m\u001b[0;34m(\u001b[0m\u001b[0mdata\u001b[0m\u001b[0;34m,\u001b[0m \u001b[0mma\u001b[0m\u001b[0;34m.\u001b[0m\u001b[0mMaskedArray\u001b[0m\u001b[0;34m)\u001b[0m\u001b[0;34m:\u001b[0m\u001b[0;34m\u001b[0m\u001b[0;34m\u001b[0m\u001b[0m\n\u001b[1;32m    413\u001b[0m             \u001b[0;32mimport\u001b[0m \u001b[0mnumpy\u001b[0m\u001b[0;34m.\u001b[0m\u001b[0mma\u001b[0m\u001b[0;34m.\u001b[0m\u001b[0mmrecords\u001b[0m \u001b[0;32mas\u001b[0m \u001b[0mmrecords\u001b[0m\u001b[0;34m\u001b[0m\u001b[0;34m\u001b[0m\u001b[0m\n",
            "\u001b[0;32m/usr/local/lib/python3.6/dist-packages/pandas/core/internals/construction.py\u001b[0m in \u001b[0;36minit_dict\u001b[0;34m(data, index, columns, dtype)\u001b[0m\n\u001b[1;32m    255\u001b[0m             \u001b[0marr\u001b[0m \u001b[0;32mif\u001b[0m \u001b[0;32mnot\u001b[0m \u001b[0mis_datetime64tz_dtype\u001b[0m\u001b[0;34m(\u001b[0m\u001b[0marr\u001b[0m\u001b[0;34m)\u001b[0m \u001b[0;32melse\u001b[0m \u001b[0marr\u001b[0m\u001b[0;34m.\u001b[0m\u001b[0mcopy\u001b[0m\u001b[0;34m(\u001b[0m\u001b[0;34m)\u001b[0m \u001b[0;32mfor\u001b[0m \u001b[0marr\u001b[0m \u001b[0;32min\u001b[0m \u001b[0marrays\u001b[0m\u001b[0;34m\u001b[0m\u001b[0;34m\u001b[0m\u001b[0m\n\u001b[1;32m    256\u001b[0m         ]\n\u001b[0;32m--> 257\u001b[0;31m     \u001b[0;32mreturn\u001b[0m \u001b[0marrays_to_mgr\u001b[0m\u001b[0;34m(\u001b[0m\u001b[0marrays\u001b[0m\u001b[0;34m,\u001b[0m \u001b[0mdata_names\u001b[0m\u001b[0;34m,\u001b[0m \u001b[0mindex\u001b[0m\u001b[0;34m,\u001b[0m \u001b[0mcolumns\u001b[0m\u001b[0;34m,\u001b[0m \u001b[0mdtype\u001b[0m\u001b[0;34m=\u001b[0m\u001b[0mdtype\u001b[0m\u001b[0;34m)\u001b[0m\u001b[0;34m\u001b[0m\u001b[0;34m\u001b[0m\u001b[0m\n\u001b[0m\u001b[1;32m    258\u001b[0m \u001b[0;34m\u001b[0m\u001b[0m\n\u001b[1;32m    259\u001b[0m \u001b[0;34m\u001b[0m\u001b[0m\n",
            "\u001b[0;32m/usr/local/lib/python3.6/dist-packages/pandas/core/internals/construction.py\u001b[0m in \u001b[0;36marrays_to_mgr\u001b[0;34m(arrays, arr_names, index, columns, dtype)\u001b[0m\n\u001b[1;32m     75\u001b[0m     \u001b[0;31m# figure out the index, if necessary\u001b[0m\u001b[0;34m\u001b[0m\u001b[0;34m\u001b[0m\u001b[0;34m\u001b[0m\u001b[0m\n\u001b[1;32m     76\u001b[0m     \u001b[0;32mif\u001b[0m \u001b[0mindex\u001b[0m \u001b[0;32mis\u001b[0m \u001b[0;32mNone\u001b[0m\u001b[0;34m:\u001b[0m\u001b[0;34m\u001b[0m\u001b[0;34m\u001b[0m\u001b[0m\n\u001b[0;32m---> 77\u001b[0;31m         \u001b[0mindex\u001b[0m \u001b[0;34m=\u001b[0m \u001b[0mextract_index\u001b[0m\u001b[0;34m(\u001b[0m\u001b[0marrays\u001b[0m\u001b[0;34m)\u001b[0m\u001b[0;34m\u001b[0m\u001b[0;34m\u001b[0m\u001b[0m\n\u001b[0m\u001b[1;32m     78\u001b[0m     \u001b[0;32melse\u001b[0m\u001b[0;34m:\u001b[0m\u001b[0;34m\u001b[0m\u001b[0;34m\u001b[0m\u001b[0m\n\u001b[1;32m     79\u001b[0m         \u001b[0mindex\u001b[0m \u001b[0;34m=\u001b[0m \u001b[0mensure_index\u001b[0m\u001b[0;34m(\u001b[0m\u001b[0mindex\u001b[0m\u001b[0;34m)\u001b[0m\u001b[0;34m\u001b[0m\u001b[0;34m\u001b[0m\u001b[0m\n",
            "\u001b[0;32m/usr/local/lib/python3.6/dist-packages/pandas/core/internals/construction.py\u001b[0m in \u001b[0;36mextract_index\u001b[0;34m(data)\u001b[0m\n\u001b[1;32m    366\u001b[0m             \u001b[0mlengths\u001b[0m \u001b[0;34m=\u001b[0m \u001b[0mlist\u001b[0m\u001b[0;34m(\u001b[0m\u001b[0mset\u001b[0m\u001b[0;34m(\u001b[0m\u001b[0mraw_lengths\u001b[0m\u001b[0;34m)\u001b[0m\u001b[0;34m)\u001b[0m\u001b[0;34m\u001b[0m\u001b[0;34m\u001b[0m\u001b[0m\n\u001b[1;32m    367\u001b[0m             \u001b[0;32mif\u001b[0m \u001b[0mlen\u001b[0m\u001b[0;34m(\u001b[0m\u001b[0mlengths\u001b[0m\u001b[0;34m)\u001b[0m \u001b[0;34m>\u001b[0m \u001b[0;36m1\u001b[0m\u001b[0;34m:\u001b[0m\u001b[0;34m\u001b[0m\u001b[0;34m\u001b[0m\u001b[0m\n\u001b[0;32m--> 368\u001b[0;31m                 \u001b[0;32mraise\u001b[0m \u001b[0mValueError\u001b[0m\u001b[0;34m(\u001b[0m\u001b[0;34m\"arrays must all be same length\"\u001b[0m\u001b[0;34m)\u001b[0m\u001b[0;34m\u001b[0m\u001b[0;34m\u001b[0m\u001b[0m\n\u001b[0m\u001b[1;32m    369\u001b[0m \u001b[0;34m\u001b[0m\u001b[0m\n\u001b[1;32m    370\u001b[0m             \u001b[0;32mif\u001b[0m \u001b[0mhave_dicts\u001b[0m\u001b[0;34m:\u001b[0m\u001b[0;34m\u001b[0m\u001b[0;34m\u001b[0m\u001b[0m\n",
            "\u001b[0;31mValueError\u001b[0m: arrays must all be same length"
          ]
        }
      ]
    },
    {
      "cell_type": "code",
      "metadata": {
        "id": "IM-bmT2n7dyt",
        "colab_type": "code",
        "colab": {}
      },
      "source": [
        ""
      ],
      "execution_count": 0,
      "outputs": []
    }
  ]
}