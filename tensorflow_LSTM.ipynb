{
  "nbformat": 4,
  "nbformat_minor": 0,
  "metadata": {
    "colab": {
      "name": "tensorflow_LSTM",
      "provenance": [],
      "collapsed_sections": [],
      "authorship_tag": "ABX9TyO3fGQ+Sr1JC8Bgpk1KRllk",
      "include_colab_link": true
    },
    "kernelspec": {
      "name": "python3",
      "display_name": "Python 3"
    },
    "accelerator": "TPU"
  },
  "cells": [
    {
      "cell_type": "markdown",
      "metadata": {
        "id": "view-in-github",
        "colab_type": "text"
      },
      "source": [
        "<a href=\"https://colab.research.google.com/github/neermesh/deep-learning/blob/master/tensorflow_LSTM.ipynb\" target=\"_parent\"><img src=\"https://colab.research.google.com/assets/colab-badge.svg\" alt=\"Open In Colab\"/></a>"
      ]
    },
    {
      "cell_type": "code",
      "metadata": {
        "id": "4BSLf3PW9pXv",
        "colab_type": "code",
        "colab": {}
      },
      "source": [
        "import io\n",
        "import requests\n",
        "import sys\n",
        "import time\n",
        "import math\n",
        "import warnings\n",
        "import numpy as np\n",
        "import pandas as pd\n",
        "from keras.layers import LSTM\n",
        "import matplotlib.pyplot as plt\n",
        "import tensorflow.compat.v1 as tf\n",
        "from keras.models import Sequential\n",
        "import sklearn.preprocessing as prep\n",
        "from keras.layers import Dense, Activation\n",
        "from sklearn.preprocessing import MinMaxScaler\n",
        "from sklearn.metrics import mean_squared_error\n",
        "if not sys.warnoptions:\n",
        "    warnings.simplefilter('ignore')"
      ],
      "execution_count": 0,
      "outputs": []
    },
    {
      "cell_type": "code",
      "metadata": {
        "id": "cw-GJSD69hJf",
        "colab_type": "code",
        "colab": {
          "base_uri": "https://localhost:8080/",
          "height": 1000
        },
        "outputId": "842aff90-93f4-4a35-b722-afc12694649b"
      },
      "source": [
        "url = \"https://www1.nseindia.com/content/indices/ind_nifty50list.csv\"\n",
        "s = requests.get(url).content\n",
        "nifty50 = pd.read_csv(io.StringIO(s.decode('utf-8')))\n",
        "nifty50"
      ],
      "execution_count": 26,
      "outputs": [
        {
          "output_type": "execute_result",
          "data": {
            "text/html": [
              "<div>\n",
              "<style scoped>\n",
              "    .dataframe tbody tr th:only-of-type {\n",
              "        vertical-align: middle;\n",
              "    }\n",
              "\n",
              "    .dataframe tbody tr th {\n",
              "        vertical-align: top;\n",
              "    }\n",
              "\n",
              "    .dataframe thead th {\n",
              "        text-align: right;\n",
              "    }\n",
              "</style>\n",
              "<table border=\"1\" class=\"dataframe\">\n",
              "  <thead>\n",
              "    <tr style=\"text-align: right;\">\n",
              "      <th></th>\n",
              "      <th>Company Name</th>\n",
              "      <th>Industry</th>\n",
              "      <th>Symbol</th>\n",
              "      <th>Series</th>\n",
              "      <th>ISIN Code</th>\n",
              "    </tr>\n",
              "  </thead>\n",
              "  <tbody>\n",
              "    <tr>\n",
              "      <th>0</th>\n",
              "      <td>Adani Ports and Special Economic Zone Ltd.</td>\n",
              "      <td>SERVICES</td>\n",
              "      <td>ADANIPORTS</td>\n",
              "      <td>EQ</td>\n",
              "      <td>INE742F01042</td>\n",
              "    </tr>\n",
              "    <tr>\n",
              "      <th>1</th>\n",
              "      <td>Asian Paints Ltd.</td>\n",
              "      <td>CONSUMER GOODS</td>\n",
              "      <td>ASIANPAINT</td>\n",
              "      <td>EQ</td>\n",
              "      <td>INE021A01026</td>\n",
              "    </tr>\n",
              "    <tr>\n",
              "      <th>2</th>\n",
              "      <td>Axis Bank Ltd.</td>\n",
              "      <td>FINANCIAL SERVICES</td>\n",
              "      <td>AXISBANK</td>\n",
              "      <td>EQ</td>\n",
              "      <td>INE238A01034</td>\n",
              "    </tr>\n",
              "    <tr>\n",
              "      <th>3</th>\n",
              "      <td>Bajaj Auto Ltd.</td>\n",
              "      <td>AUTOMOBILE</td>\n",
              "      <td>BAJAJ-AUTO</td>\n",
              "      <td>EQ</td>\n",
              "      <td>INE917I01010</td>\n",
              "    </tr>\n",
              "    <tr>\n",
              "      <th>4</th>\n",
              "      <td>Bajaj Finance Ltd.</td>\n",
              "      <td>FINANCIAL SERVICES</td>\n",
              "      <td>BAJFINANCE</td>\n",
              "      <td>EQ</td>\n",
              "      <td>INE296A01024</td>\n",
              "    </tr>\n",
              "    <tr>\n",
              "      <th>5</th>\n",
              "      <td>Bajaj Finserv Ltd.</td>\n",
              "      <td>FINANCIAL SERVICES</td>\n",
              "      <td>BAJAJFINSV</td>\n",
              "      <td>EQ</td>\n",
              "      <td>INE918I01018</td>\n",
              "    </tr>\n",
              "    <tr>\n",
              "      <th>6</th>\n",
              "      <td>Bharat Petroleum Corporation Ltd.</td>\n",
              "      <td>ENERGY</td>\n",
              "      <td>BPCL</td>\n",
              "      <td>EQ</td>\n",
              "      <td>INE029A01011</td>\n",
              "    </tr>\n",
              "    <tr>\n",
              "      <th>7</th>\n",
              "      <td>Bharti Airtel Ltd.</td>\n",
              "      <td>TELECOM</td>\n",
              "      <td>BHARTIARTL</td>\n",
              "      <td>EQ</td>\n",
              "      <td>INE397D01024</td>\n",
              "    </tr>\n",
              "    <tr>\n",
              "      <th>8</th>\n",
              "      <td>Bharti Infratel Ltd.</td>\n",
              "      <td>TELECOM</td>\n",
              "      <td>INFRATEL</td>\n",
              "      <td>EQ</td>\n",
              "      <td>INE121J01017</td>\n",
              "    </tr>\n",
              "    <tr>\n",
              "      <th>9</th>\n",
              "      <td>Britannia Industries Ltd.</td>\n",
              "      <td>CONSUMER GOODS</td>\n",
              "      <td>BRITANNIA</td>\n",
              "      <td>EQ</td>\n",
              "      <td>INE216A01030</td>\n",
              "    </tr>\n",
              "    <tr>\n",
              "      <th>10</th>\n",
              "      <td>Cipla Ltd.</td>\n",
              "      <td>PHARMA</td>\n",
              "      <td>CIPLA</td>\n",
              "      <td>EQ</td>\n",
              "      <td>INE059A01026</td>\n",
              "    </tr>\n",
              "    <tr>\n",
              "      <th>11</th>\n",
              "      <td>Coal India Ltd.</td>\n",
              "      <td>METALS</td>\n",
              "      <td>COALINDIA</td>\n",
              "      <td>EQ</td>\n",
              "      <td>INE522F01014</td>\n",
              "    </tr>\n",
              "    <tr>\n",
              "      <th>12</th>\n",
              "      <td>Dr. Reddy's Laboratories Ltd.</td>\n",
              "      <td>PHARMA</td>\n",
              "      <td>DRREDDY</td>\n",
              "      <td>EQ</td>\n",
              "      <td>INE089A01023</td>\n",
              "    </tr>\n",
              "    <tr>\n",
              "      <th>13</th>\n",
              "      <td>Eicher Motors Ltd.</td>\n",
              "      <td>AUTOMOBILE</td>\n",
              "      <td>EICHERMOT</td>\n",
              "      <td>EQ</td>\n",
              "      <td>INE066A01013</td>\n",
              "    </tr>\n",
              "    <tr>\n",
              "      <th>14</th>\n",
              "      <td>GAIL (India) Ltd.</td>\n",
              "      <td>ENERGY</td>\n",
              "      <td>GAIL</td>\n",
              "      <td>EQ</td>\n",
              "      <td>INE129A01019</td>\n",
              "    </tr>\n",
              "    <tr>\n",
              "      <th>15</th>\n",
              "      <td>Grasim Industries Ltd.</td>\n",
              "      <td>CEMENT &amp; CEMENT PRODUCTS</td>\n",
              "      <td>GRASIM</td>\n",
              "      <td>EQ</td>\n",
              "      <td>INE047A01021</td>\n",
              "    </tr>\n",
              "    <tr>\n",
              "      <th>16</th>\n",
              "      <td>HCL Technologies Ltd.</td>\n",
              "      <td>IT</td>\n",
              "      <td>HCLTECH</td>\n",
              "      <td>EQ</td>\n",
              "      <td>INE860A01027</td>\n",
              "    </tr>\n",
              "    <tr>\n",
              "      <th>17</th>\n",
              "      <td>HDFC Bank Ltd.</td>\n",
              "      <td>FINANCIAL SERVICES</td>\n",
              "      <td>HDFCBANK</td>\n",
              "      <td>EQ</td>\n",
              "      <td>INE040A01034</td>\n",
              "    </tr>\n",
              "    <tr>\n",
              "      <th>18</th>\n",
              "      <td>Hero MotoCorp Ltd.</td>\n",
              "      <td>AUTOMOBILE</td>\n",
              "      <td>HEROMOTOCO</td>\n",
              "      <td>EQ</td>\n",
              "      <td>INE158A01026</td>\n",
              "    </tr>\n",
              "    <tr>\n",
              "      <th>19</th>\n",
              "      <td>Hindalco Industries Ltd.</td>\n",
              "      <td>METALS</td>\n",
              "      <td>HINDALCO</td>\n",
              "      <td>EQ</td>\n",
              "      <td>INE038A01020</td>\n",
              "    </tr>\n",
              "    <tr>\n",
              "      <th>20</th>\n",
              "      <td>Hindustan Unilever Ltd.</td>\n",
              "      <td>CONSUMER GOODS</td>\n",
              "      <td>HINDUNILVR</td>\n",
              "      <td>EQ</td>\n",
              "      <td>INE030A01027</td>\n",
              "    </tr>\n",
              "    <tr>\n",
              "      <th>21</th>\n",
              "      <td>Housing Development Finance Corporation Ltd.</td>\n",
              "      <td>FINANCIAL SERVICES</td>\n",
              "      <td>HDFC</td>\n",
              "      <td>EQ</td>\n",
              "      <td>INE001A01036</td>\n",
              "    </tr>\n",
              "    <tr>\n",
              "      <th>22</th>\n",
              "      <td>ICICI Bank Ltd.</td>\n",
              "      <td>FINANCIAL SERVICES</td>\n",
              "      <td>ICICIBANK</td>\n",
              "      <td>EQ</td>\n",
              "      <td>INE090A01021</td>\n",
              "    </tr>\n",
              "    <tr>\n",
              "      <th>23</th>\n",
              "      <td>ITC Ltd.</td>\n",
              "      <td>CONSUMER GOODS</td>\n",
              "      <td>ITC</td>\n",
              "      <td>EQ</td>\n",
              "      <td>INE154A01025</td>\n",
              "    </tr>\n",
              "    <tr>\n",
              "      <th>24</th>\n",
              "      <td>Indian Oil Corporation Ltd.</td>\n",
              "      <td>ENERGY</td>\n",
              "      <td>IOC</td>\n",
              "      <td>EQ</td>\n",
              "      <td>INE242A01010</td>\n",
              "    </tr>\n",
              "    <tr>\n",
              "      <th>25</th>\n",
              "      <td>IndusInd Bank Ltd.</td>\n",
              "      <td>FINANCIAL SERVICES</td>\n",
              "      <td>INDUSINDBK</td>\n",
              "      <td>EQ</td>\n",
              "      <td>INE095A01012</td>\n",
              "    </tr>\n",
              "    <tr>\n",
              "      <th>26</th>\n",
              "      <td>Infosys Ltd.</td>\n",
              "      <td>IT</td>\n",
              "      <td>INFY</td>\n",
              "      <td>EQ</td>\n",
              "      <td>INE009A01021</td>\n",
              "    </tr>\n",
              "    <tr>\n",
              "      <th>27</th>\n",
              "      <td>JSW Steel Ltd.</td>\n",
              "      <td>METALS</td>\n",
              "      <td>JSWSTEEL</td>\n",
              "      <td>EQ</td>\n",
              "      <td>INE019A01038</td>\n",
              "    </tr>\n",
              "    <tr>\n",
              "      <th>28</th>\n",
              "      <td>Kotak Mahindra Bank Ltd.</td>\n",
              "      <td>FINANCIAL SERVICES</td>\n",
              "      <td>KOTAKBANK</td>\n",
              "      <td>EQ</td>\n",
              "      <td>INE237A01028</td>\n",
              "    </tr>\n",
              "    <tr>\n",
              "      <th>29</th>\n",
              "      <td>Larsen &amp; Toubro Ltd.</td>\n",
              "      <td>CONSTRUCTION</td>\n",
              "      <td>LT</td>\n",
              "      <td>EQ</td>\n",
              "      <td>INE018A01030</td>\n",
              "    </tr>\n",
              "    <tr>\n",
              "      <th>30</th>\n",
              "      <td>Mahindra &amp; Mahindra Ltd.</td>\n",
              "      <td>AUTOMOBILE</td>\n",
              "      <td>M&amp;M</td>\n",
              "      <td>EQ</td>\n",
              "      <td>INE101A01026</td>\n",
              "    </tr>\n",
              "    <tr>\n",
              "      <th>31</th>\n",
              "      <td>Maruti Suzuki India Ltd.</td>\n",
              "      <td>AUTOMOBILE</td>\n",
              "      <td>MARUTI</td>\n",
              "      <td>EQ</td>\n",
              "      <td>INE585B01010</td>\n",
              "    </tr>\n",
              "    <tr>\n",
              "      <th>32</th>\n",
              "      <td>NTPC Ltd.</td>\n",
              "      <td>ENERGY</td>\n",
              "      <td>NTPC</td>\n",
              "      <td>EQ</td>\n",
              "      <td>INE733E01010</td>\n",
              "    </tr>\n",
              "    <tr>\n",
              "      <th>33</th>\n",
              "      <td>Nestle India Ltd.</td>\n",
              "      <td>CONSUMER GOODS</td>\n",
              "      <td>NESTLEIND</td>\n",
              "      <td>EQ</td>\n",
              "      <td>INE239A01016</td>\n",
              "    </tr>\n",
              "    <tr>\n",
              "      <th>34</th>\n",
              "      <td>Oil &amp; Natural Gas Corporation Ltd.</td>\n",
              "      <td>ENERGY</td>\n",
              "      <td>ONGC</td>\n",
              "      <td>EQ</td>\n",
              "      <td>INE213A01029</td>\n",
              "    </tr>\n",
              "    <tr>\n",
              "      <th>35</th>\n",
              "      <td>Power Grid Corporation of India Ltd.</td>\n",
              "      <td>ENERGY</td>\n",
              "      <td>POWERGRID</td>\n",
              "      <td>EQ</td>\n",
              "      <td>INE752E01010</td>\n",
              "    </tr>\n",
              "    <tr>\n",
              "      <th>36</th>\n",
              "      <td>Reliance Industries Ltd.</td>\n",
              "      <td>ENERGY</td>\n",
              "      <td>RELIANCE</td>\n",
              "      <td>EQ</td>\n",
              "      <td>INE002A01018</td>\n",
              "    </tr>\n",
              "    <tr>\n",
              "      <th>37</th>\n",
              "      <td>State Bank of India</td>\n",
              "      <td>FINANCIAL SERVICES</td>\n",
              "      <td>SBIN</td>\n",
              "      <td>EQ</td>\n",
              "      <td>INE062A01020</td>\n",
              "    </tr>\n",
              "    <tr>\n",
              "      <th>38</th>\n",
              "      <td>Sun Pharmaceutical Industries Ltd.</td>\n",
              "      <td>PHARMA</td>\n",
              "      <td>SUNPHARMA</td>\n",
              "      <td>EQ</td>\n",
              "      <td>INE044A01036</td>\n",
              "    </tr>\n",
              "    <tr>\n",
              "      <th>39</th>\n",
              "      <td>Tata Consultancy Services Ltd.</td>\n",
              "      <td>IT</td>\n",
              "      <td>TCS</td>\n",
              "      <td>EQ</td>\n",
              "      <td>INE467B01029</td>\n",
              "    </tr>\n",
              "    <tr>\n",
              "      <th>40</th>\n",
              "      <td>Tata Motors Ltd.</td>\n",
              "      <td>AUTOMOBILE</td>\n",
              "      <td>TATAMOTORS</td>\n",
              "      <td>EQ</td>\n",
              "      <td>INE155A01022</td>\n",
              "    </tr>\n",
              "    <tr>\n",
              "      <th>41</th>\n",
              "      <td>Tata Steel Ltd.</td>\n",
              "      <td>METALS</td>\n",
              "      <td>TATASTEEL</td>\n",
              "      <td>EQ</td>\n",
              "      <td>INE081A01012</td>\n",
              "    </tr>\n",
              "    <tr>\n",
              "      <th>42</th>\n",
              "      <td>Tech Mahindra Ltd.</td>\n",
              "      <td>IT</td>\n",
              "      <td>TECHM</td>\n",
              "      <td>EQ</td>\n",
              "      <td>INE669C01036</td>\n",
              "    </tr>\n",
              "    <tr>\n",
              "      <th>43</th>\n",
              "      <td>Titan Company Ltd.</td>\n",
              "      <td>CONSUMER GOODS</td>\n",
              "      <td>TITAN</td>\n",
              "      <td>EQ</td>\n",
              "      <td>INE280A01028</td>\n",
              "    </tr>\n",
              "    <tr>\n",
              "      <th>44</th>\n",
              "      <td>UPL Ltd.</td>\n",
              "      <td>FERTILISERS &amp; PESTICIDES</td>\n",
              "      <td>UPL</td>\n",
              "      <td>EQ</td>\n",
              "      <td>INE628A01036</td>\n",
              "    </tr>\n",
              "    <tr>\n",
              "      <th>45</th>\n",
              "      <td>UltraTech Cement Ltd.</td>\n",
              "      <td>CEMENT &amp; CEMENT PRODUCTS</td>\n",
              "      <td>ULTRACEMCO</td>\n",
              "      <td>EQ</td>\n",
              "      <td>INE481G01011</td>\n",
              "    </tr>\n",
              "    <tr>\n",
              "      <th>46</th>\n",
              "      <td>Vedanta Ltd.</td>\n",
              "      <td>METALS</td>\n",
              "      <td>VEDL</td>\n",
              "      <td>EQ</td>\n",
              "      <td>INE205A01025</td>\n",
              "    </tr>\n",
              "    <tr>\n",
              "      <th>47</th>\n",
              "      <td>Wipro Ltd.</td>\n",
              "      <td>IT</td>\n",
              "      <td>WIPRO</td>\n",
              "      <td>EQ</td>\n",
              "      <td>INE075A01022</td>\n",
              "    </tr>\n",
              "    <tr>\n",
              "      <th>48</th>\n",
              "      <td>Yes Bank Ltd.</td>\n",
              "      <td>FINANCIAL SERVICES</td>\n",
              "      <td>YESBANK</td>\n",
              "      <td>EQ</td>\n",
              "      <td>INE528G01027</td>\n",
              "    </tr>\n",
              "    <tr>\n",
              "      <th>49</th>\n",
              "      <td>Zee Entertainment Enterprises Ltd.</td>\n",
              "      <td>MEDIA &amp; ENTERTAINMENT</td>\n",
              "      <td>ZEEL</td>\n",
              "      <td>EQ</td>\n",
              "      <td>INE256A01028</td>\n",
              "    </tr>\n",
              "  </tbody>\n",
              "</table>\n",
              "</div>"
            ],
            "text/plain": [
              "                                    Company Name  ...     ISIN Code\n",
              "0     Adani Ports and Special Economic Zone Ltd.  ...  INE742F01042\n",
              "1                              Asian Paints Ltd.  ...  INE021A01026\n",
              "2                                 Axis Bank Ltd.  ...  INE238A01034\n",
              "3                                Bajaj Auto Ltd.  ...  INE917I01010\n",
              "4                             Bajaj Finance Ltd.  ...  INE296A01024\n",
              "5                             Bajaj Finserv Ltd.  ...  INE918I01018\n",
              "6              Bharat Petroleum Corporation Ltd.  ...  INE029A01011\n",
              "7                             Bharti Airtel Ltd.  ...  INE397D01024\n",
              "8                           Bharti Infratel Ltd.  ...  INE121J01017\n",
              "9                      Britannia Industries Ltd.  ...  INE216A01030\n",
              "10                                    Cipla Ltd.  ...  INE059A01026\n",
              "11                               Coal India Ltd.  ...  INE522F01014\n",
              "12                 Dr. Reddy's Laboratories Ltd.  ...  INE089A01023\n",
              "13                            Eicher Motors Ltd.  ...  INE066A01013\n",
              "14                             GAIL (India) Ltd.  ...  INE129A01019\n",
              "15                        Grasim Industries Ltd.  ...  INE047A01021\n",
              "16                         HCL Technologies Ltd.  ...  INE860A01027\n",
              "17                                HDFC Bank Ltd.  ...  INE040A01034\n",
              "18                            Hero MotoCorp Ltd.  ...  INE158A01026\n",
              "19                      Hindalco Industries Ltd.  ...  INE038A01020\n",
              "20                       Hindustan Unilever Ltd.  ...  INE030A01027\n",
              "21  Housing Development Finance Corporation Ltd.  ...  INE001A01036\n",
              "22                               ICICI Bank Ltd.  ...  INE090A01021\n",
              "23                                      ITC Ltd.  ...  INE154A01025\n",
              "24                   Indian Oil Corporation Ltd.  ...  INE242A01010\n",
              "25                            IndusInd Bank Ltd.  ...  INE095A01012\n",
              "26                                  Infosys Ltd.  ...  INE009A01021\n",
              "27                                JSW Steel Ltd.  ...  INE019A01038\n",
              "28                      Kotak Mahindra Bank Ltd.  ...  INE237A01028\n",
              "29                          Larsen & Toubro Ltd.  ...  INE018A01030\n",
              "30                      Mahindra & Mahindra Ltd.  ...  INE101A01026\n",
              "31                      Maruti Suzuki India Ltd.  ...  INE585B01010\n",
              "32                                     NTPC Ltd.  ...  INE733E01010\n",
              "33                             Nestle India Ltd.  ...  INE239A01016\n",
              "34            Oil & Natural Gas Corporation Ltd.  ...  INE213A01029\n",
              "35          Power Grid Corporation of India Ltd.  ...  INE752E01010\n",
              "36                      Reliance Industries Ltd.  ...  INE002A01018\n",
              "37                           State Bank of India  ...  INE062A01020\n",
              "38            Sun Pharmaceutical Industries Ltd.  ...  INE044A01036\n",
              "39                Tata Consultancy Services Ltd.  ...  INE467B01029\n",
              "40                              Tata Motors Ltd.  ...  INE155A01022\n",
              "41                               Tata Steel Ltd.  ...  INE081A01012\n",
              "42                            Tech Mahindra Ltd.  ...  INE669C01036\n",
              "43                            Titan Company Ltd.  ...  INE280A01028\n",
              "44                                      UPL Ltd.  ...  INE628A01036\n",
              "45                         UltraTech Cement Ltd.  ...  INE481G01011\n",
              "46                                  Vedanta Ltd.  ...  INE205A01025\n",
              "47                                    Wipro Ltd.  ...  INE075A01022\n",
              "48                                 Yes Bank Ltd.  ...  INE528G01027\n",
              "49            Zee Entertainment Enterprises Ltd.  ...  INE256A01028\n",
              "\n",
              "[50 rows x 5 columns]"
            ]
          },
          "metadata": {
            "tags": []
          },
          "execution_count": 26
        }
      ]
    },
    {
      "cell_type": "code",
      "metadata": {
        "id": "XocbmVu-RvZ2",
        "colab_type": "code",
        "colab": {}
      },
      "source": [
        "from pandas_datareader import data as pdr\n",
        "df = pdr.get_data_yahoo('CIPLA.NS')"
      ],
      "execution_count": 0,
      "outputs": []
    },
    {
      "cell_type": "code",
      "metadata": {
        "id": "bpNG6atamMeq",
        "colab_type": "code",
        "colab": {}
      },
      "source": [
        "df = df[::-1]"
      ],
      "execution_count": 0,
      "outputs": []
    },
    {
      "cell_type": "code",
      "metadata": {
        "id": "wzwoNJVC6igZ",
        "colab_type": "code",
        "outputId": "49cb0b85-ce50-4ef1-a59d-9e6a34e1aa75",
        "colab": {
          "base_uri": "https://localhost:8080/",
          "height": 455
        }
      },
      "source": [
        "df"
      ],
      "execution_count": 35,
      "outputs": [
        {
          "output_type": "execute_result",
          "data": {
            "text/html": [
              "<div>\n",
              "<style scoped>\n",
              "    .dataframe tbody tr th:only-of-type {\n",
              "        vertical-align: middle;\n",
              "    }\n",
              "\n",
              "    .dataframe tbody tr th {\n",
              "        vertical-align: top;\n",
              "    }\n",
              "\n",
              "    .dataframe thead th {\n",
              "        text-align: right;\n",
              "    }\n",
              "</style>\n",
              "<table border=\"1\" class=\"dataframe\">\n",
              "  <thead>\n",
              "    <tr style=\"text-align: right;\">\n",
              "      <th></th>\n",
              "      <th>High</th>\n",
              "      <th>Low</th>\n",
              "      <th>Open</th>\n",
              "      <th>Close</th>\n",
              "      <th>Volume</th>\n",
              "      <th>Adj Close</th>\n",
              "    </tr>\n",
              "    <tr>\n",
              "      <th>Date</th>\n",
              "      <th></th>\n",
              "      <th></th>\n",
              "      <th></th>\n",
              "      <th></th>\n",
              "      <th></th>\n",
              "      <th></th>\n",
              "    </tr>\n",
              "  </thead>\n",
              "  <tbody>\n",
              "    <tr>\n",
              "      <th>2020-02-07</th>\n",
              "      <td>445.899994</td>\n",
              "      <td>437.299988</td>\n",
              "      <td>440.000000</td>\n",
              "      <td>442.250000</td>\n",
              "      <td>6296276.0</td>\n",
              "      <td>442.250000</td>\n",
              "    </tr>\n",
              "    <tr>\n",
              "      <th>2020-02-06</th>\n",
              "      <td>464.350006</td>\n",
              "      <td>435.350006</td>\n",
              "      <td>462.500000</td>\n",
              "      <td>439.649994</td>\n",
              "      <td>7118725.0</td>\n",
              "      <td>439.649994</td>\n",
              "    </tr>\n",
              "    <tr>\n",
              "      <th>2020-02-05</th>\n",
              "      <td>459.149994</td>\n",
              "      <td>437.500000</td>\n",
              "      <td>449.549988</td>\n",
              "      <td>447.549988</td>\n",
              "      <td>3637403.0</td>\n",
              "      <td>447.549988</td>\n",
              "    </tr>\n",
              "    <tr>\n",
              "      <th>2020-02-04</th>\n",
              "      <td>452.450012</td>\n",
              "      <td>444.200012</td>\n",
              "      <td>446.700012</td>\n",
              "      <td>448.450012</td>\n",
              "      <td>2030860.0</td>\n",
              "      <td>448.450012</td>\n",
              "    </tr>\n",
              "    <tr>\n",
              "      <th>2020-02-03</th>\n",
              "      <td>450.649994</td>\n",
              "      <td>439.399994</td>\n",
              "      <td>444.000000</td>\n",
              "      <td>444.549988</td>\n",
              "      <td>1690394.0</td>\n",
              "      <td>444.549988</td>\n",
              "    </tr>\n",
              "    <tr>\n",
              "      <th>...</th>\n",
              "      <td>...</td>\n",
              "      <td>...</td>\n",
              "      <td>...</td>\n",
              "      <td>...</td>\n",
              "      <td>...</td>\n",
              "      <td>...</td>\n",
              "    </tr>\n",
              "    <tr>\n",
              "      <th>2010-01-08</th>\n",
              "      <td>346.500000</td>\n",
              "      <td>340.200012</td>\n",
              "      <td>345.000000</td>\n",
              "      <td>341.100006</td>\n",
              "      <td>913410.0</td>\n",
              "      <td>322.900757</td>\n",
              "    </tr>\n",
              "    <tr>\n",
              "      <th>2010-01-07</th>\n",
              "      <td>350.399994</td>\n",
              "      <td>340.500000</td>\n",
              "      <td>346.000000</td>\n",
              "      <td>342.049988</td>\n",
              "      <td>1555841.0</td>\n",
              "      <td>323.800049</td>\n",
              "    </tr>\n",
              "    <tr>\n",
              "      <th>2010-01-06</th>\n",
              "      <td>348.899994</td>\n",
              "      <td>330.350006</td>\n",
              "      <td>332.000000</td>\n",
              "      <td>344.899994</td>\n",
              "      <td>3580916.0</td>\n",
              "      <td>326.497986</td>\n",
              "    </tr>\n",
              "    <tr>\n",
              "      <th>2010-01-05</th>\n",
              "      <td>342.399994</td>\n",
              "      <td>330.500000</td>\n",
              "      <td>338.549988</td>\n",
              "      <td>331.500000</td>\n",
              "      <td>1664976.0</td>\n",
              "      <td>313.812958</td>\n",
              "    </tr>\n",
              "    <tr>\n",
              "      <th>2010-01-04</th>\n",
              "      <td>339.500000</td>\n",
              "      <td>336.000000</td>\n",
              "      <td>338.000000</td>\n",
              "      <td>337.549988</td>\n",
              "      <td>635013.0</td>\n",
              "      <td>319.540070</td>\n",
              "    </tr>\n",
              "  </tbody>\n",
              "</table>\n",
              "<p>2489 rows × 6 columns</p>\n",
              "</div>"
            ],
            "text/plain": [
              "                  High         Low  ...     Volume   Adj Close\n",
              "Date                                ...                       \n",
              "2020-02-07  445.899994  437.299988  ...  6296276.0  442.250000\n",
              "2020-02-06  464.350006  435.350006  ...  7118725.0  439.649994\n",
              "2020-02-05  459.149994  437.500000  ...  3637403.0  447.549988\n",
              "2020-02-04  452.450012  444.200012  ...  2030860.0  448.450012\n",
              "2020-02-03  450.649994  439.399994  ...  1690394.0  444.549988\n",
              "...                ...         ...  ...        ...         ...\n",
              "2010-01-08  346.500000  340.200012  ...   913410.0  322.900757\n",
              "2010-01-07  350.399994  340.500000  ...  1555841.0  323.800049\n",
              "2010-01-06  348.899994  330.350006  ...  3580916.0  326.497986\n",
              "2010-01-05  342.399994  330.500000  ...  1664976.0  313.812958\n",
              "2010-01-04  339.500000  336.000000  ...   635013.0  319.540070\n",
              "\n",
              "[2489 rows x 6 columns]"
            ]
          },
          "metadata": {
            "tags": []
          },
          "execution_count": 35
        }
      ]
    },
    {
      "cell_type": "code",
      "metadata": {
        "id": "z6Alq3LaPHWw",
        "colab_type": "code",
        "colab": {}
      },
      "source": [
        "df = df[[ \"High\", \"Low\", \"Open\",\"Close\"]]"
      ],
      "execution_count": 0,
      "outputs": []
    },
    {
      "cell_type": "code",
      "metadata": {
        "id": "4UPFf_o0O4BG",
        "colab_type": "code",
        "colab": {}
      },
      "source": [
        "def new_dataset(dataset, step_size):\n",
        "\tdata_X, data_Y = [], []\n",
        "\tfor i in range(len(dataset)-step_size-1):\n",
        "\t\ta = dataset[i:(i+step_size), 0]\n",
        "\t\tdata_X.append(a)\n",
        "\t\tdata_Y.append(dataset[i + step_size, 0])\n",
        "\treturn np.array(data_X), np.array(data_Y)"
      ],
      "execution_count": 0,
      "outputs": []
    },
    {
      "cell_type": "code",
      "metadata": {
        "id": "xUNsXNXMO4EZ",
        "colab_type": "code",
        "colab": {}
      },
      "source": [
        "np.random.seed(7)\n",
        "dataset = df"
      ],
      "execution_count": 0,
      "outputs": []
    },
    {
      "cell_type": "code",
      "metadata": {
        "id": "nKKlgNksO4M1",
        "colab_type": "code",
        "outputId": "9938e7f8-1107-43ba-ed2f-cc928e30ffd6",
        "colab": {
          "base_uri": "https://localhost:8080/",
          "height": 265
        }
      },
      "source": [
        "dataset = dataset.reindex(index = dataset.index[::-1])\n",
        "obs = np.arange(1, len(dataset) + 1, 1)\n",
        "OHLC_avg = dataset.mean(axis = 1)\n",
        "HLC_avg = dataset[['High', 'Low', 'Close']].mean(axis = 1)\n",
        "close_val = dataset[['Close']]\n",
        "plt.plot(obs, OHLC_avg, 'r', label = 'OHLC avg')\n",
        "plt.plot(obs, HLC_avg, 'b', label = 'HLC avg')\n",
        "plt.plot(obs, close_val, 'g', label = 'Closing price')\n",
        "plt.legend(loc = 'upper right')\n",
        "plt.show()"
      ],
      "execution_count": 12,
      "outputs": [
        {
          "output_type": "display_data",
          "data": {
            "image/png": "[encoded data removed]",
            "text/plain": [
              "<Figure size 432x288 with 1 Axes>"
            ]
          },
          "metadata": {
            "tags": []
          }
        }
      ]
    },
    {
      "cell_type": "code",
      "metadata": {
        "id": "oTTWmtMrO4QQ",
        "colab_type": "code",
        "outputId": "d29eb1a6-abfa-4b09-89fa-9a1a167d0d2c",
        "colab": {
          "base_uri": "https://localhost:8080/",
          "height": 139
        }
      },
      "source": [
        "close_val = np.reshape(close_val.values, (len(close_val),1)) # 1664\n",
        "scaler = MinMaxScaler(feature_range=(0, 1))\n",
        "close_val = scaler.fit_transform(close_val)\n",
        "train_close_val = int(len(close_val) * 0.75)\n",
        "test_close_val = len(close_val) - train_close_val\n",
        "train_close_val, test_close_val = close_val[0:train_close_val,:], close_val[train_close_val:len(close_val),:]\n",
        "print(train_close_val)\n",
        "trainX, trainY = new_dataset(train_close_val, 1)\n",
        "testX, testY = new_dataset(test_close_val, 1)\n",
        "\n"
      ],
      "execution_count": 13,
      "outputs": [
        {
          "output_type": "stream",
          "text": [
            "[[0.13556223]\n",
            " [0.1225543 ]\n",
            " [0.15136529]\n",
            " ...\n",
            " [0.63480975]\n",
            " [0.6233069 ]\n",
            " [0.64706521]]\n"
          ],
          "name": "stdout"
        }
      ]
    },
    {
      "cell_type": "code",
      "metadata": {
        "id": "whLNz0Jqu7oM",
        "colab_type": "code",
        "colab": {}
      },
      "source": [
        ""
      ],
      "execution_count": 0,
      "outputs": []
    },
    {
      "cell_type": "code",
      "metadata": {
        "id": "aV5W44A0O4Th",
        "colab_type": "code",
        "colab": {}
      },
      "source": [
        "trainX = np.reshape(trainX, (trainX.shape[0], 1, trainX.shape[1]))\n",
        "testX = np.reshape(testX, (testX.shape[0], 1, testX.shape[1]))\n",
        "step_size = 1\n",
        "\n"
      ],
      "execution_count": 0,
      "outputs": []
    },
    {
      "cell_type": "code",
      "metadata": {
        "id": "cVLHqALQO4LA",
        "colab_type": "code",
        "outputId": "35cda4f1-b551-42c7-88f0-a25ff36f0173",
        "colab": {
          "base_uri": "https://localhost:8080/",
          "height": 697
        }
      },
      "source": [
        "model = Sequential()\n",
        "model.add(LSTM(32, input_shape=(1, step_size), return_sequences = True))\n",
        "model.add(LSTM(16))\n",
        "model.add(Dense(1))\n",
        "model.add(Activation('linear'))\n",
        "model.compile(loss='mean_squared_error', optimizer='adagrad') # Try SGD, adam, adagrad and compare!!!\n",
        "model.fit(trainX, trainY, epochs=5, batch_size=1, verbose=2)"
      ],
      "execution_count": 15,
      "outputs": [
        {
          "output_type": "stream",
          "text": [
            "WARNING:tensorflow:From /usr/local/lib/python3.6/dist-packages/keras/backend/tensorflow_backend.py:66: The name tf.get_default_graph is deprecated. Please use tf.compat.v1.get_default_graph instead.\n",
            "\n",
            "WARNING:tensorflow:From /usr/local/lib/python3.6/dist-packages/keras/backend/tensorflow_backend.py:541: The name tf.placeholder is deprecated. Please use tf.compat.v1.placeholder instead.\n",
            "\n",
            "WARNING:tensorflow:From /usr/local/lib/python3.6/dist-packages/keras/backend/tensorflow_backend.py:4432: The name tf.random_uniform is deprecated. Please use tf.random.uniform instead.\n",
            "\n",
            "WARNING:tensorflow:From /usr/local/lib/python3.6/dist-packages/keras/optimizers.py:793: The name tf.train.Optimizer is deprecated. Please use tf.compat.v1.train.Optimizer instead.\n",
            "\n",
            "WARNING:tensorflow:From /usr/local/lib/python3.6/dist-packages/tensorflow_core/python/ops/math_grad.py:1424: where (from tensorflow.python.ops.array_ops) is deprecated and will be removed in a future version.\n",
            "Instructions for updating:\n",
            "Use tf.where in 2.0, which has the same broadcast rule as np.where\n",
            "WARNING:tensorflow:From /usr/local/lib/python3.6/dist-packages/keras/backend/tensorflow_backend.py:1033: The name tf.assign_add is deprecated. Please use tf.compat.v1.assign_add instead.\n",
            "\n",
            "WARNING:tensorflow:From /usr/local/lib/python3.6/dist-packages/keras/backend/tensorflow_backend.py:1020: The name tf.assign is deprecated. Please use tf.compat.v1.assign instead.\n",
            "\n",
            "WARNING:tensorflow:From /usr/local/lib/python3.6/dist-packages/keras/backend/tensorflow_backend.py:3005: The name tf.Session is deprecated. Please use tf.compat.v1.Session instead.\n",
            "\n",
            "Epoch 1/5\n",
            "WARNING:tensorflow:From /usr/local/lib/python3.6/dist-packages/keras/backend/tensorflow_backend.py:190: The name tf.get_default_session is deprecated. Please use tf.compat.v1.get_default_session instead.\n",
            "\n",
            "WARNING:tensorflow:From /usr/local/lib/python3.6/dist-packages/keras/backend/tensorflow_backend.py:197: The name tf.ConfigProto is deprecated. Please use tf.compat.v1.ConfigProto instead.\n",
            "\n",
            "WARNING:tensorflow:From /usr/local/lib/python3.6/dist-packages/keras/backend/tensorflow_backend.py:207: The name tf.global_variables is deprecated. Please use tf.compat.v1.global_variables instead.\n",
            "\n",
            "WARNING:tensorflow:From /usr/local/lib/python3.6/dist-packages/keras/backend/tensorflow_backend.py:216: The name tf.is_variable_initialized is deprecated. Please use tf.compat.v1.is_variable_initialized instead.\n",
            "\n",
            "WARNING:tensorflow:From /usr/local/lib/python3.6/dist-packages/keras/backend/tensorflow_backend.py:223: The name tf.variables_initializer is deprecated. Please use tf.compat.v1.variables_initializer instead.\n",
            "\n",
            " - 7s - loss: 0.0051\n",
            "Epoch 2/5\n",
            " - 6s - loss: 5.2777e-04\n",
            "Epoch 3/5\n",
            " - 7s - loss: 4.6080e-04\n",
            "Epoch 4/5\n",
            " - 7s - loss: 4.1714e-04\n",
            "Epoch 5/5\n",
            " - 7s - loss: 3.8256e-04\n"
          ],
          "name": "stdout"
        },
        {
          "output_type": "execute_result",
          "data": {
            "text/plain": [
              "<keras.callbacks.History at 0x7f8543c45d68>"
            ]
          },
          "metadata": {
            "tags": []
          },
          "execution_count": 15
        }
      ]
    },
    {
      "cell_type": "code",
      "metadata": {
        "id": "mK7aoh52O4Jo",
        "colab_type": "code",
        "colab": {}
      },
      "source": [
        "trainPredict = model.predict(trainX)\n",
        "testPredict = model.predict(testX)\n",
        "\n"
      ],
      "execution_count": 0,
      "outputs": []
    },
    {
      "cell_type": "code",
      "metadata": {
        "id": "NGoP-_mwfnul",
        "colab_type": "code",
        "colab": {}
      },
      "source": [
        "trainPredict = scaler.inverse_transform(trainPredict)\n",
        "trainY = scaler.inverse_transform([trainY])\n",
        "testPredict = scaler.inverse_transform(testPredict)\n",
        "testY = scaler.inverse_transform([testY])\n",
        "\n",
        "\n"
      ],
      "execution_count": 0,
      "outputs": []
    },
    {
      "cell_type": "code",
      "metadata": {
        "id": "A9_IICVsfnyI",
        "colab_type": "code",
        "outputId": "2800813d-3a3c-4fe9-bfec-e2bf558f52fe",
        "colab": {
          "base_uri": "https://localhost:8080/",
          "height": 52
        }
      },
      "source": [
        "# TRAINING RMSE\n",
        "trainScore = math.sqrt(mean_squared_error(trainY[0], trainPredict[:,0]))\n",
        "print('Train RMSE: %.2f' % (trainScore))\n",
        "\n",
        "# TEST RMSE\n",
        "testScore = math.sqrt(mean_squared_error(testY[0], testPredict[:,0]))\n",
        "print('Test RMSE: %.2f' % (testScore))\n",
        "\n"
      ],
      "execution_count": 18,
      "outputs": [
        {
          "output_type": "stream",
          "text": [
            "Train RMSE: 8.84\n",
            "Test RMSE: 10.12\n"
          ],
          "name": "stdout"
        }
      ]
    },
    {
      "cell_type": "code",
      "metadata": {
        "id": "riSFv7t1fn1O",
        "colab_type": "code",
        "outputId": "d1ccd725-8afc-46fb-f5c5-d87806f3c9e6",
        "colab": {
          "base_uri": "https://localhost:8080/",
          "height": 279
        }
      },
      "source": [
        "# CREATING SIMILAR DATASET TO PLOT TRAINING PREDICTIONS\n",
        "trainPredictPlot = np.empty_like(close_val)\n",
        "trainPredictPlot[:, :] = np.nan\n",
        "trainPredictPlot[step_size:len(trainPredict)+step_size, :] = trainPredict\n",
        "\n",
        "# CREATING SIMILAR DATASSET TO PLOT TEST PREDICTIONS\n",
        "testPredictPlot = np.empty_like(close_val)\n",
        "testPredictPlot[:, :] = np.nan\n",
        "testPredictPlot[len(trainPredict)+(step_size*2)+1:len(close_val)-1, :] = testPredict\n",
        "\n",
        "# DE-NORMALIZING MAIN DATASET \n",
        "OHLC_avg = scaler.inverse_transform(close_val)\n",
        "\n",
        "# PLOT OF MAIN OHLC VALUES, TRAIN PREDICTIONS AND TEST PREDICTIONS\n",
        "plt.plot(dataset['Close'].values, 'g', label = 'original dataset')\n",
        "plt.plot(trainPredictPlot, 'r', label = 'training set')\n",
        "plt.plot(testPredictPlot, 'b', label = 'predicted stock price/test set')\n",
        "plt.legend(loc = 'upper right')\n",
        "plt.xlabel('Time in Days')\n",
        "plt.ylabel('OHLC Value of Apple Stocks')\n",
        "plt.show()\n",
        "\n"
      ],
      "execution_count": 19,
      "outputs": [
        {
          "output_type": "display_data",
          "data": {
            "image/png": "[encoded data removed]",
            "text/plain": [
              "<Figure size 432x288 with 1 Axes>"
            ]
          },
          "metadata": {
            "tags": []
          }
        }
      ]
    },
    {
      "cell_type": "code",
      "metadata": {
        "id": "xyaIDhN4fn6b",
        "colab_type": "code",
        "outputId": "6018508f-1c65-436d-fa08-3b58e7550b0d",
        "colab": {
          "base_uri": "https://localhost:8080/",
          "height": 121
        }
      },
      "source": [
        "# PREDICT FUTURE VALUES\n",
        "last_val = testPredict[-1]\n",
        "last_val_scaled = last_val/last_val\n",
        "next_val = model.predict(np.reshape(last_val_scaled, (1,1,1)))\n",
        "print(\"Last Day Value:\", np.asscalar(last_val))\n",
        "print(\"Next Day Value:\", np.asscalar(last_val*next_val))\n",
        "# print np.append(last_val, next_val)"
      ],
      "execution_count": 20,
      "outputs": [
        {
          "output_type": "stream",
          "text": [
            "Last Day Value: 440.9616394042969\n",
            "Next Day Value: 449.3065490722656\n"
          ],
          "name": "stdout"
        },
        {
          "output_type": "stream",
          "text": [
            "/usr/local/lib/python3.6/dist-packages/ipykernel_launcher.py:4: DeprecationWarning: np.asscalar(a) is deprecated since NumPy v1.16, use a.item() instead\n",
            "  after removing the cwd from sys.path.\n",
            "/usr/local/lib/python3.6/dist-packages/ipykernel_launcher.py:5: DeprecationWarning: np.asscalar(a) is deprecated since NumPy v1.16, use a.item() instead\n",
            "  \"\"\"\n"
          ],
          "name": "stderr"
        }
      ]
    },
    {
      "cell_type": "code",
      "metadata": {
        "id": "jktrfCAffn9h",
        "colab_type": "code",
        "outputId": "990dcbc7-e15f-4cd4-9648-eabe3b5da4ae",
        "colab": {
          "base_uri": "https://localhost:8080/",
          "height": 34
        }
      },
      "source": [
        "testPredict[-1]"
      ],
      "execution_count": 21,
      "outputs": [
        {
          "output_type": "execute_result",
          "data": {
            "text/plain": [
              "array([440.96164], dtype=float32)"
            ]
          },
          "metadata": {
            "tags": []
          },
          "execution_count": 21
        }
      ]
    },
    {
      "cell_type": "code",
      "metadata": {
        "id": "Lq3ueyLFfoA0",
        "colab_type": "code",
        "colab": {
          "base_uri": "https://localhost:8080/",
          "height": 455
        },
        "outputId": "5cf133af-0497-4336-bed9-a0e36107a509"
      },
      "source": [
        "df"
      ],
      "execution_count": 22,
      "outputs": [
        {
          "output_type": "execute_result",
          "data": {
            "text/html": [
              "<div>\n",
              "<style scoped>\n",
              "    .dataframe tbody tr th:only-of-type {\n",
              "        vertical-align: middle;\n",
              "    }\n",
              "\n",
              "    .dataframe tbody tr th {\n",
              "        vertical-align: top;\n",
              "    }\n",
              "\n",
              "    .dataframe thead th {\n",
              "        text-align: right;\n",
              "    }\n",
              "</style>\n",
              "<table border=\"1\" class=\"dataframe\">\n",
              "  <thead>\n",
              "    <tr style=\"text-align: right;\">\n",
              "      <th></th>\n",
              "      <th>High</th>\n",
              "      <th>Low</th>\n",
              "      <th>Open</th>\n",
              "      <th>Close</th>\n",
              "    </tr>\n",
              "    <tr>\n",
              "      <th>Date</th>\n",
              "      <th></th>\n",
              "      <th></th>\n",
              "      <th></th>\n",
              "      <th></th>\n",
              "    </tr>\n",
              "  </thead>\n",
              "  <tbody>\n",
              "    <tr>\n",
              "      <th>2020-02-07</th>\n",
              "      <td>444.899994</td>\n",
              "      <td>437.299988</td>\n",
              "      <td>440.000000</td>\n",
              "      <td>441.600006</td>\n",
              "    </tr>\n",
              "    <tr>\n",
              "      <th>2020-02-06</th>\n",
              "      <td>464.350006</td>\n",
              "      <td>435.350006</td>\n",
              "      <td>462.500000</td>\n",
              "      <td>439.649994</td>\n",
              "    </tr>\n",
              "    <tr>\n",
              "      <th>2020-02-05</th>\n",
              "      <td>459.149994</td>\n",
              "      <td>437.500000</td>\n",
              "      <td>449.549988</td>\n",
              "      <td>447.549988</td>\n",
              "    </tr>\n",
              "    <tr>\n",
              "      <th>2020-02-04</th>\n",
              "      <td>452.450012</td>\n",
              "      <td>444.200012</td>\n",
              "      <td>446.700012</td>\n",
              "      <td>448.450012</td>\n",
              "    </tr>\n",
              "    <tr>\n",
              "      <th>2020-02-03</th>\n",
              "      <td>450.649994</td>\n",
              "      <td>439.399994</td>\n",
              "      <td>444.000000</td>\n",
              "      <td>444.549988</td>\n",
              "    </tr>\n",
              "    <tr>\n",
              "      <th>...</th>\n",
              "      <td>...</td>\n",
              "      <td>...</td>\n",
              "      <td>...</td>\n",
              "      <td>...</td>\n",
              "    </tr>\n",
              "    <tr>\n",
              "      <th>2010-01-08</th>\n",
              "      <td>346.500000</td>\n",
              "      <td>340.200012</td>\n",
              "      <td>345.000000</td>\n",
              "      <td>341.100006</td>\n",
              "    </tr>\n",
              "    <tr>\n",
              "      <th>2010-01-07</th>\n",
              "      <td>350.399994</td>\n",
              "      <td>340.500000</td>\n",
              "      <td>346.000000</td>\n",
              "      <td>342.049988</td>\n",
              "    </tr>\n",
              "    <tr>\n",
              "      <th>2010-01-06</th>\n",
              "      <td>348.899994</td>\n",
              "      <td>330.350006</td>\n",
              "      <td>332.000000</td>\n",
              "      <td>344.899994</td>\n",
              "    </tr>\n",
              "    <tr>\n",
              "      <th>2010-01-05</th>\n",
              "      <td>342.399994</td>\n",
              "      <td>330.500000</td>\n",
              "      <td>338.549988</td>\n",
              "      <td>331.500000</td>\n",
              "    </tr>\n",
              "    <tr>\n",
              "      <th>2010-01-04</th>\n",
              "      <td>339.500000</td>\n",
              "      <td>336.000000</td>\n",
              "      <td>338.000000</td>\n",
              "      <td>337.549988</td>\n",
              "    </tr>\n",
              "  </tbody>\n",
              "</table>\n",
              "<p>2489 rows × 4 columns</p>\n",
              "</div>"
            ],
            "text/plain": [
              "                  High         Low        Open       Close\n",
              "Date                                                      \n",
              "2020-02-07  444.899994  437.299988  440.000000  441.600006\n",
              "2020-02-06  464.350006  435.350006  462.500000  439.649994\n",
              "2020-02-05  459.149994  437.500000  449.549988  447.549988\n",
              "2020-02-04  452.450012  444.200012  446.700012  448.450012\n",
              "2020-02-03  450.649994  439.399994  444.000000  444.549988\n",
              "...                ...         ...         ...         ...\n",
              "2010-01-08  346.500000  340.200012  345.000000  341.100006\n",
              "2010-01-07  350.399994  340.500000  346.000000  342.049988\n",
              "2010-01-06  348.899994  330.350006  332.000000  344.899994\n",
              "2010-01-05  342.399994  330.500000  338.549988  331.500000\n",
              "2010-01-04  339.500000  336.000000  338.000000  337.549988\n",
              "\n",
              "[2489 rows x 4 columns]"
            ]
          },
          "metadata": {
            "tags": []
          },
          "execution_count": 22
        }
      ]
    },
    {
      "cell_type": "code",
      "metadata": {
        "id": "MbjzsFjufn4H",
        "colab_type": "code",
        "colab": {}
      },
      "source": [
        ""
      ],
      "execution_count": 0,
      "outputs": []
    },
    {
      "cell_type": "code",
      "metadata": {
        "id": "F-GpVAs0fnro",
        "colab_type": "code",
        "colab": {}
      },
      "source": [
        ""
      ],
      "execution_count": 0,
      "outputs": []
    },
    {
      "cell_type": "code",
      "metadata": {
        "id": "hzBfJBJtO4IB",
        "colab_type": "code",
        "colab": {}
      },
      "source": [
        ""
      ],
      "execution_count": 0,
      "outputs": []
    },
    {
      "cell_type": "code",
      "metadata": {
        "id": "c2aB8_A4O3_H",
        "colab_type": "code",
        "colab": {}
      },
      "source": [
        ""
      ],
      "execution_count": 0,
      "outputs": []
    },
    {
      "cell_type": "code",
      "metadata": {
        "id": "rXSbrd-2O37l",
        "colab_type": "code",
        "colab": {}
      },
      "source": [
        ""
      ],
      "execution_count": 0,
      "outputs": []
    }
  ]
}