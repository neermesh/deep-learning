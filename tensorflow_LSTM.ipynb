{
  "nbformat": 4,
  "nbformat_minor": 0,
  "metadata": {
    "colab": {
      "name": "tensorflow_LSTM",
      "provenance": [],
      "collapsed_sections": [],
      "authorship_tag": "ABX9TyMPIXc4NG781WHueboHHrIw",
      "include_colab_link": true
    },
    "kernelspec": {
      "name": "python3",
      "display_name": "Python 3"
    },
    "accelerator": "TPU"
  },
  "cells": [
    {
      "cell_type": "markdown",
      "metadata": {
        "id": "view-in-github",
        "colab_type": "text"
      },
      "source": [
        "<a href=\"https://colab.research.google.com/github/neermesh/deep-learning/blob/master/tensorflow_LSTM.ipynb\" target=\"_parent\"><img src=\"https://colab.research.google.com/assets/colab-badge.svg\" alt=\"Open In Colab\"/></a>"
      ]
    },
    {
      "cell_type": "code",
      "metadata": {
        "id": "4BSLf3PW9pXv",
        "colab_type": "code",
        "colab": {}
      },
      "source": [
        "import sys\n",
        "import warnings\n",
        "\n",
        "if not sys.warnoptions:\n",
        "    warnings.simplefilter('ignore')\n",
        "\n",
        "\n",
        "    \n",
        "import numpy as np\n",
        "import pandas as pd\n",
        "import tensorflow.compat.v1 as tf\n",
        "import matplotlib.pyplot as plt"
      ],
      "execution_count": 0,
      "outputs": []
    },
    {
      "cell_type": "code",
      "metadata": {
        "id": "XocbmVu-RvZ2",
        "colab_type": "code",
        "colab": {}
      },
      "source": [
        "from pandas_datareader import data as pdr\n",
        "df = pdr.get_data_yahoo('CIPLA.NS')  \n"
      ],
      "execution_count": 0,
      "outputs": []
    },
    {
      "cell_type": "code",
      "metadata": {
        "id": "bpNG6atamMeq",
        "colab_type": "code",
        "colab": {
          "base_uri": "https://localhost:8080/",
          "height": 455
        },
        "outputId": "6912bb29-80e1-4c84-be25-8bd2e20551b8"
      },
      "source": [
        "df"
      ],
      "execution_count": 96,
      "outputs": [
        {
          "output_type": "execute_result",
          "data": {
            "text/html": [
              "<div>\n",
              "<style scoped>\n",
              "    .dataframe tbody tr th:only-of-type {\n",
              "        vertical-align: middle;\n",
              "    }\n",
              "\n",
              "    .dataframe tbody tr th {\n",
              "        vertical-align: top;\n",
              "    }\n",
              "\n",
              "    .dataframe thead th {\n",
              "        text-align: right;\n",
              "    }\n",
              "</style>\n",
              "<table border=\"1\" class=\"dataframe\">\n",
              "  <thead>\n",
              "    <tr style=\"text-align: right;\">\n",
              "      <th></th>\n",
              "      <th>High</th>\n",
              "      <th>Low</th>\n",
              "      <th>Open</th>\n",
              "      <th>Close</th>\n",
              "      <th>Volume</th>\n",
              "      <th>Adj Close</th>\n",
              "    </tr>\n",
              "    <tr>\n",
              "      <th>Date</th>\n",
              "      <th></th>\n",
              "      <th></th>\n",
              "      <th></th>\n",
              "      <th></th>\n",
              "      <th></th>\n",
              "      <th></th>\n",
              "    </tr>\n",
              "  </thead>\n",
              "  <tbody>\n",
              "    <tr>\n",
              "      <th>2010-01-04</th>\n",
              "      <td>339.500000</td>\n",
              "      <td>336.000000</td>\n",
              "      <td>338.000000</td>\n",
              "      <td>337.549988</td>\n",
              "      <td>635013.0</td>\n",
              "      <td>319.540070</td>\n",
              "    </tr>\n",
              "    <tr>\n",
              "      <th>2010-01-05</th>\n",
              "      <td>342.399994</td>\n",
              "      <td>330.500000</td>\n",
              "      <td>338.549988</td>\n",
              "      <td>331.500000</td>\n",
              "      <td>1664976.0</td>\n",
              "      <td>313.812958</td>\n",
              "    </tr>\n",
              "    <tr>\n",
              "      <th>2010-01-06</th>\n",
              "      <td>348.899994</td>\n",
              "      <td>330.350006</td>\n",
              "      <td>332.000000</td>\n",
              "      <td>344.899994</td>\n",
              "      <td>3580916.0</td>\n",
              "      <td>326.497986</td>\n",
              "    </tr>\n",
              "    <tr>\n",
              "      <th>2010-01-07</th>\n",
              "      <td>350.399994</td>\n",
              "      <td>340.500000</td>\n",
              "      <td>346.000000</td>\n",
              "      <td>342.049988</td>\n",
              "      <td>1555841.0</td>\n",
              "      <td>323.800049</td>\n",
              "    </tr>\n",
              "    <tr>\n",
              "      <th>2010-01-08</th>\n",
              "      <td>346.500000</td>\n",
              "      <td>340.200012</td>\n",
              "      <td>345.000000</td>\n",
              "      <td>341.100006</td>\n",
              "      <td>913410.0</td>\n",
              "      <td>322.900757</td>\n",
              "    </tr>\n",
              "    <tr>\n",
              "      <th>...</th>\n",
              "      <td>...</td>\n",
              "      <td>...</td>\n",
              "      <td>...</td>\n",
              "      <td>...</td>\n",
              "      <td>...</td>\n",
              "      <td>...</td>\n",
              "    </tr>\n",
              "    <tr>\n",
              "      <th>2020-01-22</th>\n",
              "      <td>480.299988</td>\n",
              "      <td>470.250000</td>\n",
              "      <td>474.500000</td>\n",
              "      <td>471.600006</td>\n",
              "      <td>2380518.0</td>\n",
              "      <td>471.600006</td>\n",
              "    </tr>\n",
              "    <tr>\n",
              "      <th>2020-01-23</th>\n",
              "      <td>475.850006</td>\n",
              "      <td>459.350006</td>\n",
              "      <td>464.500000</td>\n",
              "      <td>465.149994</td>\n",
              "      <td>5783699.0</td>\n",
              "      <td>465.149994</td>\n",
              "    </tr>\n",
              "    <tr>\n",
              "      <th>2020-01-27</th>\n",
              "      <td>466.500000</td>\n",
              "      <td>454.200012</td>\n",
              "      <td>457.500000</td>\n",
              "      <td>464.450012</td>\n",
              "      <td>5849003.0</td>\n",
              "      <td>464.450012</td>\n",
              "    </tr>\n",
              "    <tr>\n",
              "      <th>2020-01-28</th>\n",
              "      <td>468.000000</td>\n",
              "      <td>458.950012</td>\n",
              "      <td>465.000000</td>\n",
              "      <td>464.700012</td>\n",
              "      <td>3592413.0</td>\n",
              "      <td>464.700012</td>\n",
              "    </tr>\n",
              "    <tr>\n",
              "      <th>2020-01-29</th>\n",
              "      <td>467.399994</td>\n",
              "      <td>460.350006</td>\n",
              "      <td>464.700012</td>\n",
              "      <td>461.549988</td>\n",
              "      <td>1736791.0</td>\n",
              "      <td>461.549988</td>\n",
              "    </tr>\n",
              "  </tbody>\n",
              "</table>\n",
              "<p>2481 rows × 6 columns</p>\n",
              "</div>"
            ],
            "text/plain": [
              "                  High         Low  ...     Volume   Adj Close\n",
              "Date                                ...                       \n",
              "2010-01-04  339.500000  336.000000  ...   635013.0  319.540070\n",
              "2010-01-05  342.399994  330.500000  ...  1664976.0  313.812958\n",
              "2010-01-06  348.899994  330.350006  ...  3580916.0  326.497986\n",
              "2010-01-07  350.399994  340.500000  ...  1555841.0  323.800049\n",
              "2010-01-08  346.500000  340.200012  ...   913410.0  322.900757\n",
              "...                ...         ...  ...        ...         ...\n",
              "2020-01-22  480.299988  470.250000  ...  2380518.0  471.600006\n",
              "2020-01-23  475.850006  459.350006  ...  5783699.0  465.149994\n",
              "2020-01-27  466.500000  454.200012  ...  5849003.0  464.450012\n",
              "2020-01-28  468.000000  458.950012  ...  3592413.0  464.700012\n",
              "2020-01-29  467.399994  460.350006  ...  1736791.0  461.549988\n",
              "\n",
              "[2481 rows x 6 columns]"
            ]
          },
          "metadata": {
            "tags": []
          },
          "execution_count": 96
        }
      ]
    },
    {
      "cell_type": "code",
      "metadata": {
        "id": "nHEVn4MITKGN",
        "colab_type": "code",
        "colab": {}
      },
      "source": [
        "from sklearn.model_selection import train_test_split\n",
        "train, test = train_test_split(df, test_size=0.2)"
      ],
      "execution_count": 0,
      "outputs": []
    },
    {
      "cell_type": "code",
      "metadata": {
        "id": "w7Nhyd2BTeEW",
        "colab_type": "code",
        "colab": {}
      },
      "source": [
        "train = train['Adj Close']\n",
        "test = test['Adj Close']"
      ],
      "execution_count": 0,
      "outputs": []
    },
    {
      "cell_type": "code",
      "metadata": {
        "id": "kQE5pNpa_Yoz",
        "colab_type": "code",
        "colab": {}
      },
      "source": [
        "from sklearn.preprocessing import MinMaxScaler\n",
        "sc = MinMaxScaler(feature_range=(0,1))\n",
        "train_scaled = sc.fit_transform(train.values.reshape(-1, 1))"
      ],
      "execution_count": 0,
      "outputs": []
    },
    {
      "cell_type": "code",
      "metadata": {
        "id": "Ey3RlEXMtfy-",
        "colab_type": "code",
        "outputId": "e2dafa29-414b-4301-b7ca-a6ffbdddc4cc",
        "colab": {
          "base_uri": "https://localhost:8080/",
          "height": 139
        }
      },
      "source": [
        "train_scaled"
      ],
      "execution_count": 100,
      "outputs": [
        {
          "output_type": "execute_result",
          "data": {
            "text/plain": [
              "array([[0.65370945],\n",
              "       [0.70106566],\n",
              "       [0.46613231],\n",
              "       ...,\n",
              "       [0.74225337],\n",
              "       [0.06889443],\n",
              "       [0.97392232]])"
            ]
          },
          "metadata": {
            "tags": []
          },
          "execution_count": 100
        }
      ]
    },
    {
      "cell_type": "code",
      "metadata": {
        "id": "vqFj2_oeUFse",
        "colab_type": "code",
        "outputId": "414b727a-7dda-436c-e882-eec85c063009",
        "colab": {
          "base_uri": "https://localhost:8080/",
          "height": 34
        }
      },
      "source": [
        "train_scaled.shape"
      ],
      "execution_count": 103,
      "outputs": [
        {
          "output_type": "execute_result",
          "data": {
            "text/plain": [
              "(1984, 1)"
            ]
          },
          "metadata": {
            "tags": []
          },
          "execution_count": 103
        }
      ]
    },
    {
      "cell_type": "code",
      "metadata": {
        "id": "qF5JkJxy_goQ",
        "colab_type": "code",
        "colab": {}
      },
      "source": [
        "X_train = []\n",
        "y_train = []\n",
        "for i in range(60,1984):\n",
        "    X_train.append(train_scaled[i-60:i,0])\n",
        "    y_train.append(train_scaled[i,0])\n",
        "X_train,y_train = np.array(X_train), np.array(y_train)"
      ],
      "execution_count": 0,
      "outputs": []
    },
    {
      "cell_type": "code",
      "metadata": {
        "id": "Z8uygj3E48b8",
        "colab_type": "code",
        "colab": {
          "base_uri": "https://localhost:8080/",
          "height": 34
        },
        "outputId": "5a0678f3-80b2-43d0-e032-2e7d713e6c6a"
      },
      "source": [
        "X_train.shape"
      ],
      "execution_count": 106,
      "outputs": [
        {
          "output_type": "execute_result",
          "data": {
            "text/plain": [
              "(1924, 60)"
            ]
          },
          "metadata": {
            "tags": []
          },
          "execution_count": 106
        }
      ]
    },
    {
      "cell_type": "code",
      "metadata": {
        "id": "lGmdmlPS_juK",
        "colab_type": "code",
        "colab": {}
      },
      "source": [
        "X_train = np.reshape(X_train, (X_train.shape[0], X_train.shape[1], 1))"
      ],
      "execution_count": 0,
      "outputs": []
    },
    {
      "cell_type": "code",
      "metadata": {
        "id": "eEAatEn6CVPM",
        "colab_type": "code",
        "colab": {
          "base_uri": "https://localhost:8080/",
          "height": 34
        },
        "outputId": "7ee75cb3-3a52-4bb3-89f9-62c85236f250"
      },
      "source": [
        "X_train.shape"
      ],
      "execution_count": 108,
      "outputs": [
        {
          "output_type": "execute_result",
          "data": {
            "text/plain": [
              "(1924, 60, 1)"
            ]
          },
          "metadata": {
            "tags": []
          },
          "execution_count": 108
        }
      ]
    },
    {
      "cell_type": "code",
      "metadata": {
        "id": "OYLMmTXQ_obD",
        "colab_type": "code",
        "colab": {}
      },
      "source": [
        "from tensorflow.keras import layers"
      ],
      "execution_count": 0,
      "outputs": []
    },
    {
      "cell_type": "code",
      "metadata": {
        "id": "kr8n8F1LVFEH",
        "colab_type": "code",
        "colab": {}
      },
      "source": [
        "\n",
        "\n",
        "regressor = tf.keras.Sequential()\n",
        "#regressor.add(layers.Bidirectional(layers.CuDNNLSTM(256, return_sequences=True), \n",
        "#                               input_shape=(X_train.shape[1],1)))\n",
        "\n",
        "regressor.add(layers.LSTM(32, input_shape=(X_train.shape[1],1), return_sequences=True))\n",
        "regressor.add(layers.Dropout(0.2))\n",
        "\n",
        "\n",
        "\n",
        "\n",
        "regressor.add(layers.LSTM(4, return_sequences=True))\n",
        "regressor.add(layers.Dropout(0.2))\n",
        "\n",
        "regressor.add(layers.Flatten())\n",
        "\n",
        "regressor.add(layers.Dense(1))\n",
        "regressor.compile(optimizer='adam',loss='mean_squared_error')"
      ],
      "execution_count": 0,
      "outputs": []
    },
    {
      "cell_type": "code",
      "metadata": {
        "id": "aHuRiu7h0jx1",
        "colab_type": "code",
        "outputId": "cf876ca8-0ff4-4f49-b694-1afbfe0c74f2",
        "colab": {
          "base_uri": "https://localhost:8080/",
          "height": 364
        }
      },
      "source": [
        "regressor.summary()"
      ],
      "execution_count": 111,
      "outputs": [
        {
          "output_type": "stream",
          "text": [
            "Model: \"sequential_3\"\n",
            "_________________________________________________________________\n",
            "Layer (type)                 Output Shape              Param #   \n",
            "=================================================================\n",
            "lstm_6 (LSTM)                (None, 60, 32)            4352      \n",
            "_________________________________________________________________\n",
            "dropout_6 (Dropout)          (None, 60, 32)            0         \n",
            "_________________________________________________________________\n",
            "lstm_7 (LSTM)                (None, 60, 4)             592       \n",
            "_________________________________________________________________\n",
            "dropout_7 (Dropout)          (None, 60, 4)             0         \n",
            "_________________________________________________________________\n",
            "flatten_3 (Flatten)          (None, 240)               0         \n",
            "_________________________________________________________________\n",
            "dense_3 (Dense)              (None, 1)                 241       \n",
            "=================================================================\n",
            "Total params: 5,185\n",
            "Trainable params: 5,185\n",
            "Non-trainable params: 0\n",
            "_________________________________________________________________\n"
          ],
          "name": "stdout"
        }
      ]
    },
    {
      "cell_type": "code",
      "metadata": {
        "id": "9BXcQ84e11AK",
        "colab_type": "code",
        "outputId": "948efcae-d732-4524-cc51-143fd66f1524",
        "colab": {
          "base_uri": "https://localhost:8080/",
          "height": 1000
        }
      },
      "source": [
        "regressor.fit(X_train,y_train,epochs=30,batch_size=32,validation_split=0.2)"
      ],
      "execution_count": 112,
      "outputs": [
        {
          "output_type": "stream",
          "text": [
            "Train on 1539 samples, validate on 385 samples\n",
            "Epoch 1/30\n",
            "1539/1539 [==============================] - 7s 4ms/sample - loss: 0.1103 - val_loss: 0.0767\n",
            "Epoch 2/30\n",
            "1539/1539 [==============================] - 4s 3ms/sample - loss: 0.0814 - val_loss: 0.0773\n",
            "Epoch 3/30\n",
            "1539/1539 [==============================] - 4s 3ms/sample - loss: 0.0795 - val_loss: 0.0763\n",
            "Epoch 4/30\n",
            "1539/1539 [==============================] - 4s 3ms/sample - loss: 0.0797 - val_loss: 0.0755\n",
            "Epoch 5/30\n",
            "1539/1539 [==============================] - 4s 3ms/sample - loss: 0.0792 - val_loss: 0.0794\n",
            "Epoch 6/30\n",
            "1539/1539 [==============================] - 4s 3ms/sample - loss: 0.0791 - val_loss: 0.0764\n",
            "Epoch 7/30\n",
            "1539/1539 [==============================] - 4s 3ms/sample - loss: 0.0789 - val_loss: 0.0759\n",
            "Epoch 8/30\n",
            "1539/1539 [==============================] - 4s 3ms/sample - loss: 0.0765 - val_loss: 0.0763\n",
            "Epoch 9/30\n",
            "1539/1539 [==============================] - 4s 3ms/sample - loss: 0.0769 - val_loss: 0.0789\n",
            "Epoch 10/30\n",
            "1539/1539 [==============================] - 4s 3ms/sample - loss: 0.0774 - val_loss: 0.0757\n",
            "Epoch 11/30\n",
            "1539/1539 [==============================] - 4s 3ms/sample - loss: 0.0770 - val_loss: 0.0749\n",
            "Epoch 12/30\n",
            "1539/1539 [==============================] - 4s 3ms/sample - loss: 0.0773 - val_loss: 0.0749\n",
            "Epoch 13/30\n",
            "1539/1539 [==============================] - 4s 3ms/sample - loss: 0.0751 - val_loss: 0.0759\n",
            "Epoch 14/30\n",
            "1539/1539 [==============================] - 4s 3ms/sample - loss: 0.0767 - val_loss: 0.0755\n",
            "Epoch 15/30\n",
            "1539/1539 [==============================] - 4s 3ms/sample - loss: 0.0756 - val_loss: 0.0747\n",
            "Epoch 16/30\n",
            "1539/1539 [==============================] - 4s 3ms/sample - loss: 0.0768 - val_loss: 0.0751\n",
            "Epoch 17/30\n",
            "1539/1539 [==============================] - 4s 3ms/sample - loss: 0.0757 - val_loss: 0.0754\n",
            "Epoch 18/30\n",
            "1539/1539 [==============================] - 4s 3ms/sample - loss: 0.0752 - val_loss: 0.0769\n",
            "Epoch 19/30\n",
            "1539/1539 [==============================] - 4s 3ms/sample - loss: 0.0754 - val_loss: 0.0749\n",
            "Epoch 20/30\n",
            "1539/1539 [==============================] - 4s 3ms/sample - loss: 0.0769 - val_loss: 0.0747\n",
            "Epoch 21/30\n",
            "1539/1539 [==============================] - 4s 3ms/sample - loss: 0.0767 - val_loss: 0.0746\n",
            "Epoch 22/30\n",
            "1539/1539 [==============================] - 4s 3ms/sample - loss: 0.0766 - val_loss: 0.0751\n",
            "Epoch 23/30\n",
            "1539/1539 [==============================] - 4s 3ms/sample - loss: 0.0755 - val_loss: 0.0746\n",
            "Epoch 24/30\n",
            "1539/1539 [==============================] - 4s 3ms/sample - loss: 0.0744 - val_loss: 0.0768\n",
            "Epoch 25/30\n",
            "1539/1539 [==============================] - 4s 3ms/sample - loss: 0.0751 - val_loss: 0.0747\n",
            "Epoch 26/30\n",
            "1539/1539 [==============================] - 4s 3ms/sample - loss: 0.0750 - val_loss: 0.0758\n",
            "Epoch 27/30\n",
            "1539/1539 [==============================] - 4s 3ms/sample - loss: 0.0749 - val_loss: 0.0751\n",
            "Epoch 28/30\n",
            "1539/1539 [==============================] - 4s 3ms/sample - loss: 0.0750 - val_loss: 0.0758\n",
            "Epoch 29/30\n",
            "1539/1539 [==============================] - 4s 3ms/sample - loss: 0.0747 - val_loss: 0.0782\n",
            "Epoch 30/30\n",
            "1539/1539 [==============================] - 4s 3ms/sample - loss: 0.0750 - val_loss: 0.0746\n"
          ],
          "name": "stdout"
        },
        {
          "output_type": "execute_result",
          "data": {
            "text/plain": [
              "<tensorflow.python.keras.callbacks.History at 0x7f3eb9489b70>"
            ]
          },
          "metadata": {
            "tags": []
          },
          "execution_count": 112
        }
      ]
    },
    {
      "cell_type": "code",
      "metadata": {
        "id": "cqb-K1Fc2BpV",
        "colab_type": "code",
        "colab": {}
      },
      "source": [
        ""
      ],
      "execution_count": 0,
      "outputs": []
    },
    {
      "cell_type": "code",
      "metadata": {
        "id": "G4pe3uVe3Q2J",
        "colab_type": "code",
        "colab": {
          "base_uri": "https://localhost:8080/",
          "height": 34
        },
        "outputId": "7e01059c-35a1-473c-ff6d-3e6d1db903a6"
      },
      "source": [
        "#Here"
      ],
      "execution_count": 116,
      "outputs": [
        {
          "output_type": "execute_result",
          "data": {
            "text/plain": [
              "(497,)"
            ]
          },
          "metadata": {
            "tags": []
          },
          "execution_count": 116
        }
      ]
    },
    {
      "cell_type": "code",
      "metadata": {
        "id": "9I6LOhtS3RCz",
        "colab_type": "code",
        "colab": {}
      },
      "source": [
        ""
      ],
      "execution_count": 0,
      "outputs": []
    },
    {
      "cell_type": "code",
      "metadata": {
        "id": "ofLgZEqx3S7g",
        "colab_type": "code",
        "colab": {}
      },
      "source": [
        "dataset_total = pd.concat((train,test),axis=0)\n",
        "inputs = dataset_total[len(df)- len(test)-60:].values\n",
        "inputs = inputs.reshape(-1,1)\n",
        "inputs = sc.transform(inputs)\n",
        "X_test = []\n",
        "for i in range(60,497):\n",
        "    X_test.append(inputs[i-60:i,0])\n",
        "X_test = np.array(X_test)\n",
        "X_test = np.reshape(X_test,(X_test.shape[0],X_test.shape[1],1))\n",
        "predicted_stock_price = regressor.predict(X_test)\n",
        "predicted_stock_price = sc.inverse_transform(predicted_stock_price)"
      ],
      "execution_count": 0,
      "outputs": []
    },
    {
      "cell_type": "code",
      "metadata": {
        "id": "MXzgq-52TrAU",
        "colab_type": "code",
        "colab": {
          "base_uri": "https://localhost:8080/",
          "height": 34
        },
        "outputId": "613364a4-4ca4-454c-eef0-f39afde4088b"
      },
      "source": [
        "predicted_stock_price.shape,X_test.shape"
      ],
      "execution_count": 159,
      "outputs": [
        {
          "output_type": "execute_result",
          "data": {
            "text/plain": [
              "((437, 1), (437, 60, 1))"
            ]
          },
          "metadata": {
            "tags": []
          },
          "execution_count": 159
        }
      ]
    },
    {
      "cell_type": "code",
      "metadata": {
        "id": "H4Wxayb9fts_",
        "colab_type": "code",
        "colab": {
          "base_uri": "https://localhost:8080/",
          "height": 34
        },
        "outputId": "71b6b373-3927-4a75-e607-42dcb4f66c02"
      },
      "source": [
        "len([X_test[i][1] for i in range(len(X_test))])\n",
        "  "
      ],
      "execution_count": 164,
      "outputs": [
        {
          "output_type": "execute_result",
          "data": {
            "text/plain": [
              "437"
            ]
          },
          "metadata": {
            "tags": []
          },
          "execution_count": 164
        }
      ]
    },
    {
      "cell_type": "code",
      "metadata": {
        "id": "V-5Cg4IvKoQc",
        "colab_type": "code",
        "colab": {
          "base_uri": "https://localhost:8080/",
          "height": 434
        },
        "outputId": "b86f5415-e3b8-456f-b0ff-72b86916a836"
      },
      "source": [
        "pd.DataFrame(predicted_stock_price,index=test.index)"
      ],
      "execution_count": 152,
      "outputs": [
        {
          "output_type": "error",
          "ename": "ValueError",
          "evalue": "ignored",
          "traceback": [
            "\u001b[0;31m---------------------------------------------------------------------------\u001b[0m",
            "\u001b[0;31mValueError\u001b[0m                                Traceback (most recent call last)",
            "\u001b[0;32m/usr/local/lib/python3.6/dist-packages/pandas/core/internals/managers.py\u001b[0m in \u001b[0;36mcreate_block_manager_from_blocks\u001b[0;34m(blocks, axes)\u001b[0m\n\u001b[1;32m   1680\u001b[0m \u001b[0;34m\u001b[0m\u001b[0m\n\u001b[0;32m-> 1681\u001b[0;31m         \u001b[0mmgr\u001b[0m \u001b[0;34m=\u001b[0m \u001b[0mBlockManager\u001b[0m\u001b[0;34m(\u001b[0m\u001b[0mblocks\u001b[0m\u001b[0;34m,\u001b[0m \u001b[0maxes\u001b[0m\u001b[0;34m)\u001b[0m\u001b[0;34m\u001b[0m\u001b[0;34m\u001b[0m\u001b[0m\n\u001b[0m\u001b[1;32m   1682\u001b[0m         \u001b[0mmgr\u001b[0m\u001b[0;34m.\u001b[0m\u001b[0m_consolidate_inplace\u001b[0m\u001b[0;34m(\u001b[0m\u001b[0;34m)\u001b[0m\u001b[0;34m\u001b[0m\u001b[0;34m\u001b[0m\u001b[0m\n",
            "\u001b[0;32m/usr/local/lib/python3.6/dist-packages/pandas/core/internals/managers.py\u001b[0m in \u001b[0;36m__init__\u001b[0;34m(self, blocks, axes, do_integrity_check)\u001b[0m\n\u001b[1;32m    142\u001b[0m         \u001b[0;32mif\u001b[0m \u001b[0mdo_integrity_check\u001b[0m\u001b[0;34m:\u001b[0m\u001b[0;34m\u001b[0m\u001b[0;34m\u001b[0m\u001b[0m\n\u001b[0;32m--> 143\u001b[0;31m             \u001b[0mself\u001b[0m\u001b[0;34m.\u001b[0m\u001b[0m_verify_integrity\u001b[0m\u001b[0;34m(\u001b[0m\u001b[0;34m)\u001b[0m\u001b[0;34m\u001b[0m\u001b[0;34m\u001b[0m\u001b[0m\n\u001b[0m\u001b[1;32m    144\u001b[0m \u001b[0;34m\u001b[0m\u001b[0m\n",
            "\u001b[0;32m/usr/local/lib/python3.6/dist-packages/pandas/core/internals/managers.py\u001b[0m in \u001b[0;36m_verify_integrity\u001b[0;34m(self)\u001b[0m\n\u001b[1;32m    344\u001b[0m             \u001b[0;32mif\u001b[0m \u001b[0mblock\u001b[0m\u001b[0;34m.\u001b[0m\u001b[0m_verify_integrity\u001b[0m \u001b[0;32mand\u001b[0m \u001b[0mblock\u001b[0m\u001b[0;34m.\u001b[0m\u001b[0mshape\u001b[0m\u001b[0;34m[\u001b[0m\u001b[0;36m1\u001b[0m\u001b[0;34m:\u001b[0m\u001b[0;34m]\u001b[0m \u001b[0;34m!=\u001b[0m \u001b[0mmgr_shape\u001b[0m\u001b[0;34m[\u001b[0m\u001b[0;36m1\u001b[0m\u001b[0;34m:\u001b[0m\u001b[0;34m]\u001b[0m\u001b[0;34m:\u001b[0m\u001b[0;34m\u001b[0m\u001b[0;34m\u001b[0m\u001b[0m\n\u001b[0;32m--> 345\u001b[0;31m                 \u001b[0mconstruction_error\u001b[0m\u001b[0;34m(\u001b[0m\u001b[0mtot_items\u001b[0m\u001b[0;34m,\u001b[0m \u001b[0mblock\u001b[0m\u001b[0;34m.\u001b[0m\u001b[0mshape\u001b[0m\u001b[0;34m[\u001b[0m\u001b[0;36m1\u001b[0m\u001b[0;34m:\u001b[0m\u001b[0;34m]\u001b[0m\u001b[0;34m,\u001b[0m \u001b[0mself\u001b[0m\u001b[0;34m.\u001b[0m\u001b[0maxes\u001b[0m\u001b[0;34m)\u001b[0m\u001b[0;34m\u001b[0m\u001b[0;34m\u001b[0m\u001b[0m\n\u001b[0m\u001b[1;32m    346\u001b[0m         \u001b[0;32mif\u001b[0m \u001b[0mlen\u001b[0m\u001b[0;34m(\u001b[0m\u001b[0mself\u001b[0m\u001b[0;34m.\u001b[0m\u001b[0mitems\u001b[0m\u001b[0;34m)\u001b[0m \u001b[0;34m!=\u001b[0m \u001b[0mtot_items\u001b[0m\u001b[0;34m:\u001b[0m\u001b[0;34m\u001b[0m\u001b[0;34m\u001b[0m\u001b[0m\n",
            "\u001b[0;32m/usr/local/lib/python3.6/dist-packages/pandas/core/internals/managers.py\u001b[0m in \u001b[0;36mconstruction_error\u001b[0;34m(tot_items, block_shape, axes, e)\u001b[0m\n\u001b[1;32m   1718\u001b[0m     raise ValueError(\n\u001b[0;32m-> 1719\u001b[0;31m         \u001b[0;34m\"Shape of passed values is {0}, indices imply {1}\"\u001b[0m\u001b[0;34m.\u001b[0m\u001b[0mformat\u001b[0m\u001b[0;34m(\u001b[0m\u001b[0mpassed\u001b[0m\u001b[0;34m,\u001b[0m \u001b[0mimplied\u001b[0m\u001b[0;34m)\u001b[0m\u001b[0;34m\u001b[0m\u001b[0;34m\u001b[0m\u001b[0m\n\u001b[0m\u001b[1;32m   1720\u001b[0m     )\n",
            "\u001b[0;31mValueError\u001b[0m: Shape of passed values is (437, 1), indices imply (497, 1)",
            "\nDuring handling of the above exception, another exception occurred:\n",
            "\u001b[0;31mValueError\u001b[0m                                Traceback (most recent call last)",
            "\u001b[0;32m<ipython-input-152-403c2887eb3e>\u001b[0m in \u001b[0;36m<module>\u001b[0;34m()\u001b[0m\n\u001b[0;32m----> 1\u001b[0;31m \u001b[0mpd\u001b[0m\u001b[0;34m.\u001b[0m\u001b[0mDataFrame\u001b[0m\u001b[0;34m(\u001b[0m\u001b[0mpredicted_stock_price\u001b[0m\u001b[0;34m,\u001b[0m\u001b[0mindex\u001b[0m\u001b[0;34m=\u001b[0m\u001b[0mtest\u001b[0m\u001b[0;34m.\u001b[0m\u001b[0mindex\u001b[0m\u001b[0;34m)\u001b[0m\u001b[0;34m\u001b[0m\u001b[0;34m\u001b[0m\u001b[0m\n\u001b[0m",
            "\u001b[0;32m/usr/local/lib/python3.6/dist-packages/pandas/core/frame.py\u001b[0m in \u001b[0;36m__init__\u001b[0;34m(self, data, index, columns, dtype, copy)\u001b[0m\n\u001b[1;32m    438\u001b[0m                 \u001b[0mmgr\u001b[0m \u001b[0;34m=\u001b[0m \u001b[0minit_dict\u001b[0m\u001b[0;34m(\u001b[0m\u001b[0;34m{\u001b[0m\u001b[0mdata\u001b[0m\u001b[0;34m.\u001b[0m\u001b[0mname\u001b[0m\u001b[0;34m:\u001b[0m \u001b[0mdata\u001b[0m\u001b[0;34m}\u001b[0m\u001b[0;34m,\u001b[0m \u001b[0mindex\u001b[0m\u001b[0;34m,\u001b[0m \u001b[0mcolumns\u001b[0m\u001b[0;34m,\u001b[0m \u001b[0mdtype\u001b[0m\u001b[0;34m=\u001b[0m\u001b[0mdtype\u001b[0m\u001b[0;34m)\u001b[0m\u001b[0;34m\u001b[0m\u001b[0;34m\u001b[0m\u001b[0m\n\u001b[1;32m    439\u001b[0m             \u001b[0;32melse\u001b[0m\u001b[0;34m:\u001b[0m\u001b[0;34m\u001b[0m\u001b[0;34m\u001b[0m\u001b[0m\n\u001b[0;32m--> 440\u001b[0;31m                 \u001b[0mmgr\u001b[0m \u001b[0;34m=\u001b[0m \u001b[0minit_ndarray\u001b[0m\u001b[0;34m(\u001b[0m\u001b[0mdata\u001b[0m\u001b[0;34m,\u001b[0m \u001b[0mindex\u001b[0m\u001b[0;34m,\u001b[0m \u001b[0mcolumns\u001b[0m\u001b[0;34m,\u001b[0m \u001b[0mdtype\u001b[0m\u001b[0;34m=\u001b[0m\u001b[0mdtype\u001b[0m\u001b[0;34m,\u001b[0m \u001b[0mcopy\u001b[0m\u001b[0;34m=\u001b[0m\u001b[0mcopy\u001b[0m\u001b[0;34m)\u001b[0m\u001b[0;34m\u001b[0m\u001b[0;34m\u001b[0m\u001b[0m\n\u001b[0m\u001b[1;32m    441\u001b[0m \u001b[0;34m\u001b[0m\u001b[0m\n\u001b[1;32m    442\u001b[0m         \u001b[0;31m# For data is list-like, or Iterable (will consume into list)\u001b[0m\u001b[0;34m\u001b[0m\u001b[0;34m\u001b[0m\u001b[0;34m\u001b[0m\u001b[0m\n",
            "\u001b[0;32m/usr/local/lib/python3.6/dist-packages/pandas/core/internals/construction.py\u001b[0m in \u001b[0;36minit_ndarray\u001b[0;34m(values, index, columns, dtype, copy)\u001b[0m\n\u001b[1;32m    211\u001b[0m         \u001b[0mblock_values\u001b[0m \u001b[0;34m=\u001b[0m \u001b[0;34m[\u001b[0m\u001b[0mvalues\u001b[0m\u001b[0;34m]\u001b[0m\u001b[0;34m\u001b[0m\u001b[0;34m\u001b[0m\u001b[0m\n\u001b[1;32m    212\u001b[0m \u001b[0;34m\u001b[0m\u001b[0m\n\u001b[0;32m--> 213\u001b[0;31m     \u001b[0;32mreturn\u001b[0m \u001b[0mcreate_block_manager_from_blocks\u001b[0m\u001b[0;34m(\u001b[0m\u001b[0mblock_values\u001b[0m\u001b[0;34m,\u001b[0m \u001b[0;34m[\u001b[0m\u001b[0mcolumns\u001b[0m\u001b[0;34m,\u001b[0m \u001b[0mindex\u001b[0m\u001b[0;34m]\u001b[0m\u001b[0;34m)\u001b[0m\u001b[0;34m\u001b[0m\u001b[0;34m\u001b[0m\u001b[0m\n\u001b[0m\u001b[1;32m    214\u001b[0m \u001b[0;34m\u001b[0m\u001b[0m\n\u001b[1;32m    215\u001b[0m \u001b[0;34m\u001b[0m\u001b[0m\n",
            "\u001b[0;32m/usr/local/lib/python3.6/dist-packages/pandas/core/internals/managers.py\u001b[0m in \u001b[0;36mcreate_block_manager_from_blocks\u001b[0;34m(blocks, axes)\u001b[0m\n\u001b[1;32m   1686\u001b[0m         \u001b[0mblocks\u001b[0m \u001b[0;34m=\u001b[0m \u001b[0;34m[\u001b[0m\u001b[0mgetattr\u001b[0m\u001b[0;34m(\u001b[0m\u001b[0mb\u001b[0m\u001b[0;34m,\u001b[0m \u001b[0;34m\"values\"\u001b[0m\u001b[0;34m,\u001b[0m \u001b[0mb\u001b[0m\u001b[0;34m)\u001b[0m \u001b[0;32mfor\u001b[0m \u001b[0mb\u001b[0m \u001b[0;32min\u001b[0m \u001b[0mblocks\u001b[0m\u001b[0;34m]\u001b[0m\u001b[0;34m\u001b[0m\u001b[0;34m\u001b[0m\u001b[0m\n\u001b[1;32m   1687\u001b[0m         \u001b[0mtot_items\u001b[0m \u001b[0;34m=\u001b[0m \u001b[0msum\u001b[0m\u001b[0;34m(\u001b[0m\u001b[0mb\u001b[0m\u001b[0;34m.\u001b[0m\u001b[0mshape\u001b[0m\u001b[0;34m[\u001b[0m\u001b[0;36m0\u001b[0m\u001b[0;34m]\u001b[0m \u001b[0;32mfor\u001b[0m \u001b[0mb\u001b[0m \u001b[0;32min\u001b[0m \u001b[0mblocks\u001b[0m\u001b[0;34m)\u001b[0m\u001b[0;34m\u001b[0m\u001b[0;34m\u001b[0m\u001b[0m\n\u001b[0;32m-> 1688\u001b[0;31m         \u001b[0mconstruction_error\u001b[0m\u001b[0;34m(\u001b[0m\u001b[0mtot_items\u001b[0m\u001b[0;34m,\u001b[0m \u001b[0mblocks\u001b[0m\u001b[0;34m[\u001b[0m\u001b[0;36m0\u001b[0m\u001b[0;34m]\u001b[0m\u001b[0;34m.\u001b[0m\u001b[0mshape\u001b[0m\u001b[0;34m[\u001b[0m\u001b[0;36m1\u001b[0m\u001b[0;34m:\u001b[0m\u001b[0;34m]\u001b[0m\u001b[0;34m,\u001b[0m \u001b[0maxes\u001b[0m\u001b[0;34m,\u001b[0m \u001b[0me\u001b[0m\u001b[0;34m)\u001b[0m\u001b[0;34m\u001b[0m\u001b[0;34m\u001b[0m\u001b[0m\n\u001b[0m\u001b[1;32m   1689\u001b[0m \u001b[0;34m\u001b[0m\u001b[0m\n\u001b[1;32m   1690\u001b[0m \u001b[0;34m\u001b[0m\u001b[0m\n",
            "\u001b[0;32m/usr/local/lib/python3.6/dist-packages/pandas/core/internals/managers.py\u001b[0m in \u001b[0;36mconstruction_error\u001b[0;34m(tot_items, block_shape, axes, e)\u001b[0m\n\u001b[1;32m   1717\u001b[0m         \u001b[0;32mraise\u001b[0m \u001b[0mValueError\u001b[0m\u001b[0;34m(\u001b[0m\u001b[0;34m\"Empty data passed with indices specified.\"\u001b[0m\u001b[0;34m)\u001b[0m\u001b[0;34m\u001b[0m\u001b[0;34m\u001b[0m\u001b[0m\n\u001b[1;32m   1718\u001b[0m     raise ValueError(\n\u001b[0;32m-> 1719\u001b[0;31m         \u001b[0;34m\"Shape of passed values is {0}, indices imply {1}\"\u001b[0m\u001b[0;34m.\u001b[0m\u001b[0mformat\u001b[0m\u001b[0;34m(\u001b[0m\u001b[0mpassed\u001b[0m\u001b[0;34m,\u001b[0m \u001b[0mimplied\u001b[0m\u001b[0;34m)\u001b[0m\u001b[0;34m\u001b[0m\u001b[0;34m\u001b[0m\u001b[0m\n\u001b[0m\u001b[1;32m   1720\u001b[0m     )\n\u001b[1;32m   1721\u001b[0m \u001b[0;34m\u001b[0m\u001b[0m\n",
            "\u001b[0;31mValueError\u001b[0m: Shape of passed values is (437, 1), indices imply (497, 1)"
          ]
        }
      ]
    },
    {
      "cell_type": "code",
      "metadata": {
        "id": "6a_3TOnSPcYY",
        "colab_type": "code",
        "colab": {
          "base_uri": "https://localhost:8080/",
          "height": 289
        },
        "outputId": "0d285986-cbd3-430d-f8ae-bcbf2ad33f7c"
      },
      "source": [
        "pd.concat((pd.DataFrame(test),pd.DataFrame(predicted_stock_price)),axis=1)"
      ],
      "execution_count": 150,
      "outputs": [
        {
          "output_type": "error",
          "ename": "ValueError",
          "evalue": "ignored",
          "traceback": [
            "\u001b[0;31m---------------------------------------------------------------------------\u001b[0m",
            "\u001b[0;31mValueError\u001b[0m                                Traceback (most recent call last)",
            "\u001b[0;32m<ipython-input-150-86d4beba468a>\u001b[0m in \u001b[0;36m<module>\u001b[0;34m()\u001b[0m\n\u001b[0;32m----> 1\u001b[0;31m \u001b[0mpd\u001b[0m\u001b[0;34m.\u001b[0m\u001b[0mconcat\u001b[0m\u001b[0;34m(\u001b[0m\u001b[0;34m(\u001b[0m\u001b[0mpd\u001b[0m\u001b[0;34m.\u001b[0m\u001b[0mDataFrame\u001b[0m\u001b[0;34m(\u001b[0m\u001b[0mtest\u001b[0m\u001b[0;34m)\u001b[0m\u001b[0;34m,\u001b[0m\u001b[0mpd\u001b[0m\u001b[0;34m.\u001b[0m\u001b[0mDataFrame\u001b[0m\u001b[0;34m(\u001b[0m\u001b[0mpredicted_stock_price\u001b[0m\u001b[0;34m)\u001b[0m\u001b[0;34m.\u001b[0m\u001b[0mset_index\u001b[0m\u001b[0;34m(\u001b[0m\u001b[0mtest\u001b[0m\u001b[0;34m.\u001b[0m\u001b[0mindex\u001b[0m\u001b[0;34m)\u001b[0m\u001b[0;34m)\u001b[0m\u001b[0;34m,\u001b[0m\u001b[0maxis\u001b[0m\u001b[0;34m=\u001b[0m\u001b[0;36m1\u001b[0m\u001b[0;34m)\u001b[0m\u001b[0;34m\u001b[0m\u001b[0;34m\u001b[0m\u001b[0m\n\u001b[0m",
            "\u001b[0;32m/usr/local/lib/python3.6/dist-packages/pandas/core/frame.py\u001b[0m in \u001b[0;36mset_index\u001b[0;34m(self, keys, drop, append, inplace, verify_integrity)\u001b[0m\n\u001b[1;32m   4455\u001b[0m                     \u001b[0;34m\"Length mismatch: Expected {len_self} rows, \"\u001b[0m\u001b[0;34m\u001b[0m\u001b[0;34m\u001b[0m\u001b[0m\n\u001b[1;32m   4456\u001b[0m                     \"received array of length {len_col}\".format(\n\u001b[0;32m-> 4457\u001b[0;31m                         \u001b[0mlen_self\u001b[0m\u001b[0;34m=\u001b[0m\u001b[0mlen\u001b[0m\u001b[0;34m(\u001b[0m\u001b[0mself\u001b[0m\u001b[0;34m)\u001b[0m\u001b[0;34m,\u001b[0m \u001b[0mlen_col\u001b[0m\u001b[0;34m=\u001b[0m\u001b[0mlen\u001b[0m\u001b[0;34m(\u001b[0m\u001b[0marrays\u001b[0m\u001b[0;34m[\u001b[0m\u001b[0;34m-\u001b[0m\u001b[0;36m1\u001b[0m\u001b[0;34m]\u001b[0m\u001b[0;34m)\u001b[0m\u001b[0;34m\u001b[0m\u001b[0;34m\u001b[0m\u001b[0m\n\u001b[0m\u001b[1;32m   4458\u001b[0m                     )\n\u001b[1;32m   4459\u001b[0m                 )\n",
            "\u001b[0;31mValueError\u001b[0m: Length mismatch: Expected 437 rows, received array of length 497"
          ]
        }
      ]
    },
    {
      "cell_type": "code",
      "metadata": {
        "id": "cdTp81rQ3WYo",
        "colab_type": "code",
        "outputId": "0b982396-c5b9-46a5-acda-c84f7a72930f",
        "colab": {
          "base_uri": "https://localhost:8080/",
          "height": 1000
        }
      },
      "source": [
        "\n",
        "\n",
        "# Visualising the results\n",
        "plt.plot(test, color = 'red', label = 'Real TATA Stock Price')\n",
        "plt.plot(predicted_stock_price, color = 'blue', label = 'Predicted TATA Stock Price')\n",
        "plt.title('TATA Stock Price Prediction')\n",
        "plt.xlabel('Time')\n",
        "plt.ylabel('TATA Stock Price')\n",
        "plt.legend()\n",
        "plt.show()"
      ],
      "execution_count": 137,
      "outputs": [
        {
          "output_type": "error",
          "ename": "ConversionError",
          "evalue": "ignored",
          "traceback": [
            "\u001b[0;31m---------------------------------------------------------------------------\u001b[0m",
            "\u001b[0;31mTypeError\u001b[0m                                 Traceback (most recent call last)",
            "\u001b[0;32m/usr/local/lib/python3.6/dist-packages/pandas/core/arrays/datetimes.py\u001b[0m in \u001b[0;36mobjects_to_datetime64ns\u001b[0;34m(data, dayfirst, yearfirst, utc, errors, require_iso8601, allow_object)\u001b[0m\n\u001b[1;32m   1978\u001b[0m         \u001b[0;32mtry\u001b[0m\u001b[0;34m:\u001b[0m\u001b[0;34m\u001b[0m\u001b[0;34m\u001b[0m\u001b[0m\n\u001b[0;32m-> 1979\u001b[0;31m             \u001b[0mvalues\u001b[0m\u001b[0;34m,\u001b[0m \u001b[0mtz_parsed\u001b[0m \u001b[0;34m=\u001b[0m \u001b[0mconversion\u001b[0m\u001b[0;34m.\u001b[0m\u001b[0mdatetime_to_datetime64\u001b[0m\u001b[0;34m(\u001b[0m\u001b[0mdata\u001b[0m\u001b[0;34m)\u001b[0m\u001b[0;34m\u001b[0m\u001b[0;34m\u001b[0m\u001b[0m\n\u001b[0m\u001b[1;32m   1980\u001b[0m             \u001b[0;31m# If tzaware, these values represent unix timestamps, so we\u001b[0m\u001b[0;34m\u001b[0m\u001b[0;34m\u001b[0m\u001b[0;34m\u001b[0m\u001b[0m\n",
            "\u001b[0;32mpandas/_libs/tslibs/conversion.pyx\u001b[0m in \u001b[0;36mpandas._libs.tslibs.conversion.datetime_to_datetime64\u001b[0;34m()\u001b[0m\n",
            "\u001b[0;31mTypeError\u001b[0m: Unrecognized value type: <class 'str'>",
            "\nDuring handling of the above exception, another exception occurred:\n",
            "\u001b[0;31mValueError\u001b[0m                                Traceback (most recent call last)",
            "\u001b[0;32m/usr/local/lib/python3.6/dist-packages/pandas/plotting/_matplotlib/converter.py\u001b[0m in \u001b[0;36m_convert_1d\u001b[0;34m(values, unit, axis)\u001b[0m\n\u001b[1;32m    294\u001b[0m             \u001b[0;32mtry\u001b[0m\u001b[0;34m:\u001b[0m\u001b[0;34m\u001b[0m\u001b[0;34m\u001b[0m\u001b[0m\n\u001b[0;32m--> 295\u001b[0;31m                 \u001b[0mvalues\u001b[0m \u001b[0;34m=\u001b[0m \u001b[0mtools\u001b[0m\u001b[0;34m.\u001b[0m\u001b[0mto_datetime\u001b[0m\u001b[0;34m(\u001b[0m\u001b[0mvalues\u001b[0m\u001b[0;34m)\u001b[0m\u001b[0;34m\u001b[0m\u001b[0;34m\u001b[0m\u001b[0m\n\u001b[0m\u001b[1;32m    296\u001b[0m                 \u001b[0;32mif\u001b[0m \u001b[0misinstance\u001b[0m\u001b[0;34m(\u001b[0m\u001b[0mvalues\u001b[0m\u001b[0;34m,\u001b[0m \u001b[0mIndex\u001b[0m\u001b[0;34m)\u001b[0m\u001b[0;34m:\u001b[0m\u001b[0;34m\u001b[0m\u001b[0;34m\u001b[0m\u001b[0m\n",
            "\u001b[0;32m/usr/local/lib/python3.6/dist-packages/pandas/util/_decorators.py\u001b[0m in \u001b[0;36mwrapper\u001b[0;34m(*args, **kwargs)\u001b[0m\n\u001b[1;32m    207\u001b[0m                     \u001b[0mkwargs\u001b[0m\u001b[0;34m[\u001b[0m\u001b[0mnew_arg_name\u001b[0m\u001b[0;34m]\u001b[0m \u001b[0;34m=\u001b[0m \u001b[0mnew_arg_value\u001b[0m\u001b[0;34m\u001b[0m\u001b[0;34m\u001b[0m\u001b[0m\n\u001b[0;32m--> 208\u001b[0;31m             \u001b[0;32mreturn\u001b[0m \u001b[0mfunc\u001b[0m\u001b[0;34m(\u001b[0m\u001b[0;34m*\u001b[0m\u001b[0margs\u001b[0m\u001b[0;34m,\u001b[0m \u001b[0;34m**\u001b[0m\u001b[0mkwargs\u001b[0m\u001b[0;34m)\u001b[0m\u001b[0;34m\u001b[0m\u001b[0;34m\u001b[0m\u001b[0m\n\u001b[0m\u001b[1;32m    209\u001b[0m \u001b[0;34m\u001b[0m\u001b[0m\n",
            "\u001b[0;32m/usr/local/lib/python3.6/dist-packages/pandas/core/tools/datetimes.py\u001b[0m in \u001b[0;36mto_datetime\u001b[0;34m(arg, errors, dayfirst, yearfirst, utc, box, format, exact, unit, infer_datetime_format, origin, cache)\u001b[0m\n\u001b[1;32m    793\u001b[0m         \u001b[0;32melse\u001b[0m\u001b[0;34m:\u001b[0m\u001b[0;34m\u001b[0m\u001b[0;34m\u001b[0m\u001b[0m\n\u001b[0;32m--> 794\u001b[0;31m             \u001b[0mresult\u001b[0m \u001b[0;34m=\u001b[0m \u001b[0mconvert_listlike\u001b[0m\u001b[0;34m(\u001b[0m\u001b[0marg\u001b[0m\u001b[0;34m,\u001b[0m \u001b[0mbox\u001b[0m\u001b[0;34m,\u001b[0m \u001b[0mformat\u001b[0m\u001b[0;34m)\u001b[0m\u001b[0;34m\u001b[0m\u001b[0;34m\u001b[0m\u001b[0m\n\u001b[0m\u001b[1;32m    795\u001b[0m     \u001b[0;32melse\u001b[0m\u001b[0;34m:\u001b[0m\u001b[0;34m\u001b[0m\u001b[0;34m\u001b[0m\u001b[0m\n",
            "\u001b[0;32m/usr/local/lib/python3.6/dist-packages/pandas/core/tools/datetimes.py\u001b[0m in \u001b[0;36m_convert_listlike_datetimes\u001b[0;34m(arg, box, format, name, tz, unit, errors, infer_datetime_format, dayfirst, yearfirst, exact)\u001b[0m\n\u001b[1;32m    462\u001b[0m             \u001b[0mrequire_iso8601\u001b[0m\u001b[0;34m=\u001b[0m\u001b[0mrequire_iso8601\u001b[0m\u001b[0;34m,\u001b[0m\u001b[0;34m\u001b[0m\u001b[0;34m\u001b[0m\u001b[0m\n\u001b[0;32m--> 463\u001b[0;31m             \u001b[0mallow_object\u001b[0m\u001b[0;34m=\u001b[0m\u001b[0;32mTrue\u001b[0m\u001b[0;34m,\u001b[0m\u001b[0;34m\u001b[0m\u001b[0;34m\u001b[0m\u001b[0m\n\u001b[0m\u001b[1;32m    464\u001b[0m         )\n",
            "\u001b[0;32m/usr/local/lib/python3.6/dist-packages/pandas/core/arrays/datetimes.py\u001b[0m in \u001b[0;36mobjects_to_datetime64ns\u001b[0;34m(data, dayfirst, yearfirst, utc, errors, require_iso8601, allow_object)\u001b[0m\n\u001b[1;32m   1983\u001b[0m         \u001b[0;32mexcept\u001b[0m \u001b[0;34m(\u001b[0m\u001b[0mValueError\u001b[0m\u001b[0;34m,\u001b[0m \u001b[0mTypeError\u001b[0m\u001b[0;34m)\u001b[0m\u001b[0;34m:\u001b[0m\u001b[0;34m\u001b[0m\u001b[0;34m\u001b[0m\u001b[0m\n\u001b[0;32m-> 1984\u001b[0;31m             \u001b[0;32mraise\u001b[0m \u001b[0me\u001b[0m\u001b[0;34m\u001b[0m\u001b[0;34m\u001b[0m\u001b[0m\n\u001b[0m\u001b[1;32m   1985\u001b[0m \u001b[0;34m\u001b[0m\u001b[0m\n",
            "\u001b[0;32m/usr/local/lib/python3.6/dist-packages/pandas/core/arrays/datetimes.py\u001b[0m in \u001b[0;36mobjects_to_datetime64ns\u001b[0;34m(data, dayfirst, yearfirst, utc, errors, require_iso8601, allow_object)\u001b[0m\n\u001b[1;32m   1974\u001b[0m             \u001b[0myearfirst\u001b[0m\u001b[0;34m=\u001b[0m\u001b[0myearfirst\u001b[0m\u001b[0;34m,\u001b[0m\u001b[0;34m\u001b[0m\u001b[0;34m\u001b[0m\u001b[0m\n\u001b[0;32m-> 1975\u001b[0;31m             \u001b[0mrequire_iso8601\u001b[0m\u001b[0;34m=\u001b[0m\u001b[0mrequire_iso8601\u001b[0m\u001b[0;34m,\u001b[0m\u001b[0;34m\u001b[0m\u001b[0;34m\u001b[0m\u001b[0m\n\u001b[0m\u001b[1;32m   1976\u001b[0m         )\n",
            "\u001b[0;32mpandas/_libs/tslib.pyx\u001b[0m in \u001b[0;36mpandas._libs.tslib.array_to_datetime\u001b[0;34m()\u001b[0m\n",
            "\u001b[0;32mpandas/_libs/tslib.pyx\u001b[0m in \u001b[0;36mpandas._libs.tslib.array_to_datetime\u001b[0;34m()\u001b[0m\n",
            "\u001b[0;32mpandas/_libs/tslib.pyx\u001b[0m in \u001b[0;36mpandas._libs.tslib.array_to_datetime_object\u001b[0;34m()\u001b[0m\n",
            "\u001b[0;32mpandas/_libs/tslib.pyx\u001b[0m in \u001b[0;36mpandas._libs.tslib.array_to_datetime_object\u001b[0;34m()\u001b[0m\n",
            "\u001b[0;32mpandas/_libs/tslibs/parsing.pyx\u001b[0m in \u001b[0;36mpandas._libs.tslibs.parsing.parse_datetime_string\u001b[0;34m()\u001b[0m\n",
            "\u001b[0;32m/usr/local/lib/python3.6/dist-packages/dateutil/parser.py\u001b[0m in \u001b[0;36mparse\u001b[0;34m(timestr, parserinfo, **kwargs)\u001b[0m\n\u001b[1;32m   1181\u001b[0m     \u001b[0;32melse\u001b[0m\u001b[0;34m:\u001b[0m\u001b[0;34m\u001b[0m\u001b[0;34m\u001b[0m\u001b[0m\n\u001b[0;32m-> 1182\u001b[0;31m         \u001b[0;32mreturn\u001b[0m \u001b[0mDEFAULTPARSER\u001b[0m\u001b[0;34m.\u001b[0m\u001b[0mparse\u001b[0m\u001b[0;34m(\u001b[0m\u001b[0mtimestr\u001b[0m\u001b[0;34m,\u001b[0m \u001b[0;34m**\u001b[0m\u001b[0mkwargs\u001b[0m\u001b[0;34m)\u001b[0m\u001b[0;34m\u001b[0m\u001b[0;34m\u001b[0m\u001b[0m\n\u001b[0m\u001b[1;32m   1183\u001b[0m \u001b[0;34m\u001b[0m\u001b[0m\n",
            "\u001b[0;32m/usr/local/lib/python3.6/dist-packages/dateutil/parser.py\u001b[0m in \u001b[0;36mparse\u001b[0;34m(self, timestr, default, ignoretz, tzinfos, **kwargs)\u001b[0m\n\u001b[1;32m    558\u001b[0m         \u001b[0;32mif\u001b[0m \u001b[0mres\u001b[0m \u001b[0;32mis\u001b[0m \u001b[0;32mNone\u001b[0m\u001b[0;34m:\u001b[0m\u001b[0;34m\u001b[0m\u001b[0;34m\u001b[0m\u001b[0m\n\u001b[0;32m--> 559\u001b[0;31m             \u001b[0;32mraise\u001b[0m \u001b[0mValueError\u001b[0m\u001b[0;34m(\u001b[0m\u001b[0;34m\"Unknown string format\"\u001b[0m\u001b[0;34m)\u001b[0m\u001b[0;34m\u001b[0m\u001b[0;34m\u001b[0m\u001b[0m\n\u001b[0m\u001b[1;32m    560\u001b[0m \u001b[0;34m\u001b[0m\u001b[0m\n",
            "\u001b[0;31mValueError\u001b[0m: Unknown string format",
            "\nDuring handling of the above exception, another exception occurred:\n",
            "\u001b[0;31mAttributeError\u001b[0m                            Traceback (most recent call last)",
            "\u001b[0;32m/usr/local/lib/python3.6/dist-packages/matplotlib/axis.py\u001b[0m in \u001b[0;36mconvert_units\u001b[0;34m(self, x)\u001b[0m\n\u001b[1;32m   1549\u001b[0m         \u001b[0;32mtry\u001b[0m\u001b[0;34m:\u001b[0m\u001b[0;34m\u001b[0m\u001b[0;34m\u001b[0m\u001b[0m\n\u001b[0;32m-> 1550\u001b[0;31m             \u001b[0mret\u001b[0m \u001b[0;34m=\u001b[0m \u001b[0mself\u001b[0m\u001b[0;34m.\u001b[0m\u001b[0mconverter\u001b[0m\u001b[0;34m.\u001b[0m\u001b[0mconvert\u001b[0m\u001b[0;34m(\u001b[0m\u001b[0mx\u001b[0m\u001b[0;34m,\u001b[0m \u001b[0mself\u001b[0m\u001b[0;34m.\u001b[0m\u001b[0munits\u001b[0m\u001b[0;34m,\u001b[0m \u001b[0mself\u001b[0m\u001b[0;34m)\u001b[0m\u001b[0;34m\u001b[0m\u001b[0;34m\u001b[0m\u001b[0m\n\u001b[0m\u001b[1;32m   1551\u001b[0m         \u001b[0;32mexcept\u001b[0m \u001b[0mException\u001b[0m \u001b[0;32mas\u001b[0m \u001b[0me\u001b[0m\u001b[0;34m:\u001b[0m\u001b[0;34m\u001b[0m\u001b[0;34m\u001b[0m\u001b[0m\n",
            "\u001b[0;32m/usr/local/lib/python3.6/dist-packages/pandas/plotting/_matplotlib/converter.py\u001b[0m in \u001b[0;36mconvert\u001b[0;34m(values, unit, axis)\u001b[0m\n\u001b[1;32m    259\u001b[0m         \u001b[0;32melse\u001b[0m\u001b[0;34m:\u001b[0m\u001b[0;34m\u001b[0m\u001b[0;34m\u001b[0m\u001b[0m\n\u001b[0;32m--> 260\u001b[0;31m             \u001b[0mvalues\u001b[0m \u001b[0;34m=\u001b[0m \u001b[0mDatetimeConverter\u001b[0m\u001b[0;34m.\u001b[0m\u001b[0m_convert_1d\u001b[0m\u001b[0;34m(\u001b[0m\u001b[0mvalues\u001b[0m\u001b[0;34m,\u001b[0m \u001b[0munit\u001b[0m\u001b[0;34m,\u001b[0m \u001b[0maxis\u001b[0m\u001b[0;34m)\u001b[0m\u001b[0;34m\u001b[0m\u001b[0;34m\u001b[0m\u001b[0m\n\u001b[0m\u001b[1;32m    261\u001b[0m         \u001b[0;32mreturn\u001b[0m \u001b[0mvalues\u001b[0m\u001b[0;34m\u001b[0m\u001b[0;34m\u001b[0m\u001b[0m\n",
            "\u001b[0;32m/usr/local/lib/python3.6/dist-packages/pandas/plotting/_matplotlib/converter.py\u001b[0m in \u001b[0;36m_convert_1d\u001b[0;34m(values, unit, axis)\u001b[0m\n\u001b[1;32m    300\u001b[0m             \u001b[0;32mexcept\u001b[0m \u001b[0mException\u001b[0m\u001b[0;34m:\u001b[0m\u001b[0;34m\u001b[0m\u001b[0;34m\u001b[0m\u001b[0m\n\u001b[0;32m--> 301\u001b[0;31m                 \u001b[0mvalues\u001b[0m \u001b[0;34m=\u001b[0m \u001b[0m_dt_to_float_ordinal\u001b[0m\u001b[0;34m(\u001b[0m\u001b[0mvalues\u001b[0m\u001b[0;34m)\u001b[0m\u001b[0;34m\u001b[0m\u001b[0;34m\u001b[0m\u001b[0m\n\u001b[0m\u001b[1;32m    302\u001b[0m \u001b[0;34m\u001b[0m\u001b[0m\n",
            "\u001b[0;32m/usr/local/lib/python3.6/dist-packages/pandas/plotting/_matplotlib/converter.py\u001b[0m in \u001b[0;36m_dt_to_float_ordinal\u001b[0;34m(dt)\u001b[0m\n\u001b[1;32m    246\u001b[0m     \u001b[0;32melse\u001b[0m\u001b[0;34m:\u001b[0m\u001b[0;34m\u001b[0m\u001b[0;34m\u001b[0m\u001b[0m\n\u001b[0;32m--> 247\u001b[0;31m         \u001b[0mbase\u001b[0m \u001b[0;34m=\u001b[0m \u001b[0mdates\u001b[0m\u001b[0;34m.\u001b[0m\u001b[0mdate2num\u001b[0m\u001b[0;34m(\u001b[0m\u001b[0mdt\u001b[0m\u001b[0;34m)\u001b[0m\u001b[0;34m\u001b[0m\u001b[0;34m\u001b[0m\u001b[0m\n\u001b[0m\u001b[1;32m    248\u001b[0m     \u001b[0;32mreturn\u001b[0m \u001b[0mbase\u001b[0m\u001b[0;34m\u001b[0m\u001b[0;34m\u001b[0m\u001b[0m\n",
            "\u001b[0;32m/usr/local/lib/python3.6/dist-packages/matplotlib/dates.py\u001b[0m in \u001b[0;36mdate2num\u001b[0;34m(d)\u001b[0m\n\u001b[1;32m    422\u001b[0m             \u001b[0;32mreturn\u001b[0m \u001b[0md\u001b[0m\u001b[0;34m\u001b[0m\u001b[0;34m\u001b[0m\u001b[0m\n\u001b[0;32m--> 423\u001b[0;31m         \u001b[0;32mreturn\u001b[0m \u001b[0m_to_ordinalf_np_vectorized\u001b[0m\u001b[0;34m(\u001b[0m\u001b[0md\u001b[0m\u001b[0;34m)\u001b[0m\u001b[0;34m\u001b[0m\u001b[0;34m\u001b[0m\u001b[0m\n\u001b[0m\u001b[1;32m    424\u001b[0m \u001b[0;34m\u001b[0m\u001b[0m\n",
            "\u001b[0;32m/usr/local/lib/python3.6/dist-packages/numpy/lib/function_base.py\u001b[0m in \u001b[0;36m__call__\u001b[0;34m(self, *args, **kwargs)\u001b[0m\n\u001b[1;32m   2090\u001b[0m \u001b[0;34m\u001b[0m\u001b[0m\n\u001b[0;32m-> 2091\u001b[0;31m         \u001b[0;32mreturn\u001b[0m \u001b[0mself\u001b[0m\u001b[0;34m.\u001b[0m\u001b[0m_vectorize_call\u001b[0m\u001b[0;34m(\u001b[0m\u001b[0mfunc\u001b[0m\u001b[0;34m=\u001b[0m\u001b[0mfunc\u001b[0m\u001b[0;34m,\u001b[0m \u001b[0margs\u001b[0m\u001b[0;34m=\u001b[0m\u001b[0mvargs\u001b[0m\u001b[0;34m)\u001b[0m\u001b[0;34m\u001b[0m\u001b[0;34m\u001b[0m\u001b[0m\n\u001b[0m\u001b[1;32m   2092\u001b[0m \u001b[0;34m\u001b[0m\u001b[0m\n",
            "\u001b[0;32m/usr/local/lib/python3.6/dist-packages/numpy/lib/function_base.py\u001b[0m in \u001b[0;36m_vectorize_call\u001b[0;34m(self, func, args)\u001b[0m\n\u001b[1;32m   2166\u001b[0m \u001b[0;34m\u001b[0m\u001b[0m\n\u001b[0;32m-> 2167\u001b[0;31m             \u001b[0moutputs\u001b[0m \u001b[0;34m=\u001b[0m \u001b[0mufunc\u001b[0m\u001b[0;34m(\u001b[0m\u001b[0;34m*\u001b[0m\u001b[0minputs\u001b[0m\u001b[0;34m)\u001b[0m\u001b[0;34m\u001b[0m\u001b[0;34m\u001b[0m\u001b[0m\n\u001b[0m\u001b[1;32m   2168\u001b[0m \u001b[0;34m\u001b[0m\u001b[0m\n",
            "\u001b[0;32m/usr/local/lib/python3.6/dist-packages/matplotlib/dates.py\u001b[0m in \u001b[0;36m_to_ordinalf\u001b[0;34m(dt)\u001b[0m\n\u001b[1;32m    222\u001b[0m \u001b[0;34m\u001b[0m\u001b[0m\n\u001b[0;32m--> 223\u001b[0;31m     \u001b[0mbase\u001b[0m \u001b[0;34m=\u001b[0m \u001b[0mfloat\u001b[0m\u001b[0;34m(\u001b[0m\u001b[0mdt\u001b[0m\u001b[0;34m.\u001b[0m\u001b[0mtoordinal\u001b[0m\u001b[0;34m(\u001b[0m\u001b[0;34m)\u001b[0m\u001b[0;34m)\u001b[0m\u001b[0;34m\u001b[0m\u001b[0;34m\u001b[0m\u001b[0m\n\u001b[0m\u001b[1;32m    224\u001b[0m \u001b[0;34m\u001b[0m\u001b[0m\n",
            "\u001b[0;31mAttributeError\u001b[0m: 'str' object has no attribute 'toordinal'",
            "\nThe above exception was the direct cause of the following exception:\n",
            "\u001b[0;31mConversionError\u001b[0m                           Traceback (most recent call last)",
            "\u001b[0;32m<ipython-input-137-308f2456fb0e>\u001b[0m in \u001b[0;36m<module>\u001b[0;34m()\u001b[0m\n\u001b[0;32m----> 1\u001b[0;31m \u001b[0mplt\u001b[0m\u001b[0;34m.\u001b[0m\u001b[0mplot\u001b[0m\u001b[0;34m(\u001b[0m\u001b[0mtest\u001b[0m\u001b[0;34m,\u001b[0m \u001b[0mcolor\u001b[0m \u001b[0;34m=\u001b[0m \u001b[0;34m'red'\u001b[0m\u001b[0;34m,\u001b[0m \u001b[0mlabel\u001b[0m \u001b[0;34m=\u001b[0m \u001b[0;34m'Real TATA Stock Price'\u001b[0m\u001b[0;34m)\u001b[0m\u001b[0;34m\u001b[0m\u001b[0;34m\u001b[0m\u001b[0m\n\u001b[0m\u001b[1;32m      2\u001b[0m \u001b[0mplt\u001b[0m\u001b[0;34m.\u001b[0m\u001b[0mplot\u001b[0m\u001b[0;34m(\u001b[0m\u001b[0mpredicted_stock_price\u001b[0m\u001b[0;34m,\u001b[0m \u001b[0mcolor\u001b[0m \u001b[0;34m=\u001b[0m \u001b[0;34m'blue'\u001b[0m\u001b[0;34m,\u001b[0m \u001b[0mlabel\u001b[0m \u001b[0;34m=\u001b[0m \u001b[0;34m'Predicted TATA Stock Price'\u001b[0m\u001b[0;34m)\u001b[0m\u001b[0;34m\u001b[0m\u001b[0;34m\u001b[0m\u001b[0m\n\u001b[1;32m      3\u001b[0m \u001b[0mplt\u001b[0m\u001b[0;34m.\u001b[0m\u001b[0mtitle\u001b[0m\u001b[0;34m(\u001b[0m\u001b[0;34m'TATA Stock Price Prediction'\u001b[0m\u001b[0;34m)\u001b[0m\u001b[0;34m\u001b[0m\u001b[0;34m\u001b[0m\u001b[0m\n\u001b[1;32m      4\u001b[0m \u001b[0mplt\u001b[0m\u001b[0;34m.\u001b[0m\u001b[0mxlabel\u001b[0m\u001b[0;34m(\u001b[0m\u001b[0;34m'Time'\u001b[0m\u001b[0;34m)\u001b[0m\u001b[0;34m\u001b[0m\u001b[0;34m\u001b[0m\u001b[0m\n\u001b[1;32m      5\u001b[0m \u001b[0mplt\u001b[0m\u001b[0;34m.\u001b[0m\u001b[0mylabel\u001b[0m\u001b[0;34m(\u001b[0m\u001b[0;34m'TATA Stock Price'\u001b[0m\u001b[0;34m)\u001b[0m\u001b[0;34m\u001b[0m\u001b[0;34m\u001b[0m\u001b[0m\n",
            "\u001b[0;32m/usr/local/lib/python3.6/dist-packages/matplotlib/pyplot.py\u001b[0m in \u001b[0;36mplot\u001b[0;34m(scalex, scaley, data, *args, **kwargs)\u001b[0m\n\u001b[1;32m   2787\u001b[0m     return gca().plot(\n\u001b[1;32m   2788\u001b[0m         *args, scalex=scalex, scaley=scaley, **({\"data\": data} if data\n\u001b[0;32m-> 2789\u001b[0;31m         is not None else {}), **kwargs)\n\u001b[0m\u001b[1;32m   2790\u001b[0m \u001b[0;34m\u001b[0m\u001b[0m\n\u001b[1;32m   2791\u001b[0m \u001b[0;34m\u001b[0m\u001b[0m\n",
            "\u001b[0;32m/usr/local/lib/python3.6/dist-packages/matplotlib/axes/_axes.py\u001b[0m in \u001b[0;36mplot\u001b[0;34m(self, scalex, scaley, data, *args, **kwargs)\u001b[0m\n\u001b[1;32m   1665\u001b[0m         \u001b[0mlines\u001b[0m \u001b[0;34m=\u001b[0m \u001b[0;34m[\u001b[0m\u001b[0;34m*\u001b[0m\u001b[0mself\u001b[0m\u001b[0;34m.\u001b[0m\u001b[0m_get_lines\u001b[0m\u001b[0;34m(\u001b[0m\u001b[0;34m*\u001b[0m\u001b[0margs\u001b[0m\u001b[0;34m,\u001b[0m \u001b[0mdata\u001b[0m\u001b[0;34m=\u001b[0m\u001b[0mdata\u001b[0m\u001b[0;34m,\u001b[0m \u001b[0;34m**\u001b[0m\u001b[0mkwargs\u001b[0m\u001b[0;34m)\u001b[0m\u001b[0;34m]\u001b[0m\u001b[0;34m\u001b[0m\u001b[0;34m\u001b[0m\u001b[0m\n\u001b[1;32m   1666\u001b[0m         \u001b[0;32mfor\u001b[0m \u001b[0mline\u001b[0m \u001b[0;32min\u001b[0m \u001b[0mlines\u001b[0m\u001b[0;34m:\u001b[0m\u001b[0;34m\u001b[0m\u001b[0;34m\u001b[0m\u001b[0m\n\u001b[0;32m-> 1667\u001b[0;31m             \u001b[0mself\u001b[0m\u001b[0;34m.\u001b[0m\u001b[0madd_line\u001b[0m\u001b[0;34m(\u001b[0m\u001b[0mline\u001b[0m\u001b[0;34m)\u001b[0m\u001b[0;34m\u001b[0m\u001b[0;34m\u001b[0m\u001b[0m\n\u001b[0m\u001b[1;32m   1668\u001b[0m         \u001b[0mself\u001b[0m\u001b[0;34m.\u001b[0m\u001b[0mautoscale_view\u001b[0m\u001b[0;34m(\u001b[0m\u001b[0mscalex\u001b[0m\u001b[0;34m=\u001b[0m\u001b[0mscalex\u001b[0m\u001b[0;34m,\u001b[0m \u001b[0mscaley\u001b[0m\u001b[0;34m=\u001b[0m\u001b[0mscaley\u001b[0m\u001b[0;34m)\u001b[0m\u001b[0;34m\u001b[0m\u001b[0;34m\u001b[0m\u001b[0m\n\u001b[1;32m   1669\u001b[0m         \u001b[0;32mreturn\u001b[0m \u001b[0mlines\u001b[0m\u001b[0;34m\u001b[0m\u001b[0;34m\u001b[0m\u001b[0m\n",
            "\u001b[0;32m/usr/local/lib/python3.6/dist-packages/matplotlib/axes/_base.py\u001b[0m in \u001b[0;36madd_line\u001b[0;34m(self, line)\u001b[0m\n\u001b[1;32m   1900\u001b[0m             \u001b[0mline\u001b[0m\u001b[0;34m.\u001b[0m\u001b[0mset_clip_path\u001b[0m\u001b[0;34m(\u001b[0m\u001b[0mself\u001b[0m\u001b[0;34m.\u001b[0m\u001b[0mpatch\u001b[0m\u001b[0;34m)\u001b[0m\u001b[0;34m\u001b[0m\u001b[0;34m\u001b[0m\u001b[0m\n\u001b[1;32m   1901\u001b[0m \u001b[0;34m\u001b[0m\u001b[0m\n\u001b[0;32m-> 1902\u001b[0;31m         \u001b[0mself\u001b[0m\u001b[0;34m.\u001b[0m\u001b[0m_update_line_limits\u001b[0m\u001b[0;34m(\u001b[0m\u001b[0mline\u001b[0m\u001b[0;34m)\u001b[0m\u001b[0;34m\u001b[0m\u001b[0;34m\u001b[0m\u001b[0m\n\u001b[0m\u001b[1;32m   1903\u001b[0m         \u001b[0;32mif\u001b[0m \u001b[0;32mnot\u001b[0m \u001b[0mline\u001b[0m\u001b[0;34m.\u001b[0m\u001b[0mget_label\u001b[0m\u001b[0;34m(\u001b[0m\u001b[0;34m)\u001b[0m\u001b[0;34m:\u001b[0m\u001b[0;34m\u001b[0m\u001b[0;34m\u001b[0m\u001b[0m\n\u001b[1;32m   1904\u001b[0m             \u001b[0mline\u001b[0m\u001b[0;34m.\u001b[0m\u001b[0mset_label\u001b[0m\u001b[0;34m(\u001b[0m\u001b[0;34m'_line%d'\u001b[0m \u001b[0;34m%\u001b[0m \u001b[0mlen\u001b[0m\u001b[0;34m(\u001b[0m\u001b[0mself\u001b[0m\u001b[0;34m.\u001b[0m\u001b[0mlines\u001b[0m\u001b[0;34m)\u001b[0m\u001b[0;34m)\u001b[0m\u001b[0;34m\u001b[0m\u001b[0;34m\u001b[0m\u001b[0m\n",
            "\u001b[0;32m/usr/local/lib/python3.6/dist-packages/matplotlib/axes/_base.py\u001b[0m in \u001b[0;36m_update_line_limits\u001b[0;34m(self, line)\u001b[0m\n\u001b[1;32m   1922\u001b[0m         \u001b[0mFigures\u001b[0m \u001b[0mout\u001b[0m \u001b[0mthe\u001b[0m \u001b[0mdata\u001b[0m \u001b[0mlimit\u001b[0m \u001b[0mof\u001b[0m \u001b[0mthe\u001b[0m \u001b[0mgiven\u001b[0m \u001b[0mline\u001b[0m\u001b[0;34m,\u001b[0m \u001b[0mupdating\u001b[0m \u001b[0mself\u001b[0m\u001b[0;34m.\u001b[0m\u001b[0mdataLim\u001b[0m\u001b[0;34m.\u001b[0m\u001b[0;34m\u001b[0m\u001b[0;34m\u001b[0m\u001b[0m\n\u001b[1;32m   1923\u001b[0m         \"\"\"\n\u001b[0;32m-> 1924\u001b[0;31m         \u001b[0mpath\u001b[0m \u001b[0;34m=\u001b[0m \u001b[0mline\u001b[0m\u001b[0;34m.\u001b[0m\u001b[0mget_path\u001b[0m\u001b[0;34m(\u001b[0m\u001b[0;34m)\u001b[0m\u001b[0;34m\u001b[0m\u001b[0;34m\u001b[0m\u001b[0m\n\u001b[0m\u001b[1;32m   1925\u001b[0m         \u001b[0;32mif\u001b[0m \u001b[0mpath\u001b[0m\u001b[0;34m.\u001b[0m\u001b[0mvertices\u001b[0m\u001b[0;34m.\u001b[0m\u001b[0msize\u001b[0m \u001b[0;34m==\u001b[0m \u001b[0;36m0\u001b[0m\u001b[0;34m:\u001b[0m\u001b[0;34m\u001b[0m\u001b[0;34m\u001b[0m\u001b[0m\n\u001b[1;32m   1926\u001b[0m             \u001b[0;32mreturn\u001b[0m\u001b[0;34m\u001b[0m\u001b[0;34m\u001b[0m\u001b[0m\n",
            "\u001b[0;32m/usr/local/lib/python3.6/dist-packages/matplotlib/lines.py\u001b[0m in \u001b[0;36mget_path\u001b[0;34m(self)\u001b[0m\n\u001b[1;32m   1025\u001b[0m         \"\"\"\n\u001b[1;32m   1026\u001b[0m         \u001b[0;32mif\u001b[0m \u001b[0mself\u001b[0m\u001b[0;34m.\u001b[0m\u001b[0m_invalidy\u001b[0m \u001b[0;32mor\u001b[0m \u001b[0mself\u001b[0m\u001b[0;34m.\u001b[0m\u001b[0m_invalidx\u001b[0m\u001b[0;34m:\u001b[0m\u001b[0;34m\u001b[0m\u001b[0;34m\u001b[0m\u001b[0m\n\u001b[0;32m-> 1027\u001b[0;31m             \u001b[0mself\u001b[0m\u001b[0;34m.\u001b[0m\u001b[0mrecache\u001b[0m\u001b[0;34m(\u001b[0m\u001b[0;34m)\u001b[0m\u001b[0;34m\u001b[0m\u001b[0;34m\u001b[0m\u001b[0m\n\u001b[0m\u001b[1;32m   1028\u001b[0m         \u001b[0;32mreturn\u001b[0m \u001b[0mself\u001b[0m\u001b[0;34m.\u001b[0m\u001b[0m_path\u001b[0m\u001b[0;34m\u001b[0m\u001b[0;34m\u001b[0m\u001b[0m\n\u001b[1;32m   1029\u001b[0m \u001b[0;34m\u001b[0m\u001b[0m\n",
            "\u001b[0;32m/usr/local/lib/python3.6/dist-packages/matplotlib/lines.py\u001b[0m in \u001b[0;36mrecache\u001b[0;34m(self, always)\u001b[0m\n\u001b[1;32m    667\u001b[0m     \u001b[0;32mdef\u001b[0m \u001b[0mrecache\u001b[0m\u001b[0;34m(\u001b[0m\u001b[0mself\u001b[0m\u001b[0;34m,\u001b[0m \u001b[0malways\u001b[0m\u001b[0;34m=\u001b[0m\u001b[0;32mFalse\u001b[0m\u001b[0;34m)\u001b[0m\u001b[0;34m:\u001b[0m\u001b[0;34m\u001b[0m\u001b[0;34m\u001b[0m\u001b[0m\n\u001b[1;32m    668\u001b[0m         \u001b[0;32mif\u001b[0m \u001b[0malways\u001b[0m \u001b[0;32mor\u001b[0m \u001b[0mself\u001b[0m\u001b[0;34m.\u001b[0m\u001b[0m_invalidx\u001b[0m\u001b[0;34m:\u001b[0m\u001b[0;34m\u001b[0m\u001b[0;34m\u001b[0m\u001b[0m\n\u001b[0;32m--> 669\u001b[0;31m             \u001b[0mxconv\u001b[0m \u001b[0;34m=\u001b[0m \u001b[0mself\u001b[0m\u001b[0;34m.\u001b[0m\u001b[0mconvert_xunits\u001b[0m\u001b[0;34m(\u001b[0m\u001b[0mself\u001b[0m\u001b[0;34m.\u001b[0m\u001b[0m_xorig\u001b[0m\u001b[0;34m)\u001b[0m\u001b[0;34m\u001b[0m\u001b[0;34m\u001b[0m\u001b[0m\n\u001b[0m\u001b[1;32m    670\u001b[0m             \u001b[0mx\u001b[0m \u001b[0;34m=\u001b[0m \u001b[0m_to_unmasked_float_array\u001b[0m\u001b[0;34m(\u001b[0m\u001b[0mxconv\u001b[0m\u001b[0;34m)\u001b[0m\u001b[0;34m.\u001b[0m\u001b[0mravel\u001b[0m\u001b[0;34m(\u001b[0m\u001b[0;34m)\u001b[0m\u001b[0;34m\u001b[0m\u001b[0;34m\u001b[0m\u001b[0m\n\u001b[1;32m    671\u001b[0m         \u001b[0;32melse\u001b[0m\u001b[0;34m:\u001b[0m\u001b[0;34m\u001b[0m\u001b[0;34m\u001b[0m\u001b[0m\n",
            "\u001b[0;32m/usr/local/lib/python3.6/dist-packages/matplotlib/artist.py\u001b[0m in \u001b[0;36mconvert_xunits\u001b[0;34m(self, x)\u001b[0m\n\u001b[1;32m    178\u001b[0m         \u001b[0;32mif\u001b[0m \u001b[0max\u001b[0m \u001b[0;32mis\u001b[0m \u001b[0;32mNone\u001b[0m \u001b[0;32mor\u001b[0m \u001b[0max\u001b[0m\u001b[0;34m.\u001b[0m\u001b[0mxaxis\u001b[0m \u001b[0;32mis\u001b[0m \u001b[0;32mNone\u001b[0m\u001b[0;34m:\u001b[0m\u001b[0;34m\u001b[0m\u001b[0;34m\u001b[0m\u001b[0m\n\u001b[1;32m    179\u001b[0m             \u001b[0;32mreturn\u001b[0m \u001b[0mx\u001b[0m\u001b[0;34m\u001b[0m\u001b[0;34m\u001b[0m\u001b[0m\n\u001b[0;32m--> 180\u001b[0;31m         \u001b[0;32mreturn\u001b[0m \u001b[0max\u001b[0m\u001b[0;34m.\u001b[0m\u001b[0mxaxis\u001b[0m\u001b[0;34m.\u001b[0m\u001b[0mconvert_units\u001b[0m\u001b[0;34m(\u001b[0m\u001b[0mx\u001b[0m\u001b[0;34m)\u001b[0m\u001b[0;34m\u001b[0m\u001b[0;34m\u001b[0m\u001b[0m\n\u001b[0m\u001b[1;32m    181\u001b[0m \u001b[0;34m\u001b[0m\u001b[0m\n\u001b[1;32m    182\u001b[0m     \u001b[0;32mdef\u001b[0m \u001b[0mconvert_yunits\u001b[0m\u001b[0;34m(\u001b[0m\u001b[0mself\u001b[0m\u001b[0;34m,\u001b[0m \u001b[0my\u001b[0m\u001b[0;34m)\u001b[0m\u001b[0;34m:\u001b[0m\u001b[0;34m\u001b[0m\u001b[0;34m\u001b[0m\u001b[0m\n",
            "\u001b[0;32m/usr/local/lib/python3.6/dist-packages/matplotlib/axis.py\u001b[0m in \u001b[0;36mconvert_units\u001b[0;34m(self, x)\u001b[0m\n\u001b[1;32m   1551\u001b[0m         \u001b[0;32mexcept\u001b[0m \u001b[0mException\u001b[0m \u001b[0;32mas\u001b[0m \u001b[0me\u001b[0m\u001b[0;34m:\u001b[0m\u001b[0;34m\u001b[0m\u001b[0;34m\u001b[0m\u001b[0m\n\u001b[1;32m   1552\u001b[0m             raise munits.ConversionError('Failed to convert value(s) to axis '\n\u001b[0;32m-> 1553\u001b[0;31m                                          f'units: {x!r}') from e\n\u001b[0m\u001b[1;32m   1554\u001b[0m         \u001b[0;32mreturn\u001b[0m \u001b[0mret\u001b[0m\u001b[0;34m\u001b[0m\u001b[0;34m\u001b[0m\u001b[0m\n\u001b[1;32m   1555\u001b[0m \u001b[0;34m\u001b[0m\u001b[0m\n",
            "\u001b[0;31mConversionError\u001b[0m: Failed to convert value(s) to axis units: array([Timestamp('2011-03-11 00:00:00'), Timestamp('2015-01-09 00:00:00'),\n       Timestamp('2014-05-20 00:00:00'), Timestamp('2010-07-15 00:00:00'),\n       Timestamp('2013-02-22 00:00:00'), Timestamp('2014-08-11 00:00:00'),\n       Timestamp('2018-06-12 00:00:00'), Timestamp('2018-07-20 00:00:00'),\n       Timestamp('2013-12-17 00:00:00'), Timestamp('2010-08-31 00:00:00'),\n       Timestamp('2018-08-27 00:00:00'), Timestamp('2015-07-08 00:00:00'),\n       Timestamp('2017-03-14 00:00:00'), Timestamp('2019-07-29 00:00:00'),\n       Timestamp('2017-02-02 00:00:00'), Timestamp('2015-01-16 00:00:00'),\n       Timestamp('2014-04-24 00:00:00'), Timestamp('2018-01-11 00:00:00'),\n       Timestamp('2018-06-13 00:00:00'), Timestamp('2014-09-16 00:00:00'),\n       Timestamp('2010-08-17 00:00:00'), Timestamp('2018-06-01 00:00:00'),\n       Timestamp('2012-05-18 00:00:00'), Timestamp('2010-02-10 00:00:00'),\n       Timestamp('2017-03-06 00:00:00'), Timestamp('2014-09-04 00:00:00'),\n       Timestamp('2019-11-18 00:00:00'), Timestamp('2015-02-02 00:00:00'),\n       Timestamp('2016-08-16 00:00:00'), Timestamp('2011-09-02 00:00:00'),\n       Timestamp('2014-10-01 00:00:00'), Timestamp('2019-05-03 00:00:00'),\n       Timestamp('2012-07-05 00:00:00'), Timestamp('2013-04-15 00:00:00'),\n       Timestamp('2014-08-25 00:00:00'), Timestamp('2019-06-18 00:00:00'),\n       Timestamp('2016-02-15 00:00:00'), Timestamp('2017-05-15 00:00:00'),\n       Timestamp('2013-11-28 00:00:00'), Timestamp('2012-11-19 00:00:00'),\n       Timestamp('2011-04-25 00:00:00'), Timestamp('2011-07-11 00:00:00'),\n       Timestamp('2012-03-21 00:00:00'), Timestamp('2017-12-20 00:00:00'),\n       Timestamp('2017-02-16 00:00:00'), Timestamp('2012-02-14 00:00:00'),\n       Timestamp('2014-01-30 00:00:00'), Timestamp('2011-06-09 00:00:00'),\n       Timestamp('2018-12-26 00:00:00'), Timestamp('2010-11-22 00:00:00'),\n       Timestamp('2015-07-09 00:00:00'), Timestamp('2020-01-13 00:00:00'),\n       Timestamp('2013-03-01 00:00:00'), Timestamp('2011-03-22 00:00:00'),\n       Timestamp('2018-05-09 00:00:00'), Timestamp('2011-04-01 00:00:00'),\n       Timestamp('2014-07-09 00:00:00'), Timestamp('2010-05-12 00:00:00'),\n       Timestamp('2011-05-27 00:00:00'), Timestamp('2019-01-10 00:00:00'),\n       Timestamp('2017-05-11 00:00:00'), Timestamp('2017-04-19 00:00:00'),\n       Timestamp('2010-06-03 00:00:00'), Timestamp('2011-09-19 00:00:00'),\n       Timestamp('2018-01-05 00:00:00'), Timestamp('2014-08-22 00:00:00'),\n       Timestamp('2018-04-18 00:00:00'), Timestamp('2017-01-11 00:00:00'),\n       Timestamp('2010-08-10 00:00:00'), Timestamp('2015-07-10 00:00:00'),\n       Timestamp('2016-02-26 00:00:00'), Timestamp('2019-06-19 00:00:00'),\n       Timestamp('2017-05-24 00:00:00'), Timestamp('2013-09-27 00:00:00'),\n       Timestamp('2017-09-26 00:00:00'), Timestamp('2018-09-24 00:00:00'),\n       Timestamp('2010-12-14 00:00:00'), Timestamp('2015-04-15 00:00:00'),\n       Timestamp('2016-10-14 00:00:00'), Timestamp('2013-04-23 00:00:00'),\n       Timestamp('2019-09-25 00:00:00'), Timestamp('2010-12-08 00:00:00'),\n       Timestamp('2013-02-04 00:00:00'), Timestamp('2018-05-30 00:00:00'),\n       Timestamp('2017-03-29 00:00:00'), Timestamp('2016-11-15 00:00:00'),\n       Timestamp('2011-06-17 00:00:00'), Timestamp('2012-06-12 00:00:00'),\n       Timestamp('2017-02-13 00:00:00'), Timestamp('2013-12-31 00:00:00'),\n       Timestamp('2013-10-07 00:00:00'), Timestamp('2017-08-10 00:00:00'),\n       Timestamp('2011-07-26 00:00:00'), Timestamp('2017-02-15 00:00:00'),\n       Timestamp('2019-09-04 00:00:00'), Timestamp('2015-06-26 00:00:00'),\n       Timestamp('2018-01-02 00:00:00'), Timestamp('2013-04-17 00:00:00'),\n       Timestamp('2013-02-12 00:00:00'), Timestamp('2017-08-04 00:00:00'),\n       Timestamp('2013-02-21 00:00:00'), Timestamp('2017-08-14 00:00:00'),\n       Timestamp('2013-02-13 00:00:00'), Timestamp('2014-05-26 00:00:00'),\n       Timestamp('2013-03-19 00:00:00'), Timestamp('2013-09-13 00:00:00'),\n       Timestamp('2019-06-10 00:00:00'), Timestamp('2014-01-31 00:00:00'),\n       Timestamp('2011-09-26 00:00:00'), Timestamp('2017-12-12 00:00:00'),\n       Timestamp('2013-10-31 00:00:00'), Timestamp('2015-10-07 00:00:00'),\n       Timestamp('2017-11-28 00:00:00'), Timestamp('2017-10-27 00:00:00'),\n       Timestamp('2018-04-11 00:00:00'), Timestamp('2016-05-02 00:00:00'),\n       Timestamp('2018-10-03 00:00:00'), Timestamp('2014-06-10 00:00:00'),\n       Timestamp('2016-10-18 00:00:00'), Timestamp('2012-01-23 00:00:00'),\n       Timestamp('2013-11-08 00:00:00'), Timestamp('2012-02-02 00:00:00'),\n       Timestamp('2013-11-07 00:00:00'), Timestamp('2016-01-14 00:00:00'),\n       Timestamp('2017-12-04 00:00:00'), Timestamp('2016-11-10 00:00:00'),\n       Timestamp('2015-05-06 00:00:00'), Timestamp('2018-09-27 00:00:00'),\n       Timestamp('2013-08-06 00:00:00'), Timestamp('2019-01-21 00:00:00'),\n       Timestamp('2010-09-16 00:00:00'), Timestamp('2017-09-22 00:00:00'),\n       Timestamp('2018-07-25 00:00:00'), Timestamp('2011-10-11 00:00:00'),\n       Timestamp('2016-12-20 00:00:00'), Timestamp('2014-08-05 00:00:00'),\n       Timestamp('2019-06-20 00:00:00'), Timestamp('2011-05-12 00:00:00'),\n       Timestamp('2010-12-07 00:00:00'), Timestamp('2010-08-05 00:00:00'),\n       Timestamp('2011-06-22 00:00:00'), Timestamp('2012-05-03 00:00:00'),\n       Timestamp('2015-03-03 00:00:00'), Timestamp('2010-04-15 00:00:00'),\n       Timestamp('2015-09-23 00:00:00'), Timestamp('2013-12-16 00:00:00'),\n       Timestamp('2014-07-23 00:00:00'), Timestamp('2018-08-17 00:00:00'),\n       Timestamp('2013-09-20 00:00:00'), Timestamp('2011-07-13 00:00:00'),\n       Timestamp('2013-06-04 00:00:00'), Timestamp('2012-11-15 00:00:00'),\n       Timestamp('2011-09-27 00:00:00'), Timestamp('2019-08-13 00:00:00'),\n       Timestamp('2012-08-07 00:00:00'), Timestamp('2018-09-19 00:00:00'),\n       Timestamp('2015-05-04 00:00:00'), Timestamp('2012-11-16 00:00:00'),\n       Timestamp('2014-05-19 00:00:00'), Timestamp('2012-11-21 00:00:00'),\n       Timestamp('2016-09-29 00:00:00'), Timestamp('2013-08-23 00:00:00'),\n       Timestamp('2014-04-09 00:00:00'), Timestamp('2018-10-26 00:00:00'),\n       Timestamp('2011-06-29 00:00:00'), Timestamp('2016-10-03 00:00:00'),\n       Timestamp('2016-07-14 00:00:00'), Timestamp('2012-10-01 00:00:00'),\n       Timestamp('2010-02-19 00:00:00'), Timestamp('2012-04-20 00:00:00'),\n       Timestamp('2013-04-09 00:00:00'), Timestamp('2010-05-11 00:00:00'),\n       Timestamp('2017-01-30 00:00:00'), Timestamp('2011-08-23 00:00:00'),\n       Timestamp('2019-02-06 00:00:00'), Timestamp('2010-06-18 00:00:00'),\n       Timestamp('2012-06-05 00:00:00'), Timestamp('2017-07-07 00:00:00'),\n       Timestamp('2010-08-02 00:00:00'), Timestamp('2014-11-21 00:00:00'),\n       Timestamp('2019-01-02 00:00:00'), Timestamp('2016-06-23 00:00:00'),\n       Timestamp('2018-03-05 00:00:00'), Timestamp('2019-04-02 00:00:00'),\n       Timestamp('2014-07-02 00:00:00'), Timestamp('2011-04-13 00:00:00'),\n       Timestamp('2012-02-09 00:00:00'), Timestamp('2018-08-06 00:00:00'),\n       Timestamp('2012-11-12 00:00:00'), Timestamp('2015-03-02 00:00:00'),\n       Timestamp('2020-01-03 00:00:00'), Timestamp('2013-11-12 00:00:00'),\n       Timestamp('2018-03-19 00:00:00'), Timestamp('2010-03-15 00:00:00'),\n       Timestamp('2010-07-29 00:00:00'), Timestamp('2018-04-27 00:00:00'),\n       Timestamp('2012-03-02 00:00:00'), Timestamp('2018-06-22 00:00:00'),\n       Timestamp('2012-10-22 00:00:00'), Timestamp('2018-06-27 00:00:00'),\n       Timestamp('2019-06-12 00:00:00'), Timestamp('2010-11-03 00:00:00'),\n       Timestamp('2014-09-12 00:00:00'), Timestamp('2014-11-13 00:00:00'),\n       Timestamp('2012-07-27 00:00:00'), Timestamp('2017-01-27 00:00:00'),\n       Timestamp('2010-12-23 00:00:00'), Timestamp('2019-07-31 00:00:00'),\n       Timestamp('2014-09-18 00:00:00'), Timestamp('2010-03-04 00:00:00'),\n       Timestamp('2013-06-27 00:00:00'), Timestamp('2016-08-31 00:00:00'),\n       Timestamp('2011-10-05 00:00:00'), Timestamp('2012-04-17 00:00:00'),\n       Timestamp('2015-10-16 00:00:00'), Timestamp('2018-08-20 00:00:00'),\n       Timestamp('2019-06-28 00:00:00'), Timestamp('2010-07-05 00:00:00'),\n       Timestamp('2017-08-16 00:00:00'), Timestamp('2019-05-29 00:00:00'),\n       Timestamp('2015-02-11 00:00:00'), Timestamp('2010-12-24 00:00:00'),\n       Timestamp('2019-02-27 00:00:00'), Timestamp('2011-08-25 00:00:00'),\n       Timestamp('2012-12-26 00:00:00'), Timestamp('2015-10-05 00:00:00'),\n       Timestamp('2016-11-02 00:00:00'), Timestamp('2016-05-17 00:00:00'),\n       Timestamp('2011-01-12 00:00:00'), Timestamp('2018-04-17 00:00:00'),\n       Timestamp('2017-03-17 00:00:00'), Timestamp('2013-10-08 00:00:00'),\n       Timestamp('2012-07-04 00:00:00'), Timestamp('2018-06-25 00:00:00'),\n       Timestamp('2012-04-23 00:00:00'), Timestamp('2012-07-06 00:00:00'),\n       Timestamp('2019-09-18 00:00:00'), Timestamp('2013-10-21 00:00:00'),\n       Timestamp('2014-01-03 00:00:00'), Timestamp('2011-03-21 00:00:00'),\n       Timestamp('2018-11-20 00:00:00'), Timestamp('2019-10-24 00:00:00'),\n       Timestamp('2015-02-13 00:00:00'), Timestamp('2017-08-02 00:00:00'),\n       Timestamp('2019-08-01 00:00:00'), Timestamp('2012-03-22 00:00:00'),\n       Timestamp('2016-11-21 00:00:00'), Timestamp('2018-02-15 00:00:00'),\n       Timestamp('2017-06-27 00:00:00'), Timestamp('2012-04-25 00:00:00'),\n       Timestamp('2010-07-20 00:00:00'), Timestamp('2010-03-11 00:00:00'),\n       Timestamp('2010-05-13 00:00:00'), Timestamp('2011-05-19 00:00:00'),\n       Timestamp('2019-02-21 00:00:00'), Timestamp('2010-04-07 00:00:00'),\n       Timestamp('2013-10-11 00:00:00'), Timestamp('2014-06-12 00:00:00'),\n       Timestamp('2016-05-06 00:00:00'), Timestamp('2016-12-12 00:00:00'),\n       Timestamp('2016-11-24 00:00:00'), Timestamp('2013-10-17 00:00:00'),\n       Timestamp('2010-01-13 00:00:00'), Timestamp('2015-09-16 00:00:00'),\n       Timestamp('2016-08-09 00:00:00'), Timestamp('2019-03-25 00:00:00'),\n       Timestamp('2013-01-25 00:00:00'), Timestamp('2012-05-09 00:00:00'),\n       Timestamp('2013-02-08 00:00:00'), Timestamp('2018-05-02 00:00:00'),\n       Timestamp('2010-04-13 00:00:00'), Timestamp('2019-03-06 00:00:00'),\n       Timestamp('2019-02-28 00:00:00'), Timestamp('2019-05-24 00:00:00'),\n       Timestamp('2018-12-27 00:00:00'), Timestamp('2015-01-08 00:00:00'),\n       Timestamp('2011-05-10 00:00:00'), Timestamp('2017-07-24 00:00:00'),\n       Timestamp('2010-11-30 00:00:00'), Timestamp('2015-08-04 00:00:00'),\n       Timestamp('2016-03-22 00:00:00'), Timestamp('2011-03-16 00:00:00'),\n       Timestamp('2017-03-28 00:00:00'), Timestamp('2011-06-30 00:00:00'),\n       Timestamp('2018-07-31 00:00:00'), Timestamp('2012-10-08 00:00:00'),\n       Timestamp('2015-04-13 00:00:00'), Timestamp('2013-07-23 00:00:00'),\n       Timestamp('2017-03-08 00:00:00'), Timestamp('2017-01-17 00:00:00'),\n       Timestamp('2015-06-01 00:00:00'), Timestamp('2014-07-10 00:00:00'),\n       Timestamp('2012-12-03 00:00:00'), Timestamp('2013-12-20 00:00:00'),\n       Timestamp('2011-06-07 00:00:00'), Timestamp('2018-11-05 00:00:00'),\n       Timestamp('2016-01-18 00:00:00'), Timestamp('2012-02-06 00:00:00'),\n       Timestamp('2017-12-27 00:00:00'), Timestamp('2011-02-23 00:00:00'),\n       Timestamp('2013-05-30 00:00:00'), Timestamp('2016-11-22 00:00:00'),\n       Timestamp('2012-08-28 00:00:00'), Timestamp('2019-07-09 00:00:00'),\n       Timestamp('2019-12-11 00:00:00'), Timestamp('2018-10-09 00:00:00'),\n       Timestamp('2011-09-05 00:00:00'), Timestamp('2015-11-19 00:00:00'),\n       Timestamp('2017-06-16 00:00:00'), Timestamp('2015-03-23 00:00:00'),\n       Timestamp('2015-02-04 00:00:00'), Timestamp('2014-04-03 00:00:00'),\n       Timestamp('2019-07-15 00:00:00'), Timestamp('2014-06-02 00:00:00'),\n       Timestamp('2012-06-08 00:00:00'), Timestamp('2018-01-04 00:00:00'),\n       Timestamp('2014-12-30 00:00:00'), Timestamp('2011-02-09 00:00:00'),\n       Timestamp('2011-11-28 00:00:00'), Timestamp('2017-05-29 00:00:00'),\n       Timestamp('2016-07-21 00:00:00'), Timestamp('2019-05-22 00:00:00'),\n       Timestamp('2017-09-13 00:00:00'), Timestamp('2019-05-28 00:00:00'),\n       Timestamp('2016-11-07 00:00:00'), Timestamp('2013-07-31 00:00:00'),\n       Timestamp('2012-07-03 00:00:00'), Timestamp('2014-04-11 00:00:00'),\n       Timestamp('2011-05-02 00:00:00'), Timestamp('2011-10-04 00:00:00'),\n       Timestamp('2012-03-23 00:00:00'), Timestamp('2010-07-28 00:00:00'),\n       Timestamp('2010-08-26 00:00:00'), Timestamp('2010-11-24 00:00:00'),\n       Timestamp('2013-05-02 00:00:00'), Timestamp('2015-08-28 00:00:00'),\n       Timestamp('2012-06-19 00:00:00'), Timestamp('2015-11-04 00:00:00'),\n       Timestamp('2019-06-21 00:00:00'), Timestamp('2010-11-25 00:00:00'),\n       Timestamp('2013-05-15 00:00:00'), Timestamp('2010-03-05 00:00:00'),\n       Timestamp('2013-08-12 00:00:00'), Timestamp('2013-03-14 00:00:00'),\n       Timestamp('2020-01-08 00:00:00'), Timestamp('2012-09-25 00:00:00'),\n       Timestamp('2016-01-29 00:00:00'), Timestamp('2019-02-25 00:00:00'),\n       Timestamp('2016-02-01 00:00:00'), Timestamp('2014-05-14 00:00:00'),\n       Timestamp('2012-02-10 00:00:00'), Timestamp('2017-08-03 00:00:00'),\n       Timestamp('2011-05-03 00:00:00'), Timestamp('2011-05-18 00:00:00'),\n       Timestamp('2015-12-28 00:00:00'), Timestamp('2010-04-22 00:00:00'),\n       Timestamp('2015-03-26 00:00:00'), Timestamp('2013-12-19 00:00:00'),\n       Timestamp('2014-03-28 00:00:00'), Timestamp('2016-05-12 00:00:00'),\n       Timestamp('2015-07-28 00:00:00'), Timestamp('2014-04-28 00:00:00'),\n       Timestamp('2011-05-05 00:00:00'), Timestamp('2015-04-29 00:00:00'),\n       Timestamp('2014-05-13 00:00:00'), Timestamp('2019-04-18 00:00:00'),\n       Timestamp('2010-07-14 00:00:00'), Timestamp('2016-12-13 00:00:00'),\n       Timestamp('2018-07-11 00:00:00'), Timestamp('2013-07-11 00:00:00'),\n       Timestamp('2019-10-31 00:00:00'), Timestamp('2015-03-20 00:00:00'),\n       Timestamp('2019-03-22 00:00:00'), Timestamp('2011-12-29 00:00:00'),\n       Timestamp('2013-09-23 00:00:00'), Timestamp('2014-11-27 00:00:00'),\n       Timestamp('2010-04-20 00:00:00'), Timestamp('2016-02-24 00:00:00'),\n       Timestamp('2019-09-17 00:00:00'), Timestamp('2013-01-30 00:00:00'),\n       Timestamp('2012-08-14 00:00:00'), Timestamp('2018-08-02 00:00:00'),\n       Timestamp('2014-01-29 00:00:00'), Timestamp('2018-10-12 00:00:00'),\n       Timestamp('2015-04-30 00:00:00'), Timestamp('2011-10-17 00:00:00'),\n       Timestamp('2010-02-25 00:00:00'), Timestamp('2011-09-06 00:00:00'),\n       Timestamp('2010-07-26 00:00:00'), Timestamp('2016-07-13 00:00:00'),\n       Timestamp('2012-07-09 00:00:00'), Timestamp('2010-05-03 00:00:00'),\n       Timestamp('2017-08-29 00:00:00'), Timestamp('2011-03-31 00:00:00'),\n       Timestamp('2010-02-02 00:00:00'), Timestamp('2013-03-12 00:00:00'),\n       Timestamp('2010-06-17 00:00:00'), Timestamp('2019-12-30 00:00:00'),\n       Timestamp('2017-05-30 00:00:00'), Timestamp('2010-12-06 00:00:00'),\n       Timestamp('2013-06-05 00:00:00'), Timestamp('2013-06-14 00:00:00'),\n       Timestamp('2014-04-01 00:00:00'), Timestamp('2015-09-18 00:00:00'),\n       Timestamp('2014-09-11 00:00:00'), Timestamp('2015-09-29 00:00:00'),\n       Timestamp('2018-06-06 00:00:00'), Timestamp('2011-11-30 00:00:00'),\n       Timestamp('2019-10-04 00:00:00'), Timestamp('2010-01-18 00:00:00'),\n       Timestamp('2018-11-22 00:00:00'), Timestamp('2014-04-22 00:00:00'),\n       Timestamp('2011-12-15 00:00:00'), Timestamp('2011-02-11 00:00:00'),\n       Timestamp('2019-09-16 00:00:00'), Timestamp('2014-10-31 00:00:00'),\n       Timestamp('2015-10-14 00:00:00'), Timestamp('2019-10-03 00:00:00'),\n       Timestamp('2019-04-04 00:00:00'), Timestamp('2013-02-07 00:00:00'),\n       Timestamp('2015-12-03 00:00:00'), Timestamp('2019-02-08 00:00:00'),\n       Timestamp('2011-08-30 00:00:00'), Timestamp('2018-08-28 00:00:00'),\n       Timestamp('2017-10-16 00:00:00'), Timestamp('2018-07-10 00:00:00'),\n       Timestamp('2019-10-23 00:00:00'), Timestamp('2015-04-10 00:00:00'),\n       Timestamp('2010-09-15 00:00:00'), Timestamp('2017-03-30 00:00:00'),\n       Timestamp('2012-05-08 00:00:00'), Timestamp('2014-09-10 00:00:00'),\n       Timestamp('2014-06-30 00:00:00'), Timestamp('2016-05-09 00:00:00'),\n       Timestamp('2019-12-23 00:00:00'), Timestamp('2016-02-08 00:00:00'),\n       Timestamp('2015-04-01 00:00:00'), Timestamp('2015-08-19 00:00:00'),\n       Timestamp('2015-09-03 00:00:00'), Timestamp('2018-01-18 00:00:00'),\n       Timestamp('2012-09-28 00:00:00'), Timestamp('2018-01-17 00:00:00'),\n       Timestamp('2015-10-29 00:00:00'), Timestamp('2019-09-20 00:00:00'),\n       Timestamp('2015-09-02 00:00:00'), Timestamp('2016-02-09 00:00:00'),\n       Timestamp('2015-12-01 00:00:00'), Timestamp('2018-02-21 00:00:00'),\n       Timestamp('2017-09-15 00:00:00'), Timestamp('2013-01-18 00:00:00'),\n       Timestamp('2014-11-17 00:00:00'), Timestamp('2018-02-01 00:00:00'),\n       Timestamp('2012-08-01 00:00:00'), Timestamp('2011-12-09 00:00:00'),\n       Timestamp('2012-01-17 00:00:00'), Timestamp('2016-06-07 00:00:00'),\n       Timestamp('2018-03-12 00:00:00'), Timestamp('2014-10-09 00:00:00'),\n       Timestamp('2016-04-21 00:00:00'), Timestamp('2010-08-23 00:00:00'),\n       Timestamp('2014-03-27 00:00:00'), Timestamp('2016-10-07 00:00:00'),\n       Timestamp('2018-09-03 00:00:00'), Timestamp('2018-11-21 00:00:00'),\n       Timestamp('2013-03-21 00:00:00'), Timestamp('2019-01-25 00:00:00'),\n       Timestamp('2017-09-28 00:00:00'), Timestamp('2010-11-29 00:00:00'),\n       Timestamp('2012-09-20 00:00:00'), Timestamp('2012-10-17 00:00:00'),\n       Timestamp('2017-08-07 00:00:00'), Timestamp('2014-09-03 00:00:00'),\n       Timestamp('2011-12-13 00:00:00'), Timestamp('2017-10-10 00:00:00'),\n       Timestamp('2014-03-04 00:00:00'), Timestamp('2010-10-04 00:00:00'),\n       Timestamp('2017-11-08 00:00:00'), Timestamp('2011-10-19 00:00:00'),\n       Timestamp('2015-02-05 00:00:00'), Timestamp('2011-01-05 00:00:00'),\n       Timestamp('2012-12-17 00:00:00'), Timestamp('2010-03-26 00:00:00'),\n       Timestamp('2016-10-27 00:00:00'), Timestamp('2018-08-09 00:00:00'),\n       Timestamp('2013-05-23 00:00:00'), Timestamp('2011-11-18 00:00:00'),\n       Timestamp('2011-02-10 00:00:00'), Timestamp('2017-06-05 00:00:00'),\n       Timestamp('2015-11-06 00:00:00'), Timestamp('2010-09-07 00:00:00'),\n       Timestamp('2017-02-01 00:00:00'), Timestamp('2018-10-01 00:00:00'),\n       Timestamp('2013-05-22 00:00:00'), Timestamp('2019-01-23 00:00:00'),\n       Timestamp('2010-09-06 00:00:00'), Timestamp('2018-08-01 00:00:00'),\n       Timestamp('2016-03-28 00:00:00'), 'pred'], dtype=object)"
          ]
        },
        {
          "output_type": "display_data",
          "data": {
            "image/png": "[encoded data removed]",
            "text/plain": [
              "<Figure size 432x288 with 1 Axes>"
            ]
          },
          "metadata": {
            "tags": []
          }
        }
      ]
    },
    {
      "cell_type": "code",
      "metadata": {
        "id": "ixa3ugkifXwn",
        "colab_type": "code",
        "colab": {
          "base_uri": "https://localhost:8080/",
          "height": 34
        },
        "outputId": "7bde172f-620d-4775-ebcc-273f52e8ee9c"
      },
      "source": [
        "X_test.shape"
      ],
      "execution_count": 123,
      "outputs": [
        {
          "output_type": "execute_result",
          "data": {
            "text/plain": [
              "(437, 60, 1)"
            ]
          },
          "metadata": {
            "tags": []
          },
          "execution_count": 123
        }
      ]
    },
    {
      "cell_type": "code",
      "metadata": {
        "id": "KK4CacP83ZpP",
        "colab_type": "code",
        "outputId": "681e01bf-2673-4df5-a965-bfd850b31ca0",
        "colab": {
          "base_uri": "https://localhost:8080/",
          "height": 313
        }
      },
      "source": [
        "pd.DataFrame({'real':df_test.tolist(),'predicted':predicted_stock_price.tolist()})"
      ],
      "execution_count": 86,
      "outputs": [
        {
          "output_type": "error",
          "ename": "ValueError",
          "evalue": "ignored",
          "traceback": [
            "\u001b[0;31m---------------------------------------------------------------------------\u001b[0m",
            "\u001b[0;31mValueError\u001b[0m                                Traceback (most recent call last)",
            "\u001b[0;32m<ipython-input-86-88da9cf60e78>\u001b[0m in \u001b[0;36m<module>\u001b[0;34m()\u001b[0m\n\u001b[0;32m----> 1\u001b[0;31m \u001b[0mpd\u001b[0m\u001b[0;34m.\u001b[0m\u001b[0mDataFrame\u001b[0m\u001b[0;34m(\u001b[0m\u001b[0;34m{\u001b[0m\u001b[0;34m'real'\u001b[0m\u001b[0;34m:\u001b[0m\u001b[0mdf_test\u001b[0m\u001b[0;34m.\u001b[0m\u001b[0mtolist\u001b[0m\u001b[0;34m(\u001b[0m\u001b[0;34m)\u001b[0m\u001b[0;34m,\u001b[0m\u001b[0;34m'predicted'\u001b[0m\u001b[0;34m:\u001b[0m\u001b[0mpredicted_stock_price\u001b[0m\u001b[0;34m.\u001b[0m\u001b[0mtolist\u001b[0m\u001b[0;34m(\u001b[0m\u001b[0;34m)\u001b[0m\u001b[0;34m}\u001b[0m\u001b[0;34m)\u001b[0m\u001b[0;34m\u001b[0m\u001b[0;34m\u001b[0m\u001b[0m\n\u001b[0m",
            "\u001b[0;32m/usr/local/lib/python3.6/dist-packages/pandas/core/frame.py\u001b[0m in \u001b[0;36m__init__\u001b[0;34m(self, data, index, columns, dtype, copy)\u001b[0m\n\u001b[1;32m    409\u001b[0m             )\n\u001b[1;32m    410\u001b[0m         \u001b[0;32melif\u001b[0m \u001b[0misinstance\u001b[0m\u001b[0;34m(\u001b[0m\u001b[0mdata\u001b[0m\u001b[0;34m,\u001b[0m \u001b[0mdict\u001b[0m\u001b[0;34m)\u001b[0m\u001b[0;34m:\u001b[0m\u001b[0;34m\u001b[0m\u001b[0;34m\u001b[0m\u001b[0m\n\u001b[0;32m--> 411\u001b[0;31m             \u001b[0mmgr\u001b[0m \u001b[0;34m=\u001b[0m \u001b[0minit_dict\u001b[0m\u001b[0;34m(\u001b[0m\u001b[0mdata\u001b[0m\u001b[0;34m,\u001b[0m \u001b[0mindex\u001b[0m\u001b[0;34m,\u001b[0m \u001b[0mcolumns\u001b[0m\u001b[0;34m,\u001b[0m \u001b[0mdtype\u001b[0m\u001b[0;34m=\u001b[0m\u001b[0mdtype\u001b[0m\u001b[0;34m)\u001b[0m\u001b[0;34m\u001b[0m\u001b[0;34m\u001b[0m\u001b[0m\n\u001b[0m\u001b[1;32m    412\u001b[0m         \u001b[0;32melif\u001b[0m \u001b[0misinstance\u001b[0m\u001b[0;34m(\u001b[0m\u001b[0mdata\u001b[0m\u001b[0;34m,\u001b[0m \u001b[0mma\u001b[0m\u001b[0;34m.\u001b[0m\u001b[0mMaskedArray\u001b[0m\u001b[0;34m)\u001b[0m\u001b[0;34m:\u001b[0m\u001b[0;34m\u001b[0m\u001b[0;34m\u001b[0m\u001b[0m\n\u001b[1;32m    413\u001b[0m             \u001b[0;32mimport\u001b[0m \u001b[0mnumpy\u001b[0m\u001b[0;34m.\u001b[0m\u001b[0mma\u001b[0m\u001b[0;34m.\u001b[0m\u001b[0mmrecords\u001b[0m \u001b[0;32mas\u001b[0m \u001b[0mmrecords\u001b[0m\u001b[0;34m\u001b[0m\u001b[0;34m\u001b[0m\u001b[0m\n",
            "\u001b[0;32m/usr/local/lib/python3.6/dist-packages/pandas/core/internals/construction.py\u001b[0m in \u001b[0;36minit_dict\u001b[0;34m(data, index, columns, dtype)\u001b[0m\n\u001b[1;32m    255\u001b[0m             \u001b[0marr\u001b[0m \u001b[0;32mif\u001b[0m \u001b[0;32mnot\u001b[0m \u001b[0mis_datetime64tz_dtype\u001b[0m\u001b[0;34m(\u001b[0m\u001b[0marr\u001b[0m\u001b[0;34m)\u001b[0m \u001b[0;32melse\u001b[0m \u001b[0marr\u001b[0m\u001b[0;34m.\u001b[0m\u001b[0mcopy\u001b[0m\u001b[0;34m(\u001b[0m\u001b[0;34m)\u001b[0m \u001b[0;32mfor\u001b[0m \u001b[0marr\u001b[0m \u001b[0;32min\u001b[0m \u001b[0marrays\u001b[0m\u001b[0;34m\u001b[0m\u001b[0;34m\u001b[0m\u001b[0m\n\u001b[1;32m    256\u001b[0m         ]\n\u001b[0;32m--> 257\u001b[0;31m     \u001b[0;32mreturn\u001b[0m \u001b[0marrays_to_mgr\u001b[0m\u001b[0;34m(\u001b[0m\u001b[0marrays\u001b[0m\u001b[0;34m,\u001b[0m \u001b[0mdata_names\u001b[0m\u001b[0;34m,\u001b[0m \u001b[0mindex\u001b[0m\u001b[0;34m,\u001b[0m \u001b[0mcolumns\u001b[0m\u001b[0;34m,\u001b[0m \u001b[0mdtype\u001b[0m\u001b[0;34m=\u001b[0m\u001b[0mdtype\u001b[0m\u001b[0;34m)\u001b[0m\u001b[0;34m\u001b[0m\u001b[0;34m\u001b[0m\u001b[0m\n\u001b[0m\u001b[1;32m    258\u001b[0m \u001b[0;34m\u001b[0m\u001b[0m\n\u001b[1;32m    259\u001b[0m \u001b[0;34m\u001b[0m\u001b[0m\n",
            "\u001b[0;32m/usr/local/lib/python3.6/dist-packages/pandas/core/internals/construction.py\u001b[0m in \u001b[0;36marrays_to_mgr\u001b[0;34m(arrays, arr_names, index, columns, dtype)\u001b[0m\n\u001b[1;32m     75\u001b[0m     \u001b[0;31m# figure out the index, if necessary\u001b[0m\u001b[0;34m\u001b[0m\u001b[0;34m\u001b[0m\u001b[0;34m\u001b[0m\u001b[0m\n\u001b[1;32m     76\u001b[0m     \u001b[0;32mif\u001b[0m \u001b[0mindex\u001b[0m \u001b[0;32mis\u001b[0m \u001b[0;32mNone\u001b[0m\u001b[0;34m:\u001b[0m\u001b[0;34m\u001b[0m\u001b[0;34m\u001b[0m\u001b[0m\n\u001b[0;32m---> 77\u001b[0;31m         \u001b[0mindex\u001b[0m \u001b[0;34m=\u001b[0m \u001b[0mextract_index\u001b[0m\u001b[0;34m(\u001b[0m\u001b[0marrays\u001b[0m\u001b[0;34m)\u001b[0m\u001b[0;34m\u001b[0m\u001b[0;34m\u001b[0m\u001b[0m\n\u001b[0m\u001b[1;32m     78\u001b[0m     \u001b[0;32melse\u001b[0m\u001b[0;34m:\u001b[0m\u001b[0;34m\u001b[0m\u001b[0;34m\u001b[0m\u001b[0m\n\u001b[1;32m     79\u001b[0m         \u001b[0mindex\u001b[0m \u001b[0;34m=\u001b[0m \u001b[0mensure_index\u001b[0m\u001b[0;34m(\u001b[0m\u001b[0mindex\u001b[0m\u001b[0;34m)\u001b[0m\u001b[0;34m\u001b[0m\u001b[0;34m\u001b[0m\u001b[0m\n",
            "\u001b[0;32m/usr/local/lib/python3.6/dist-packages/pandas/core/internals/construction.py\u001b[0m in \u001b[0;36mextract_index\u001b[0;34m(data)\u001b[0m\n\u001b[1;32m    366\u001b[0m             \u001b[0mlengths\u001b[0m \u001b[0;34m=\u001b[0m \u001b[0mlist\u001b[0m\u001b[0;34m(\u001b[0m\u001b[0mset\u001b[0m\u001b[0;34m(\u001b[0m\u001b[0mraw_lengths\u001b[0m\u001b[0;34m)\u001b[0m\u001b[0;34m)\u001b[0m\u001b[0;34m\u001b[0m\u001b[0;34m\u001b[0m\u001b[0m\n\u001b[1;32m    367\u001b[0m             \u001b[0;32mif\u001b[0m \u001b[0mlen\u001b[0m\u001b[0;34m(\u001b[0m\u001b[0mlengths\u001b[0m\u001b[0;34m)\u001b[0m \u001b[0;34m>\u001b[0m \u001b[0;36m1\u001b[0m\u001b[0;34m:\u001b[0m\u001b[0;34m\u001b[0m\u001b[0;34m\u001b[0m\u001b[0m\n\u001b[0;32m--> 368\u001b[0;31m                 \u001b[0;32mraise\u001b[0m \u001b[0mValueError\u001b[0m\u001b[0;34m(\u001b[0m\u001b[0;34m\"arrays must all be same length\"\u001b[0m\u001b[0;34m)\u001b[0m\u001b[0;34m\u001b[0m\u001b[0;34m\u001b[0m\u001b[0m\n\u001b[0m\u001b[1;32m    369\u001b[0m \u001b[0;34m\u001b[0m\u001b[0m\n\u001b[1;32m    370\u001b[0m             \u001b[0;32mif\u001b[0m \u001b[0mhave_dicts\u001b[0m\u001b[0;34m:\u001b[0m\u001b[0;34m\u001b[0m\u001b[0;34m\u001b[0m\u001b[0m\n",
            "\u001b[0;31mValueError\u001b[0m: arrays must all be same length"
          ]
        }
      ]
    },
    {
      "cell_type": "code",
      "metadata": {
        "id": "IM-bmT2n7dyt",
        "colab_type": "code",
        "colab": {}
      },
      "source": [
        ""
      ],
      "execution_count": 0,
      "outputs": []
    }
  ]
}