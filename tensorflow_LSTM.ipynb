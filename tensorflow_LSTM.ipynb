{
  "nbformat": 4,
  "nbformat_minor": 0,
  "metadata": {
    "colab": {
      "name": "tensorflow_LSTM",
      "provenance": [],
      "collapsed_sections": [],
      "authorship_tag": "ABX9TyNJx4bC+dEoOhvD5DhpcRAh",
      "include_colab_link": true
    },
    "kernelspec": {
      "name": "python3",
      "display_name": "Python 3"
    },
    "accelerator": "TPU"
  },
  "cells": [
    {
      "cell_type": "markdown",
      "metadata": {
        "id": "view-in-github",
        "colab_type": "text"
      },
      "source": [
        "<a href=\"https://colab.research.google.com/github/neermesh/deep-learning/blob/master/tensorflow_LSTM.ipynb\" target=\"_parent\"><img src=\"https://colab.research.google.com/assets/colab-badge.svg\" alt=\"Open In Colab\"/></a>"
      ]
    },
    {
      "cell_type": "code",
      "metadata": {
        "id": "v7wyznk99oTu",
        "colab_type": "code",
        "colab": {}
      },
      "source": [
        "#from google.colab import drive\n",
        "#drive.mount('/content/gdrive')"
      ],
      "execution_count": 0,
      "outputs": []
    },
    {
      "cell_type": "code",
      "metadata": {
        "id": "4BSLf3PW9pXv",
        "colab_type": "code",
        "colab": {}
      },
      "source": [
        "import sys\n",
        "import warnings\n",
        "\n",
        "if not sys.warnoptions:\n",
        "    warnings.simplefilter('ignore')\n",
        "\n",
        "\n",
        "    \n",
        "import numpy as np\n",
        "import pandas as pd\n",
        "import tensorflow.compat.v1 as tf\n",
        "import matplotlib.pyplot as plt"
      ],
      "execution_count": 0,
      "outputs": []
    },
    {
      "cell_type": "code",
      "metadata": {
        "id": "1g7gM4pB-ixs",
        "colab_type": "code",
        "colab": {}
      },
      "source": [
        "#ls gdrive/My\\ Drive"
      ],
      "execution_count": 0,
      "outputs": []
    },
    {
      "cell_type": "code",
      "metadata": {
        "id": "3U5n-fqR-7f5",
        "colab_type": "code",
        "colab": {}
      },
      "source": [
        "#dataset_train = pd.read_csv('gdrive/My Drive/NSE-TATAGLOBAL.csv')\n",
        "#training_set = dataset_train.iloc[:,1:2].values"
      ],
      "execution_count": 0,
      "outputs": []
    },
    {
      "cell_type": "code",
      "metadata": {
        "id": "XocbmVu-RvZ2",
        "colab_type": "code",
        "colab": {}
      },
      "source": [
        "from pandas_datareader import data as pdr\n",
        "df = pdr.get_data_yahoo('CIPLA.NS')  \n"
      ],
      "execution_count": 0,
      "outputs": []
    },
    {
      "cell_type": "code",
      "metadata": {
        "id": "nHEVn4MITKGN",
        "colab_type": "code",
        "colab": {}
      },
      "source": [
        "df = df['Adj Close'].values"
      ],
      "execution_count": 0,
      "outputs": []
    },
    {
      "cell_type": "code",
      "metadata": {
        "id": "w7Nhyd2BTeEW",
        "colab_type": "code",
        "colab": {
          "base_uri": "https://localhost:8080/",
          "height": 52
        },
        "outputId": "d3123eee-e497-429c-9c71-19486df50148"
      },
      "source": [
        "df"
      ],
      "execution_count": 15,
      "outputs": [
        {
          "output_type": "execute_result",
          "data": {
            "text/plain": [
              "array([319.54006958, 313.81295776, 326.49798584, ..., 465.1499939 ,\n",
              "       464.45001221, 464.70001221])"
            ]
          },
          "metadata": {
            "tags": []
          },
          "execution_count": 15
        }
      ]
    },
    {
      "cell_type": "code",
      "metadata": {
        "id": "kQE5pNpa_Yoz",
        "colab_type": "code",
        "colab": {}
      },
      "source": [
        "from sklearn.preprocessing import MinMaxScaler\n",
        "sc = MinMaxScaler(feature_range=(0,1))\n",
        "dfsc = sc.fit_transform(df.reshape(-1, 1))"
      ],
      "execution_count": 0,
      "outputs": []
    },
    {
      "cell_type": "code",
      "metadata": {
        "id": "Ey3RlEXMtfy-",
        "colab_type": "code",
        "colab": {
          "base_uri": "https://localhost:8080/",
          "height": 139
        },
        "outputId": "0b32c885-1bd0-444e-ce0e-8e8e234fb2a0"
      },
      "source": [
        "dfsc"
      ],
      "execution_count": 21,
      "outputs": [
        {
          "output_type": "execute_result",
          "data": {
            "text/plain": [
              "array([[0.1185142 ],\n",
              "       [0.10611447],\n",
              "       [0.13357873],\n",
              "       ...,\n",
              "       [0.43377305],\n",
              "       [0.43225753],\n",
              "       [0.4327988 ]])"
            ]
          },
          "metadata": {
            "tags": []
          },
          "execution_count": 21
        }
      ]
    },
    {
      "cell_type": "code",
      "metadata": {
        "id": "R_GziWVDUFvp",
        "colab_type": "code",
        "colab": {
          "base_uri": "https://localhost:8080/",
          "height": 34
        },
        "outputId": "78d9c341-76bd-4238-ddfd-500645d93b47"
      },
      "source": [
        "test_size = 30\n",
        "simulation_size = 10\n",
        "\n",
        "df_train = dfsc[:-test_size]\n",
        "df_test = dfsc[-test_size:]\n",
        "df.shape, df_train.shape, df_test.shape"
      ],
      "execution_count": 23,
      "outputs": [
        {
          "output_type": "execute_result",
          "data": {
            "text/plain": [
              "((2480,), (2450, 1), (30, 1))"
            ]
          },
          "metadata": {
            "tags": []
          },
          "execution_count": 23
        }
      ]
    },
    {
      "cell_type": "code",
      "metadata": {
        "id": "r77iKvmKUF_f",
        "colab_type": "code",
        "colab": {}
      },
      "source": [
        "#HERE"
      ],
      "execution_count": 0,
      "outputs": []
    },
    {
      "cell_type": "code",
      "metadata": {
        "id": "vqFj2_oeUFse",
        "colab_type": "code",
        "colab": {}
      },
      "source": [
        ""
      ],
      "execution_count": 0,
      "outputs": []
    },
    {
      "cell_type": "code",
      "metadata": {
        "id": "qF5JkJxy_goQ",
        "colab_type": "code",
        "colab": {}
      },
      "source": [
        "X_train = []\n",
        "y_train = []\n",
        "for i in range(60,2035):\n",
        "    X_train.append(training_set_scaled[i-60:i,0])\n",
        "    y_train.append(training_set_scaled[i,0])\n",
        "X_train,y_train = np.array(X_train), np.array(y_train)"
      ],
      "execution_count": 0,
      "outputs": []
    },
    {
      "cell_type": "code",
      "metadata": {
        "id": "0EQFd6n_dliY",
        "colab_type": "code",
        "colab": {
          "base_uri": "https://localhost:8080/",
          "height": 243
        },
        "outputId": "cff0b960-0ed4-4584-a2a5-c8e7452d139a"
      },
      "source": [
        "X_train"
      ],
      "execution_count": 30,
      "outputs": [
        {
          "output_type": "execute_result",
          "data": {
            "text/plain": [
              "array([[0.6202352 , 0.62226277, 0.64436334, ..., 0.79622871, 0.81062449,\n",
              "        0.74371452],\n",
              "       [0.62226277, 0.64436334, 0.61719384, ..., 0.81062449, 0.74371452,\n",
              "        0.77007299],\n",
              "       [0.64436334, 0.61719384, 0.61820762, ..., 0.74371452, 0.77007299,\n",
              "        0.73641525],\n",
              "       ...,\n",
              "       [0.19870235, 0.21796431, 0.21553122, ..., 0.14963504, 0.14801298,\n",
              "        0.15815085],\n",
              "       [0.21796431, 0.21553122, 0.20600162, ..., 0.14801298, 0.15815085,\n",
              "        0.16504461],\n",
              "       [0.21553122, 0.20600162, 0.21654501, ..., 0.15815085, 0.16504461,\n",
              "        0.15896188]])"
            ]
          },
          "metadata": {
            "tags": []
          },
          "execution_count": 30
        }
      ]
    },
    {
      "cell_type": "code",
      "metadata": {
        "id": "6u2hXPLxd7Lv",
        "colab_type": "code",
        "colab": {
          "base_uri": "https://localhost:8080/",
          "height": 52
        },
        "outputId": "f0f36b83-0e5e-479d-e6e6-f01fbe104899"
      },
      "source": [
        "y_train"
      ],
      "execution_count": 31,
      "outputs": [
        {
          "output_type": "execute_result",
          "data": {
            "text/plain": [
              "array([0.77007299, 0.73641525, 0.73763179, ..., 0.16504461, 0.15896188,\n",
              "       0.16626115])"
            ]
          },
          "metadata": {
            "tags": []
          },
          "execution_count": 31
        }
      ]
    },
    {
      "cell_type": "code",
      "metadata": {
        "id": "lGmdmlPS_juK",
        "colab_type": "code",
        "colab": {}
      },
      "source": [
        "X_train = np.reshape(X_train, (X_train.shape[0], X_train.shape[1], 1))"
      ],
      "execution_count": 0,
      "outputs": []
    },
    {
      "cell_type": "code",
      "metadata": {
        "id": "OYLMmTXQ_obD",
        "colab_type": "code",
        "colab": {}
      },
      "source": [
        "from tensorflow.keras import layers"
      ],
      "execution_count": 0,
      "outputs": []
    },
    {
      "cell_type": "code",
      "metadata": {
        "id": "kr8n8F1LVFEH",
        "colab_type": "code",
        "colab": {
          "base_uri": "https://localhost:8080/",
          "height": 89
        },
        "outputId": "6dbd12a6-4877-4caf-c1f7-6ab222cec361"
      },
      "source": [
        "\n",
        "\n",
        "regressor = tf.keras.Sequential()\n",
        "#regressor.add(layers.Bidirectional(layers.CuDNNLSTM(256, return_sequences=True), \n",
        "#                               input_shape=(X_train.shape[1],1)))\n",
        "\n",
        "regressor.add(layers.LSTM(32, input_shape=(X_train.shape[1],1), return_sequences=True))\n",
        "regressor.add(layers.Dropout(0.2))\n",
        "\n",
        "\n",
        "\n",
        "\n",
        "regressor.add(layers.LSTM(4, return_sequences=True))\n",
        "regressor.add(layers.Dropout(0.2))\n",
        "\n",
        "regressor.add(layers.Flatten())\n",
        "\n",
        "regressor.add(layers.Dense(1))\n",
        "regressor.compile(optimizer='adam',loss='mean_squared_error')"
      ],
      "execution_count": 8,
      "outputs": [
        {
          "output_type": "stream",
          "text": [
            "WARNING:tensorflow:From /usr/local/lib/python3.6/dist-packages/tensorflow_core/python/ops/resource_variable_ops.py:1630: calling BaseResourceVariable.__init__ (from tensorflow.python.ops.resource_variable_ops) with constraint is deprecated and will be removed in a future version.\n",
            "Instructions for updating:\n",
            "If using Keras pass *_constraint arguments to layers.\n"
          ],
          "name": "stdout"
        }
      ]
    },
    {
      "cell_type": "code",
      "metadata": {
        "id": "aHuRiu7h0jx1",
        "colab_type": "code",
        "outputId": "98832b94-1dbb-40c2-aae3-451cfc86b36c",
        "colab": {
          "base_uri": "https://localhost:8080/",
          "height": 364
        }
      },
      "source": [
        "regressor.summary()"
      ],
      "execution_count": 9,
      "outputs": [
        {
          "output_type": "stream",
          "text": [
            "Model: \"sequential\"\n",
            "_________________________________________________________________\n",
            "Layer (type)                 Output Shape              Param #   \n",
            "=================================================================\n",
            "lstm (LSTM)                  (None, 60, 32)            4352      \n",
            "_________________________________________________________________\n",
            "dropout (Dropout)            (None, 60, 32)            0         \n",
            "_________________________________________________________________\n",
            "lstm_1 (LSTM)                (None, 60, 4)             592       \n",
            "_________________________________________________________________\n",
            "dropout_1 (Dropout)          (None, 60, 4)             0         \n",
            "_________________________________________________________________\n",
            "flatten (Flatten)            (None, 240)               0         \n",
            "_________________________________________________________________\n",
            "dense (Dense)                (None, 1)                 241       \n",
            "=================================================================\n",
            "Total params: 5,185\n",
            "Trainable params: 5,185\n",
            "Non-trainable params: 0\n",
            "_________________________________________________________________\n"
          ],
          "name": "stdout"
        }
      ]
    },
    {
      "cell_type": "code",
      "metadata": {
        "id": "9BXcQ84e11AK",
        "colab_type": "code",
        "outputId": "ed77aef6-7cf6-4d6d-8cd7-31511a0d5991",
        "colab": {
          "base_uri": "https://localhost:8080/",
          "height": 1000
        }
      },
      "source": [
        "regressor.fit(X_train,y_train,epochs=30,batch_size=32,validation_split=0.2)"
      ],
      "execution_count": 10,
      "outputs": [
        {
          "output_type": "stream",
          "text": [
            "WARNING:tensorflow:From /usr/local/lib/python3.6/dist-packages/tensorflow_core/python/ops/math_grad.py:1424: where (from tensorflow.python.ops.array_ops) is deprecated and will be removed in a future version.\n",
            "Instructions for updating:\n",
            "Use tf.where in 2.0, which has the same broadcast rule as np.where\n",
            "Train on 1580 samples, validate on 395 samples\n",
            "Epoch 1/30\n",
            "1580/1580 [==============================] - 6s 4ms/sample - loss: 0.0335 - val_loss: 0.0054\n",
            "Epoch 2/30\n",
            "1580/1580 [==============================] - 4s 3ms/sample - loss: 0.0108 - val_loss: 0.0046\n",
            "Epoch 3/30\n",
            "1580/1580 [==============================] - 4s 3ms/sample - loss: 0.0093 - val_loss: 0.0057\n",
            "Epoch 4/30\n",
            "1580/1580 [==============================] - 4s 3ms/sample - loss: 0.0080 - val_loss: 0.0035\n",
            "Epoch 5/30\n",
            "1580/1580 [==============================] - 4s 3ms/sample - loss: 0.0071 - val_loss: 0.0046\n",
            "Epoch 6/30\n",
            "1580/1580 [==============================] - 4s 3ms/sample - loss: 0.0069 - val_loss: 0.0034\n",
            "Epoch 7/30\n",
            "1580/1580 [==============================] - 4s 3ms/sample - loss: 0.0066 - val_loss: 0.0033\n",
            "Epoch 8/30\n",
            "1580/1580 [==============================] - 4s 3ms/sample - loss: 0.0063 - val_loss: 0.0029\n",
            "Epoch 9/30\n",
            "1580/1580 [==============================] - 4s 3ms/sample - loss: 0.0061 - val_loss: 0.0027\n",
            "Epoch 10/30\n",
            "1580/1580 [==============================] - 4s 3ms/sample - loss: 0.0059 - val_loss: 0.0028\n",
            "Epoch 11/30\n",
            "1580/1580 [==============================] - 4s 3ms/sample - loss: 0.0054 - val_loss: 0.0024\n",
            "Epoch 12/30\n",
            "1580/1580 [==============================] - 4s 3ms/sample - loss: 0.0050 - val_loss: 0.0023\n",
            "Epoch 13/30\n",
            "1580/1580 [==============================] - 4s 3ms/sample - loss: 0.0045 - val_loss: 0.0031\n",
            "Epoch 14/30\n",
            "1580/1580 [==============================] - 4s 3ms/sample - loss: 0.0048 - val_loss: 0.0020\n",
            "Epoch 15/30\n",
            "1580/1580 [==============================] - 4s 3ms/sample - loss: 0.0043 - val_loss: 0.0022\n",
            "Epoch 16/30\n",
            "1580/1580 [==============================] - 4s 3ms/sample - loss: 0.0040 - val_loss: 0.0023\n",
            "Epoch 17/30\n",
            "1580/1580 [==============================] - 4s 3ms/sample - loss: 0.0038 - val_loss: 0.0020\n",
            "Epoch 18/30\n",
            "1580/1580 [==============================] - 4s 3ms/sample - loss: 0.0038 - val_loss: 0.0017\n",
            "Epoch 19/30\n",
            "1580/1580 [==============================] - 4s 3ms/sample - loss: 0.0036 - val_loss: 0.0031\n",
            "Epoch 20/30\n",
            "1580/1580 [==============================] - 4s 3ms/sample - loss: 0.0037 - val_loss: 0.0017\n",
            "Epoch 21/30\n",
            "1580/1580 [==============================] - 4s 3ms/sample - loss: 0.0035 - val_loss: 0.0022\n",
            "Epoch 22/30\n",
            "1580/1580 [==============================] - 4s 3ms/sample - loss: 0.0031 - val_loss: 0.0016\n",
            "Epoch 23/30\n",
            "1580/1580 [==============================] - 4s 3ms/sample - loss: 0.0031 - val_loss: 0.0019\n",
            "Epoch 24/30\n",
            "1580/1580 [==============================] - 4s 3ms/sample - loss: 0.0030 - val_loss: 0.0028\n",
            "Epoch 25/30\n",
            "1580/1580 [==============================] - 4s 3ms/sample - loss: 0.0035 - val_loss: 0.0018\n",
            "Epoch 26/30\n",
            "1580/1580 [==============================] - 4s 3ms/sample - loss: 0.0029 - val_loss: 0.0015\n",
            "Epoch 27/30\n",
            "1580/1580 [==============================] - 4s 3ms/sample - loss: 0.0031 - val_loss: 0.0014\n",
            "Epoch 28/30\n",
            "1580/1580 [==============================] - 4s 3ms/sample - loss: 0.0029 - val_loss: 0.0014\n",
            "Epoch 29/30\n",
            "1580/1580 [==============================] - 4s 3ms/sample - loss: 0.0028 - val_loss: 0.0018\n",
            "Epoch 30/30\n",
            "1580/1580 [==============================] - 5s 3ms/sample - loss: 0.0027 - val_loss: 0.0026\n"
          ],
          "name": "stdout"
        },
        {
          "output_type": "execute_result",
          "data": {
            "text/plain": [
              "<tensorflow.python.keras.callbacks.History at 0x7fb0f8102f60>"
            ]
          },
          "metadata": {
            "tags": []
          },
          "execution_count": 10
        }
      ]
    },
    {
      "cell_type": "code",
      "metadata": {
        "id": "cqb-K1Fc2BpV",
        "colab_type": "code",
        "colab": {}
      },
      "source": [
        ""
      ],
      "execution_count": 0,
      "outputs": []
    },
    {
      "cell_type": "code",
      "metadata": {
        "id": "G4pe3uVe3Q2J",
        "colab_type": "code",
        "colab": {}
      },
      "source": [
        ""
      ],
      "execution_count": 0,
      "outputs": []
    },
    {
      "cell_type": "code",
      "metadata": {
        "id": "9I6LOhtS3RCz",
        "colab_type": "code",
        "colab": {}
      },
      "source": [
        ""
      ],
      "execution_count": 0,
      "outputs": []
    },
    {
      "cell_type": "code",
      "metadata": {
        "id": "UjK7j2IM3RMp",
        "colab_type": "code",
        "colab": {}
      },
      "source": [
        "dataset_test = pd.read_csv('gdrive/My Drive/tatatest.csv')\n",
        "real_stock_price = dataset_test.iloc[:,1:2].values"
      ],
      "execution_count": 0,
      "outputs": []
    },
    {
      "cell_type": "code",
      "metadata": {
        "id": "ofLgZEqx3S7g",
        "colab_type": "code",
        "colab": {}
      },
      "source": [
        "dataset_total = pd.concat((dataset_train['Open'],dataset_test['Open']),axis=0)\n",
        "inputs = dataset_total[len(dataset_total)- len(dataset_test)-60:].values\n",
        "inputs = inputs.reshape(-1,1)\n",
        "inputs = sc.transform(inputs)\n",
        "X_test = []\n",
        "for i in range(60,76):\n",
        "    X_test.append(inputs[i-60:i,0])\n",
        "X_test = np.array(X_test)\n",
        "X_test = np.reshape(X_test,(X_test.shape[0],X_test.shape[1],1))\n",
        "predicted_stock_price = regressor.predict(X_test)\n",
        "predicted_stock_price = sc.inverse_transform(predicted_stock_price)"
      ],
      "execution_count": 0,
      "outputs": []
    },
    {
      "cell_type": "code",
      "metadata": {
        "id": "cdTp81rQ3WYo",
        "colab_type": "code",
        "outputId": "69bce5f5-b253-49ee-b596-9aade7966d3f",
        "colab": {
          "base_uri": "https://localhost:8080/",
          "height": 295
        }
      },
      "source": [
        "\n",
        "\n",
        "# Visualising the results\n",
        "plt.plot(real_stock_price, color = 'red', label = 'Real TATA Stock Price')\n",
        "plt.plot(predicted_stock_price, color = 'blue', label = 'Predicted TATA Stock Price')\n",
        "plt.title('TATA Stock Price Prediction')\n",
        "plt.xlabel('Time')\n",
        "plt.ylabel('TATA Stock Price')\n",
        "plt.legend()\n",
        "plt.show()"
      ],
      "execution_count": 0,
      "outputs": [
        {
          "output_type": "display_data",
          "data": {
            "image/png": "[encoded data removed]",
            "text/plain": [
              "<Figure size 432x288 with 1 Axes>"
            ]
          },
          "metadata": {
            "tags": []
          }
        }
      ]
    },
    {
      "cell_type": "code",
      "metadata": {
        "id": "KK4CacP83ZpP",
        "colab_type": "code",
        "outputId": "84a0111a-1160-413b-9685-6217f5a6e409",
        "colab": {
          "base_uri": "https://localhost:8080/",
          "height": 551
        }
      },
      "source": [
        "pd.DataFrame({'real':real_stock_price.tolist(),'predicted':predicted_stock_price.tolist()})"
      ],
      "execution_count": 0,
      "outputs": [
        {
          "output_type": "execute_result",
          "data": {
            "text/html": [
              "<div>\n",
              "<style scoped>\n",
              "    .dataframe tbody tr th:only-of-type {\n",
              "        vertical-align: middle;\n",
              "    }\n",
              "\n",
              "    .dataframe tbody tr th {\n",
              "        vertical-align: top;\n",
              "    }\n",
              "\n",
              "    .dataframe thead th {\n",
              "        text-align: right;\n",
              "    }\n",
              "</style>\n",
              "<table border=\"1\" class=\"dataframe\">\n",
              "  <thead>\n",
              "    <tr style=\"text-align: right;\">\n",
              "      <th></th>\n",
              "      <th>real</th>\n",
              "      <th>predicted</th>\n",
              "    </tr>\n",
              "  </thead>\n",
              "  <tbody>\n",
              "    <tr>\n",
              "      <th>0</th>\n",
              "      <td>[220.1]</td>\n",
              "      <td>[118.64737701416016]</td>\n",
              "    </tr>\n",
              "    <tr>\n",
              "      <th>1</th>\n",
              "      <td>[221.1]</td>\n",
              "      <td>[120.67568969726562]</td>\n",
              "    </tr>\n",
              "    <tr>\n",
              "      <th>2</th>\n",
              "      <td>[229.45]</td>\n",
              "      <td>[125.53271484375]</td>\n",
              "    </tr>\n",
              "    <tr>\n",
              "      <th>3</th>\n",
              "      <td>[230.3]</td>\n",
              "      <td>[133.1756134033203]</td>\n",
              "    </tr>\n",
              "    <tr>\n",
              "      <th>4</th>\n",
              "      <td>[237.7]</td>\n",
              "      <td>[143.20205688476562]</td>\n",
              "    </tr>\n",
              "    <tr>\n",
              "      <th>5</th>\n",
              "      <td>[237.1]</td>\n",
              "      <td>[154.78924560546875]</td>\n",
              "    </tr>\n",
              "    <tr>\n",
              "      <th>6</th>\n",
              "      <td>[229.7]</td>\n",
              "      <td>[166.8763427734375]</td>\n",
              "    </tr>\n",
              "    <tr>\n",
              "      <th>7</th>\n",
              "      <td>[226.25]</td>\n",
              "      <td>[178.84393310546875]</td>\n",
              "    </tr>\n",
              "    <tr>\n",
              "      <th>8</th>\n",
              "      <td>[215.0]</td>\n",
              "      <td>[189.8040008544922]</td>\n",
              "    </tr>\n",
              "    <tr>\n",
              "      <th>9</th>\n",
              "      <td>[215.0]</td>\n",
              "      <td>[198.9826202392578]</td>\n",
              "    </tr>\n",
              "    <tr>\n",
              "      <th>10</th>\n",
              "      <td>[215.5]</td>\n",
              "      <td>[205.7816925048828]</td>\n",
              "    </tr>\n",
              "    <tr>\n",
              "      <th>11</th>\n",
              "      <td>[208.0]</td>\n",
              "      <td>[210.05926513671875]</td>\n",
              "    </tr>\n",
              "    <tr>\n",
              "      <th>12</th>\n",
              "      <td>[217.0]</td>\n",
              "      <td>[212.10499572753906]</td>\n",
              "    </tr>\n",
              "    <tr>\n",
              "      <th>13</th>\n",
              "      <td>[223.5]</td>\n",
              "      <td>[212.72354125976562]</td>\n",
              "    </tr>\n",
              "    <tr>\n",
              "      <th>14</th>\n",
              "      <td>[230.0]</td>\n",
              "      <td>[212.01507568359375]</td>\n",
              "    </tr>\n",
              "    <tr>\n",
              "      <th>15</th>\n",
              "      <td>[234.55]</td>\n",
              "      <td>[210.72955322265625]</td>\n",
              "    </tr>\n",
              "  </tbody>\n",
              "</table>\n",
              "</div>"
            ],
            "text/plain": [
              "        real             predicted\n",
              "0    [220.1]  [118.64737701416016]\n",
              "1    [221.1]  [120.67568969726562]\n",
              "2   [229.45]     [125.53271484375]\n",
              "3    [230.3]   [133.1756134033203]\n",
              "4    [237.7]  [143.20205688476562]\n",
              "5    [237.1]  [154.78924560546875]\n",
              "6    [229.7]   [166.8763427734375]\n",
              "7   [226.25]  [178.84393310546875]\n",
              "8    [215.0]   [189.8040008544922]\n",
              "9    [215.0]   [198.9826202392578]\n",
              "10   [215.5]   [205.7816925048828]\n",
              "11   [208.0]  [210.05926513671875]\n",
              "12   [217.0]  [212.10499572753906]\n",
              "13   [223.5]  [212.72354125976562]\n",
              "14   [230.0]  [212.01507568359375]\n",
              "15  [234.55]  [210.72955322265625]"
            ]
          },
          "metadata": {
            "tags": []
          },
          "execution_count": 23
        }
      ]
    },
    {
      "cell_type": "code",
      "metadata": {
        "id": "IM-bmT2n7dyt",
        "colab_type": "code",
        "colab": {}
      },
      "source": [
        ""
      ],
      "execution_count": 0,
      "outputs": []
    }
  ]
}